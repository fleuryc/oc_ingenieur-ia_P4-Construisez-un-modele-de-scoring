{
 "cells": [
  {
   "cell_type": "markdown",
   "source": [
    "# Prêt à dépenser : Construire un modèle de scoring\n",
    "\n",
    "\n",
    "## Contexte\n",
    "\n",
    "\"Prêt à dépenser\" (Home Credit) est une société financière qui propose des crédits à la consommation pour des personnes ayant peu ou pas d'historique de prêt.\n",
    "Pour accorder un crédit à la consommation, l'entreprise calcule la probabilité qu'un client le rembourse, ou non. Elle souhaite donc développer un algorithme de scoring pour aider à décider si un prêt peut être accordé à un client.\n",
    "\n",
    "Les chargés de relation client seront les utilisateurs du modèle de scoring. Puisqu'ils s'adressent aux clients, ils ont besoin que votre modèle soit facilement interprétable. Les chargés de relation souhaitent, en plus, disposer d'une mesure de l'importance des variables qui ont poussé le modèle à donner cette probabilité à un client.\n"
   ],
   "metadata": {}
  },
  {
   "cell_type": "markdown",
   "source": [
    "## Chargement des modules du projet\n",
    "\n",
    "Afin de simplifier le Notebook, le code métier du projet est placé dans le répertoire [src/](../src/).\n"
   ],
   "metadata": {}
  },
  {
   "cell_type": "code",
   "execution_count": 1,
   "source": [
    "# Import project modules from source directory\n",
    "\n",
    "# Hide warnings\n",
    "import warnings\n",
    "warnings.simplefilter(action='ignore', category=UserWarning)\n",
    "\n",
    "# System modules\n",
    "import os\n",
    "import sys\n",
    "\n",
    "# Append source directory to system path\n",
    "src_path = os.path.abspath(os.path.join(\"../src\"))\n",
    "if src_path not in sys.path:\n",
    "    sys.path.append(src_path)\n",
    "\n",
    "# Helper functions\n",
    "import data.helpers as data_helpers\n",
    "import features.helpers as feat_helpers\n",
    "import visualization.helpers as vis_helpers\n",
    "import models.helpers as models_helpers\n",
    "\n"
   ],
   "outputs": [],
   "metadata": {}
  },
  {
   "cell_type": "markdown",
   "source": [
    "Nous allons utiliser le langage [Python](https://www.python.org/about/gettingstarted/), et présenter ici le code, les résultats et l'analyse sous forme de [Notebook JupyterLab](https://jupyterlab.readthedocs.io/en/stable/getting_started/overview.html).\n",
    "\n",
    "Nous allons aussi utiliser les bibliothèques usuelles d'exploration et analyse de données, afin d'améliorer la simplicité et la performance de notre code :\n",
    "  * [NumPy](https://numpy.org/doc/stable/user/quickstart.html) et [Pandas](https://pandas.pydata.org/docs/user_guide/index.html) : effectuer des calculs scientifiques (statistiques, algèbre, ...) et manipuler des séries et tableaux de données volumineuses et complexes\n",
    "  * [scikit-learn](https://scikit-learn.org/stable/getting_started.html) et [XGBoost](https://xgboost.readthedocs.io/en/latest/get_started.html) : pour effectuer des analyses prédictives \n",
    "  * [Matplotlib](https://matplotlib.org/stable/tutorials/introductory/usage.html), [Pyplot](https://matplotlib.org/stable/tutorials/introductory/pyplot.html), [Seaborn](https://seaborn.pydata.org/tutorial/function_overview.html) et [Plotly](https://plotly.com/python/getting-started/) : générer des graphiques lisibles, intéractifs et pertinents\n"
   ],
   "metadata": {}
  },
  {
   "cell_type": "code",
   "execution_count": 2,
   "source": [
    "# numpy and pandas for data manipulation\n",
    "import numpy as np\n",
    "import pandas as pd\n",
    "\n",
    "# sklearn preprocessing for dealing with categorical variables\n",
    "from sklearn.model_selection import train_test_split\n",
    "\n",
    "# matplotlib and seaborn for plotting\n",
    "import matplotlib.pyplot as plt\n",
    "import seaborn as sns\n",
    "import plotly.express as px\n",
    "import plotly.graph_objects as go\n",
    "\n",
    "# Accelerate the development cycle\n",
    "SAMPLE_FRAC: float = 1\n",
    "\n",
    "# Prevent excessive memory usage used by plotly\n",
    "DRAW_PLOTS: bool = False\n"
   ],
   "outputs": [],
   "metadata": {}
  },
  {
   "cell_type": "markdown",
   "source": [
    "## Chargement des données\n",
    "\n",
    "Les données mises à disposition sont issues de [Home Credit](https://www.homecredit.net/) et plus précisément de la compétition hébergée sur Kaggle [Home Credit Default Risk - Can you predict how capable each applicant is of repaying a loan?](https://www.kaggle.com/c/home-credit-default-risk)\n",
    "\n",
    "Les données sont fournies sous la forme de plusieurs fichiers CSV pouvant être liés entre eux de la manière suivante :\n",
    "\n",
    "![Home Credit data relations](https://storage.googleapis.com/kaggle-media/competitions/home-credit/home_credit.png)\n",
    "\n",
    "_source : [Introduction: Home Credit Default Risk Competition](https://www.kaggle.com/willkoehrsen/start-here-a-gentle-introduction) by [Will Koehrsen](https://www.kaggle.com/willkoehrsen)_\n"
   ],
   "metadata": {}
  },
  {
   "cell_type": "code",
   "execution_count": 3,
   "source": [
    "# Download and extract the raw data\n",
    "data_helpers.download_extract_zip(\n",
    "    zip_file_url=\"https://s3-eu-west-1.amazonaws.com/static.oc-static.com/prod/courses/files/Parcours_data_scientist/Projet+-+Impl%C3%A9menter+un+mod%C3%A8le+de+scoring/Projet+Mise+en+prod+-+home-credit-default-risk.zip\",\n",
    "    files_names=(\n",
    "        \"application_test.csv\",\n",
    "        \"application_train.csv\",\n",
    "        \"bureau_balance.csv\",\n",
    "        \"bureau.csv\",\n",
    "        \"credit_card_balance.csv\",\n",
    "        \"installments_payments.csv\",\n",
    "        \"POS_CASH_balance.csv\",\n",
    "        \"previous_application.csv\",\n",
    "    ),\n",
    "    target_path=\"../data/raw/\",\n",
    ")\n"
   ],
   "outputs": [],
   "metadata": {}
  },
  {
   "cell_type": "markdown",
   "source": [
    "Nous allons charger toutes les données du fichier `application_train.csv` afin de travailler préparer les données du jeu d'entraînement et de test (variable `TARGET` vaut `O` : le client n'a pas fait défaut ou `1` : le client a fait défaut). Nous les séparerons les jeux de données au moment de l'entraînement et évaluation de nos modèles.\n",
    "\n",
    "Les fichiers contiennent un grand nombre de variables booléennes et catégorielles que nous pouvons déjà typer comme telles.\n"
   ],
   "metadata": {}
  },
  {
   "cell_type": "code",
   "execution_count": 4,
   "source": [
    "# Read column names\n",
    "application_train_column_names = pd.read_csv(\n",
    "    \"../data/raw/application_train.csv\", nrows=0\n",
    ").columns.values\n",
    "\n",
    "# TARGET variable must be present in the Train datase\n",
    "if \"TARGET\" not in application_train_column_names:\n",
    "    raise ValueError(\n",
    "        \"TARGET column not found in application_train.csv. Please check that the file is not corrupted.\"\n",
    "    )\n",
    "\n",
    "# SK_ID_CURR variable must be present in the Train datase\n",
    "if \"SK_ID_CURR\" not in application_train_column_names:\n",
    "    raise ValueError(\n",
    "        \"SK_ID_CURR column not found in application_train_column_names.csv. Please check that the file is not corrupted.\"\n",
    "    )\n",
    "\n",
    "# Set column types according to fields description (../data/raw/HomeCredit_columns_description.csv)\n",
    "# Categorical variables\n",
    "column_types = {\n",
    "    col: \"category\"\n",
    "    for col in application_train_column_names\n",
    "    if col.startswith((\"NAME_\",))\n",
    "    or col.endswith((\"_TYPE\"))\n",
    "    or col\n",
    "    in [\n",
    "        \"CODE_GENDER\",\n",
    "        \"WEEKDAY_APPR_PROCESS_START\",\n",
    "        \"FONDKAPREMONT_MODE\",\n",
    "        \"HOUSETYPE_MODE\",\n",
    "        \"WALLSMATERIAL_MODE\",\n",
    "        \"EMERGENCYSTATE_MODE\",\n",
    "    ]\n",
    "}\n",
    "# Boolean variables\n",
    "column_types |= {\n",
    "    col: bool\n",
    "    for col in application_train_column_names\n",
    "    if col.startswith((\"FLAG_\", \"REG_\", \"LIVE_\"))\n",
    "}\n",
    "\n",
    "# Load application data\n",
    "app_df = pd.read_csv(\n",
    "    \"../data/raw/application_train.csv\",\n",
    "    dtype=column_types,\n",
    "    true_values=[\"Y\", \"Yes\", \"1\"],\n",
    "    false_values=[\"N\", \"No\", \"0\"],\n",
    "    na_values=[\"XNA\"], # bad values\n",
    ")\n",
    "\n",
    "# Sample to speed up development\n",
    "if  float == type(SAMPLE_FRAC) and 0 < SAMPLE_FRAC < 1:\n",
    "    app_df = app_df.sample(frac=SAMPLE_FRAC)\n",
    "\n",
    "# Let's display basic statistical info about the data\n",
    "app_df.describe(include=\"all\")\n"
   ],
   "outputs": [
    {
     "output_type": "execute_result",
     "data": {
      "text/html": [
       "<div>\n",
       "<style scoped>\n",
       "    .dataframe tbody tr th:only-of-type {\n",
       "        vertical-align: middle;\n",
       "    }\n",
       "\n",
       "    .dataframe tbody tr th {\n",
       "        vertical-align: top;\n",
       "    }\n",
       "\n",
       "    .dataframe thead th {\n",
       "        text-align: right;\n",
       "    }\n",
       "</style>\n",
       "<table border=\"1\" class=\"dataframe\">\n",
       "  <thead>\n",
       "    <tr style=\"text-align: right;\">\n",
       "      <th></th>\n",
       "      <th>SK_ID_CURR</th>\n",
       "      <th>TARGET</th>\n",
       "      <th>NAME_CONTRACT_TYPE</th>\n",
       "      <th>CODE_GENDER</th>\n",
       "      <th>FLAG_OWN_CAR</th>\n",
       "      <th>FLAG_OWN_REALTY</th>\n",
       "      <th>CNT_CHILDREN</th>\n",
       "      <th>AMT_INCOME_TOTAL</th>\n",
       "      <th>AMT_CREDIT</th>\n",
       "      <th>AMT_ANNUITY</th>\n",
       "      <th>...</th>\n",
       "      <th>FLAG_DOCUMENT_18</th>\n",
       "      <th>FLAG_DOCUMENT_19</th>\n",
       "      <th>FLAG_DOCUMENT_20</th>\n",
       "      <th>FLAG_DOCUMENT_21</th>\n",
       "      <th>AMT_REQ_CREDIT_BUREAU_HOUR</th>\n",
       "      <th>AMT_REQ_CREDIT_BUREAU_DAY</th>\n",
       "      <th>AMT_REQ_CREDIT_BUREAU_WEEK</th>\n",
       "      <th>AMT_REQ_CREDIT_BUREAU_MON</th>\n",
       "      <th>AMT_REQ_CREDIT_BUREAU_QRT</th>\n",
       "      <th>AMT_REQ_CREDIT_BUREAU_YEAR</th>\n",
       "    </tr>\n",
       "  </thead>\n",
       "  <tbody>\n",
       "    <tr>\n",
       "      <th>count</th>\n",
       "      <td>307511.000000</td>\n",
       "      <td>307511.000000</td>\n",
       "      <td>307511</td>\n",
       "      <td>307507</td>\n",
       "      <td>307511</td>\n",
       "      <td>307511</td>\n",
       "      <td>307511.000000</td>\n",
       "      <td>3.075110e+05</td>\n",
       "      <td>3.075110e+05</td>\n",
       "      <td>307499.000000</td>\n",
       "      <td>...</td>\n",
       "      <td>307511</td>\n",
       "      <td>307511</td>\n",
       "      <td>307511</td>\n",
       "      <td>307511</td>\n",
       "      <td>265992.000000</td>\n",
       "      <td>265992.000000</td>\n",
       "      <td>265992.000000</td>\n",
       "      <td>265992.000000</td>\n",
       "      <td>265992.000000</td>\n",
       "      <td>265992.000000</td>\n",
       "    </tr>\n",
       "    <tr>\n",
       "      <th>unique</th>\n",
       "      <td>NaN</td>\n",
       "      <td>NaN</td>\n",
       "      <td>2</td>\n",
       "      <td>2</td>\n",
       "      <td>2</td>\n",
       "      <td>2</td>\n",
       "      <td>NaN</td>\n",
       "      <td>NaN</td>\n",
       "      <td>NaN</td>\n",
       "      <td>NaN</td>\n",
       "      <td>...</td>\n",
       "      <td>2</td>\n",
       "      <td>2</td>\n",
       "      <td>2</td>\n",
       "      <td>2</td>\n",
       "      <td>NaN</td>\n",
       "      <td>NaN</td>\n",
       "      <td>NaN</td>\n",
       "      <td>NaN</td>\n",
       "      <td>NaN</td>\n",
       "      <td>NaN</td>\n",
       "    </tr>\n",
       "    <tr>\n",
       "      <th>top</th>\n",
       "      <td>NaN</td>\n",
       "      <td>NaN</td>\n",
       "      <td>Cash loans</td>\n",
       "      <td>F</td>\n",
       "      <td>False</td>\n",
       "      <td>True</td>\n",
       "      <td>NaN</td>\n",
       "      <td>NaN</td>\n",
       "      <td>NaN</td>\n",
       "      <td>NaN</td>\n",
       "      <td>...</td>\n",
       "      <td>False</td>\n",
       "      <td>False</td>\n",
       "      <td>False</td>\n",
       "      <td>False</td>\n",
       "      <td>NaN</td>\n",
       "      <td>NaN</td>\n",
       "      <td>NaN</td>\n",
       "      <td>NaN</td>\n",
       "      <td>NaN</td>\n",
       "      <td>NaN</td>\n",
       "    </tr>\n",
       "    <tr>\n",
       "      <th>freq</th>\n",
       "      <td>NaN</td>\n",
       "      <td>NaN</td>\n",
       "      <td>278232</td>\n",
       "      <td>202448</td>\n",
       "      <td>202924</td>\n",
       "      <td>213312</td>\n",
       "      <td>NaN</td>\n",
       "      <td>NaN</td>\n",
       "      <td>NaN</td>\n",
       "      <td>NaN</td>\n",
       "      <td>...</td>\n",
       "      <td>305011</td>\n",
       "      <td>307328</td>\n",
       "      <td>307355</td>\n",
       "      <td>307408</td>\n",
       "      <td>NaN</td>\n",
       "      <td>NaN</td>\n",
       "      <td>NaN</td>\n",
       "      <td>NaN</td>\n",
       "      <td>NaN</td>\n",
       "      <td>NaN</td>\n",
       "    </tr>\n",
       "    <tr>\n",
       "      <th>mean</th>\n",
       "      <td>278180.518577</td>\n",
       "      <td>0.080729</td>\n",
       "      <td>NaN</td>\n",
       "      <td>NaN</td>\n",
       "      <td>NaN</td>\n",
       "      <td>NaN</td>\n",
       "      <td>0.417052</td>\n",
       "      <td>1.687979e+05</td>\n",
       "      <td>5.990260e+05</td>\n",
       "      <td>27108.573909</td>\n",
       "      <td>...</td>\n",
       "      <td>NaN</td>\n",
       "      <td>NaN</td>\n",
       "      <td>NaN</td>\n",
       "      <td>NaN</td>\n",
       "      <td>0.006402</td>\n",
       "      <td>0.007000</td>\n",
       "      <td>0.034362</td>\n",
       "      <td>0.267395</td>\n",
       "      <td>0.265474</td>\n",
       "      <td>1.899974</td>\n",
       "    </tr>\n",
       "    <tr>\n",
       "      <th>std</th>\n",
       "      <td>102790.175348</td>\n",
       "      <td>0.272419</td>\n",
       "      <td>NaN</td>\n",
       "      <td>NaN</td>\n",
       "      <td>NaN</td>\n",
       "      <td>NaN</td>\n",
       "      <td>0.722121</td>\n",
       "      <td>2.371231e+05</td>\n",
       "      <td>4.024908e+05</td>\n",
       "      <td>14493.737315</td>\n",
       "      <td>...</td>\n",
       "      <td>NaN</td>\n",
       "      <td>NaN</td>\n",
       "      <td>NaN</td>\n",
       "      <td>NaN</td>\n",
       "      <td>0.083849</td>\n",
       "      <td>0.110757</td>\n",
       "      <td>0.204685</td>\n",
       "      <td>0.916002</td>\n",
       "      <td>0.794056</td>\n",
       "      <td>1.869295</td>\n",
       "    </tr>\n",
       "    <tr>\n",
       "      <th>min</th>\n",
       "      <td>100002.000000</td>\n",
       "      <td>0.000000</td>\n",
       "      <td>NaN</td>\n",
       "      <td>NaN</td>\n",
       "      <td>NaN</td>\n",
       "      <td>NaN</td>\n",
       "      <td>0.000000</td>\n",
       "      <td>2.565000e+04</td>\n",
       "      <td>4.500000e+04</td>\n",
       "      <td>1615.500000</td>\n",
       "      <td>...</td>\n",
       "      <td>NaN</td>\n",
       "      <td>NaN</td>\n",
       "      <td>NaN</td>\n",
       "      <td>NaN</td>\n",
       "      <td>0.000000</td>\n",
       "      <td>0.000000</td>\n",
       "      <td>0.000000</td>\n",
       "      <td>0.000000</td>\n",
       "      <td>0.000000</td>\n",
       "      <td>0.000000</td>\n",
       "    </tr>\n",
       "    <tr>\n",
       "      <th>25%</th>\n",
       "      <td>189145.500000</td>\n",
       "      <td>0.000000</td>\n",
       "      <td>NaN</td>\n",
       "      <td>NaN</td>\n",
       "      <td>NaN</td>\n",
       "      <td>NaN</td>\n",
       "      <td>0.000000</td>\n",
       "      <td>1.125000e+05</td>\n",
       "      <td>2.700000e+05</td>\n",
       "      <td>16524.000000</td>\n",
       "      <td>...</td>\n",
       "      <td>NaN</td>\n",
       "      <td>NaN</td>\n",
       "      <td>NaN</td>\n",
       "      <td>NaN</td>\n",
       "      <td>0.000000</td>\n",
       "      <td>0.000000</td>\n",
       "      <td>0.000000</td>\n",
       "      <td>0.000000</td>\n",
       "      <td>0.000000</td>\n",
       "      <td>0.000000</td>\n",
       "    </tr>\n",
       "    <tr>\n",
       "      <th>50%</th>\n",
       "      <td>278202.000000</td>\n",
       "      <td>0.000000</td>\n",
       "      <td>NaN</td>\n",
       "      <td>NaN</td>\n",
       "      <td>NaN</td>\n",
       "      <td>NaN</td>\n",
       "      <td>0.000000</td>\n",
       "      <td>1.471500e+05</td>\n",
       "      <td>5.135310e+05</td>\n",
       "      <td>24903.000000</td>\n",
       "      <td>...</td>\n",
       "      <td>NaN</td>\n",
       "      <td>NaN</td>\n",
       "      <td>NaN</td>\n",
       "      <td>NaN</td>\n",
       "      <td>0.000000</td>\n",
       "      <td>0.000000</td>\n",
       "      <td>0.000000</td>\n",
       "      <td>0.000000</td>\n",
       "      <td>0.000000</td>\n",
       "      <td>1.000000</td>\n",
       "    </tr>\n",
       "    <tr>\n",
       "      <th>75%</th>\n",
       "      <td>367142.500000</td>\n",
       "      <td>0.000000</td>\n",
       "      <td>NaN</td>\n",
       "      <td>NaN</td>\n",
       "      <td>NaN</td>\n",
       "      <td>NaN</td>\n",
       "      <td>1.000000</td>\n",
       "      <td>2.025000e+05</td>\n",
       "      <td>8.086500e+05</td>\n",
       "      <td>34596.000000</td>\n",
       "      <td>...</td>\n",
       "      <td>NaN</td>\n",
       "      <td>NaN</td>\n",
       "      <td>NaN</td>\n",
       "      <td>NaN</td>\n",
       "      <td>0.000000</td>\n",
       "      <td>0.000000</td>\n",
       "      <td>0.000000</td>\n",
       "      <td>0.000000</td>\n",
       "      <td>0.000000</td>\n",
       "      <td>3.000000</td>\n",
       "    </tr>\n",
       "    <tr>\n",
       "      <th>max</th>\n",
       "      <td>456255.000000</td>\n",
       "      <td>1.000000</td>\n",
       "      <td>NaN</td>\n",
       "      <td>NaN</td>\n",
       "      <td>NaN</td>\n",
       "      <td>NaN</td>\n",
       "      <td>19.000000</td>\n",
       "      <td>1.170000e+08</td>\n",
       "      <td>4.050000e+06</td>\n",
       "      <td>258025.500000</td>\n",
       "      <td>...</td>\n",
       "      <td>NaN</td>\n",
       "      <td>NaN</td>\n",
       "      <td>NaN</td>\n",
       "      <td>NaN</td>\n",
       "      <td>4.000000</td>\n",
       "      <td>9.000000</td>\n",
       "      <td>8.000000</td>\n",
       "      <td>27.000000</td>\n",
       "      <td>261.000000</td>\n",
       "      <td>25.000000</td>\n",
       "    </tr>\n",
       "  </tbody>\n",
       "</table>\n",
       "<p>11 rows × 122 columns</p>\n",
       "</div>"
      ],
      "text/plain": [
       "           SK_ID_CURR         TARGET NAME_CONTRACT_TYPE CODE_GENDER  \\\n",
       "count   307511.000000  307511.000000             307511      307507   \n",
       "unique            NaN            NaN                  2           2   \n",
       "top               NaN            NaN         Cash loans           F   \n",
       "freq              NaN            NaN             278232      202448   \n",
       "mean    278180.518577       0.080729                NaN         NaN   \n",
       "std     102790.175348       0.272419                NaN         NaN   \n",
       "min     100002.000000       0.000000                NaN         NaN   \n",
       "25%     189145.500000       0.000000                NaN         NaN   \n",
       "50%     278202.000000       0.000000                NaN         NaN   \n",
       "75%     367142.500000       0.000000                NaN         NaN   \n",
       "max     456255.000000       1.000000                NaN         NaN   \n",
       "\n",
       "       FLAG_OWN_CAR FLAG_OWN_REALTY   CNT_CHILDREN  AMT_INCOME_TOTAL  \\\n",
       "count        307511          307511  307511.000000      3.075110e+05   \n",
       "unique            2               2            NaN               NaN   \n",
       "top           False            True            NaN               NaN   \n",
       "freq         202924          213312            NaN               NaN   \n",
       "mean            NaN             NaN       0.417052      1.687979e+05   \n",
       "std             NaN             NaN       0.722121      2.371231e+05   \n",
       "min             NaN             NaN       0.000000      2.565000e+04   \n",
       "25%             NaN             NaN       0.000000      1.125000e+05   \n",
       "50%             NaN             NaN       0.000000      1.471500e+05   \n",
       "75%             NaN             NaN       1.000000      2.025000e+05   \n",
       "max             NaN             NaN      19.000000      1.170000e+08   \n",
       "\n",
       "          AMT_CREDIT    AMT_ANNUITY  ...  FLAG_DOCUMENT_18 FLAG_DOCUMENT_19  \\\n",
       "count   3.075110e+05  307499.000000  ...            307511           307511   \n",
       "unique           NaN            NaN  ...                 2                2   \n",
       "top              NaN            NaN  ...             False            False   \n",
       "freq             NaN            NaN  ...            305011           307328   \n",
       "mean    5.990260e+05   27108.573909  ...               NaN              NaN   \n",
       "std     4.024908e+05   14493.737315  ...               NaN              NaN   \n",
       "min     4.500000e+04    1615.500000  ...               NaN              NaN   \n",
       "25%     2.700000e+05   16524.000000  ...               NaN              NaN   \n",
       "50%     5.135310e+05   24903.000000  ...               NaN              NaN   \n",
       "75%     8.086500e+05   34596.000000  ...               NaN              NaN   \n",
       "max     4.050000e+06  258025.500000  ...               NaN              NaN   \n",
       "\n",
       "       FLAG_DOCUMENT_20 FLAG_DOCUMENT_21 AMT_REQ_CREDIT_BUREAU_HOUR  \\\n",
       "count            307511           307511              265992.000000   \n",
       "unique                2                2                        NaN   \n",
       "top               False            False                        NaN   \n",
       "freq             307355           307408                        NaN   \n",
       "mean                NaN              NaN                   0.006402   \n",
       "std                 NaN              NaN                   0.083849   \n",
       "min                 NaN              NaN                   0.000000   \n",
       "25%                 NaN              NaN                   0.000000   \n",
       "50%                 NaN              NaN                   0.000000   \n",
       "75%                 NaN              NaN                   0.000000   \n",
       "max                 NaN              NaN                   4.000000   \n",
       "\n",
       "       AMT_REQ_CREDIT_BUREAU_DAY  AMT_REQ_CREDIT_BUREAU_WEEK  \\\n",
       "count              265992.000000               265992.000000   \n",
       "unique                       NaN                         NaN   \n",
       "top                          NaN                         NaN   \n",
       "freq                         NaN                         NaN   \n",
       "mean                    0.007000                    0.034362   \n",
       "std                     0.110757                    0.204685   \n",
       "min                     0.000000                    0.000000   \n",
       "25%                     0.000000                    0.000000   \n",
       "50%                     0.000000                    0.000000   \n",
       "75%                     0.000000                    0.000000   \n",
       "max                     9.000000                    8.000000   \n",
       "\n",
       "        AMT_REQ_CREDIT_BUREAU_MON  AMT_REQ_CREDIT_BUREAU_QRT  \\\n",
       "count               265992.000000              265992.000000   \n",
       "unique                        NaN                        NaN   \n",
       "top                           NaN                        NaN   \n",
       "freq                          NaN                        NaN   \n",
       "mean                     0.267395                   0.265474   \n",
       "std                      0.916002                   0.794056   \n",
       "min                      0.000000                   0.000000   \n",
       "25%                      0.000000                   0.000000   \n",
       "50%                      0.000000                   0.000000   \n",
       "75%                      0.000000                   0.000000   \n",
       "max                     27.000000                 261.000000   \n",
       "\n",
       "        AMT_REQ_CREDIT_BUREAU_YEAR  \n",
       "count                265992.000000  \n",
       "unique                         NaN  \n",
       "top                            NaN  \n",
       "freq                           NaN  \n",
       "mean                      1.899974  \n",
       "std                       1.869295  \n",
       "min                       0.000000  \n",
       "25%                       0.000000  \n",
       "50%                       1.000000  \n",
       "75%                       3.000000  \n",
       "max                      25.000000  \n",
       "\n",
       "[11 rows x 122 columns]"
      ]
     },
     "metadata": {},
     "execution_count": 4
    }
   ],
   "metadata": {}
  },
  {
   "cell_type": "code",
   "execution_count": 5,
   "source": [
    "app_df.info()\n"
   ],
   "outputs": [
    {
     "output_type": "stream",
     "name": "stdout",
     "text": [
      "<class 'pandas.core.frame.DataFrame'>\n",
      "RangeIndex: 307511 entries, 0 to 307510\n",
      "Columns: 122 entries, SK_ID_CURR to AMT_REQ_CREDIT_BUREAU_YEAR\n",
      "dtypes: bool(34), category(14), float64(65), int64(9)\n",
      "memory usage: 187.7 MB\n"
     ]
    }
   ],
   "metadata": {}
  },
  {
   "cell_type": "markdown",
   "source": [
    "Le jeu de données contient 122 variables, dont la variable cible que nous devons estimer : `TARGET`. Parmis ces variables, nous avons :\n",
    "- 34 variables booléennes\n",
    "- 14 variables catégorielles\n",
    "- 74 variables numériques"
   ],
   "metadata": {}
  },
  {
   "cell_type": "markdown",
   "source": [
    "## Analyse exploratoire\n",
    "\n",
    "Nous allons analyser la distribution de quelques variables.\n",
    "\n",
    "### Variable cible\n",
    "\n",
    "Voyons spécifiquement la distribution de la variable `TARGET` qui est celle que nous devrons estimer par la suite.\n",
    "Les valeurs nulles représentent notre jeu d'entrainement.\n",
    "Nous pouvons oberver que nous avons à faire à un problème de __classification binaire déséquilibré__ (il y a deux valeurs possibles, mais les deux valeurs ne sont pas également représentées).\n",
    "Ceci va influencer la manière dont nous allons construire et entraîner notre modèle.\n"
   ],
   "metadata": {}
  },
  {
   "cell_type": "code",
   "execution_count": 6,
   "source": [
    "# Let's plot the distribution of the TARGET variable\n",
    "if DRAW_PLOTS:\n",
    "    fig = px.bar(\n",
    "        app_df[\"TARGET\"].replace({\n",
    "            \"0\": \"TARGET=0 : payments OK\", \n",
    "            \"1\": \"TARGET=1 : payment difficulties\", \n",
    "        }).value_counts(),\n",
    "        title=\"Distribution of TARGET variable\",\n",
    "        width=800,\n",
    "        height=400,\n",
    "    ).update_xaxes(\n",
    "        title=\"TARGET\",\n",
    "    ).update_yaxes(title=\"Count\")\n",
    "    fig.show()\n"
   ],
   "outputs": [],
   "metadata": {}
  },
  {
   "cell_type": "markdown",
   "source": [
    "### Valeurs vides\n",
    "\n",
    "Nous voyons que toutes les variables ont moins de 30% de valeurs vides, et près de la moitié a moins de 1% de valeurs vides. Le jeu de données est donc relativement bien rempli, ce qui ne devrait pas poser de problème pour la suite.\n"
   ],
   "metadata": {}
  },
  {
   "cell_type": "code",
   "execution_count": 7,
   "source": [
    "# Let's display variables with missing values ratio\n",
    "if DRAW_PLOTS:\n",
    "    vis_helpers.plot_empty_values(app_df)\n"
   ],
   "outputs": [],
   "metadata": {}
  },
  {
   "cell_type": "markdown",
   "source": [
    "### Valeurs impossibles\n",
    "\n",
    "Quelques valeurs présentes dans les données semblent impossibles. Nous allons supprimer ces \"outliers\".\n"
   ],
   "metadata": {}
  },
  {
   "cell_type": "code",
   "execution_count": 8,
   "source": [
    "# Define data constraints\n",
    "data_constraints = {\n",
    "    \"DAYS_EMPLOYED\": {\"min\": -35000, \"max\": 0,}, # max 100 years, only negative values\n",
    "}\n",
    "\n",
    "if DRAW_PLOTS:\n",
    "    # Let's display box plots for variables with outliers\n",
    "    vis_helpers.plot_boxes(app_df, plot_columns=data_constraints.keys(), categorical_column=\"TARGET\")\n",
    "\n",
    "# Remove values that are outside possible range\n",
    "app_df = feat_helpers.drop_impossible_values(\n",
    "    app_df, constraints=data_constraints,\n",
    ")\n"
   ],
   "outputs": [],
   "metadata": {}
  },
  {
   "cell_type": "markdown",
   "source": [
    "### Variables quantitatives\n",
    "\n",
    "Nous allons simplement afficher la distribution de quelques variables numériques. Nous voyons déjà que selon la valeur de TARGET, la distribution (moyenne) des variables peut être sensiblement différente.\n"
   ],
   "metadata": {}
  },
  {
   "cell_type": "code",
   "execution_count": 9,
   "source": [
    "# Draw the BoxPlots of some numeric columns, split per Target\n",
    "if DRAW_PLOTS:\n",
    "    vis_helpers.plot_boxes(app_df,\n",
    "        plot_columns=[\n",
    "            \"AMT_INCOME_TOTAL\",\n",
    "            \"AMT_CREDIT\",\n",
    "            \"AMT_ANNUITY\",\n",
    "            \"AMT_GOODS_PRICE\",\n",
    "            \"DAYS_BIRTH\",\n",
    "            \"DAYS_EMPLOYED\",\n",
    "            \"OWN_CAR_AGE\",\n",
    "            \"REGION_RATING_CLIENT\",\n",
    "            \"REGION_RATING_CLIENT_W_CITY\",\n",
    "            \"EXT_SOURCE_1\",\n",
    "            \"EXT_SOURCE_2\",\n",
    "            \"EXT_SOURCE_3\",\n",
    "            \"DAYS_LAST_PHONE_CHANGE\",\n",
    "            \"AMT_REQ_CREDIT_BUREAU_YEAR\",\n",
    "        ],\n",
    "        categorical_column=\"TARGET\",\n",
    "    )\n"
   ],
   "outputs": [],
   "metadata": {}
  },
  {
   "cell_type": "markdown",
   "source": [
    "### Variables qualitatives\n",
    "\n",
    "De la même manière, nous allons simplement afficher la distribution de quelques variables catégorielles. Nous voyons déjà que selon la valeur de TARGET, la distribution (répartition entre classes) des variables peut être sensiblement différente (`TARGET=0` pour 77,6% des `NAME_CONTRACT_TYPE=\"Cash loans\"`, tandis que `TARGET=0` pour 93,1% des `NAME_CONTRACT_TYPE=\"Revolving loans\"`).\n",
    "Certaines variables ont une répartition très inégale entre classes (`FLAG_MOBIL` vaut systématiquement `True` et jamais `False`).\n"
   ],
   "metadata": {}
  },
  {
   "cell_type": "code",
   "execution_count": 10,
   "source": [
    "# Draw the Bar charts of some categorical columns, split per Target\n",
    "if DRAW_PLOTS:\n",
    "    vis_helpers.plot_categories_bars(app_df,\n",
    "        plot_columns=[\n",
    "            \"NAME_CONTRACT_TYPE\",\n",
    "            \"CODE_GENDER\",\n",
    "            \"FLAG_OWN_CAR\",\n",
    "            \"FLAG_OWN_REALTY\",\n",
    "            \"NAME_INCOME_TYPE\",\n",
    "            \"NAME_EDUCATION_TYPE\",\n",
    "            \"NAME_FAMILY_STATUS\",\n",
    "            \"NAME_HOUSING_TYPE\",\n",
    "            \"OCCUPATION_TYPE\",\n",
    "            \"FLAG_MOBIL\",\n",
    "        ],\n",
    "        categorical_column=\"TARGET\",\n",
    "    )\n"
   ],
   "outputs": [],
   "metadata": {}
  },
  {
   "cell_type": "markdown",
   "source": [
    "### Encodage des catégories\n",
    "\n",
    "Lorsque les données qualitatives ne sont pas ordinales (on ne peu pas les classer selon un certain ordre), l'encodage \"One Hot Encoding\" sera plus performant que le \"Label Encoding\".\n"
   ],
   "metadata": {}
  },
  {
   "cell_type": "code",
   "execution_count": 11,
   "source": [
    "# Encode categorical variables with One Hot Encoding\n",
    "app_df = pd.get_dummies(app_df, dtype=bool)\n",
    "\n",
    "app_df.describe(include=\"bool\")\n"
   ],
   "outputs": [
    {
     "output_type": "execute_result",
     "data": {
      "text/html": [
       "<div>\n",
       "<style scoped>\n",
       "    .dataframe tbody tr th:only-of-type {\n",
       "        vertical-align: middle;\n",
       "    }\n",
       "\n",
       "    .dataframe tbody tr th {\n",
       "        vertical-align: top;\n",
       "    }\n",
       "\n",
       "    .dataframe thead th {\n",
       "        text-align: right;\n",
       "    }\n",
       "</style>\n",
       "<table border=\"1\" class=\"dataframe\">\n",
       "  <thead>\n",
       "    <tr style=\"text-align: right;\">\n",
       "      <th></th>\n",
       "      <th>FLAG_OWN_CAR</th>\n",
       "      <th>FLAG_OWN_REALTY</th>\n",
       "      <th>FLAG_MOBIL</th>\n",
       "      <th>FLAG_EMP_PHONE</th>\n",
       "      <th>FLAG_WORK_PHONE</th>\n",
       "      <th>FLAG_CONT_MOBILE</th>\n",
       "      <th>FLAG_PHONE</th>\n",
       "      <th>FLAG_EMAIL</th>\n",
       "      <th>REG_REGION_NOT_LIVE_REGION</th>\n",
       "      <th>REG_REGION_NOT_WORK_REGION</th>\n",
       "      <th>...</th>\n",
       "      <th>HOUSETYPE_MODE_terraced house</th>\n",
       "      <th>WALLSMATERIAL_MODE_Block</th>\n",
       "      <th>WALLSMATERIAL_MODE_Mixed</th>\n",
       "      <th>WALLSMATERIAL_MODE_Monolithic</th>\n",
       "      <th>WALLSMATERIAL_MODE_Others</th>\n",
       "      <th>WALLSMATERIAL_MODE_Panel</th>\n",
       "      <th>WALLSMATERIAL_MODE_Stone, brick</th>\n",
       "      <th>WALLSMATERIAL_MODE_Wooden</th>\n",
       "      <th>EMERGENCYSTATE_MODE_No</th>\n",
       "      <th>EMERGENCYSTATE_MODE_Yes</th>\n",
       "    </tr>\n",
       "  </thead>\n",
       "  <tbody>\n",
       "    <tr>\n",
       "      <th>count</th>\n",
       "      <td>252137</td>\n",
       "      <td>252137</td>\n",
       "      <td>252137</td>\n",
       "      <td>252137</td>\n",
       "      <td>252137</td>\n",
       "      <td>252137</td>\n",
       "      <td>252137</td>\n",
       "      <td>252137</td>\n",
       "      <td>252137</td>\n",
       "      <td>252137</td>\n",
       "      <td>...</td>\n",
       "      <td>252137</td>\n",
       "      <td>252137</td>\n",
       "      <td>252137</td>\n",
       "      <td>252137</td>\n",
       "      <td>252137</td>\n",
       "      <td>252137</td>\n",
       "      <td>252137</td>\n",
       "      <td>252137</td>\n",
       "      <td>252137</td>\n",
       "      <td>252137</td>\n",
       "    </tr>\n",
       "    <tr>\n",
       "      <th>unique</th>\n",
       "      <td>2</td>\n",
       "      <td>2</td>\n",
       "      <td>2</td>\n",
       "      <td>2</td>\n",
       "      <td>2</td>\n",
       "      <td>2</td>\n",
       "      <td>2</td>\n",
       "      <td>2</td>\n",
       "      <td>2</td>\n",
       "      <td>2</td>\n",
       "      <td>...</td>\n",
       "      <td>2</td>\n",
       "      <td>2</td>\n",
       "      <td>2</td>\n",
       "      <td>2</td>\n",
       "      <td>2</td>\n",
       "      <td>2</td>\n",
       "      <td>2</td>\n",
       "      <td>2</td>\n",
       "      <td>2</td>\n",
       "      <td>2</td>\n",
       "    </tr>\n",
       "    <tr>\n",
       "      <th>top</th>\n",
       "      <td>False</td>\n",
       "      <td>True</td>\n",
       "      <td>True</td>\n",
       "      <td>True</td>\n",
       "      <td>False</td>\n",
       "      <td>True</td>\n",
       "      <td>False</td>\n",
       "      <td>False</td>\n",
       "      <td>False</td>\n",
       "      <td>False</td>\n",
       "      <td>...</td>\n",
       "      <td>False</td>\n",
       "      <td>False</td>\n",
       "      <td>False</td>\n",
       "      <td>False</td>\n",
       "      <td>False</td>\n",
       "      <td>False</td>\n",
       "      <td>False</td>\n",
       "      <td>False</td>\n",
       "      <td>True</td>\n",
       "      <td>False</td>\n",
       "    </tr>\n",
       "    <tr>\n",
       "      <th>freq</th>\n",
       "      <td>157719</td>\n",
       "      <td>171082</td>\n",
       "      <td>252136</td>\n",
       "      <td>252125</td>\n",
       "      <td>190830</td>\n",
       "      <td>251601</td>\n",
       "      <td>182123</td>\n",
       "      <td>236126</td>\n",
       "      <td>247790</td>\n",
       "      <td>236525</td>\n",
       "      <td>...</td>\n",
       "      <td>251130</td>\n",
       "      <td>244626</td>\n",
       "      <td>250217</td>\n",
       "      <td>250616</td>\n",
       "      <td>250778</td>\n",
       "      <td>197798</td>\n",
       "      <td>198699</td>\n",
       "      <td>247695</td>\n",
       "      <td>131341</td>\n",
       "      <td>250191</td>\n",
       "    </tr>\n",
       "  </tbody>\n",
       "</table>\n",
       "<p>4 rows × 168 columns</p>\n",
       "</div>"
      ],
      "text/plain": [
       "       FLAG_OWN_CAR FLAG_OWN_REALTY FLAG_MOBIL FLAG_EMP_PHONE FLAG_WORK_PHONE  \\\n",
       "count        252137          252137     252137         252137          252137   \n",
       "unique            2               2          2              2               2   \n",
       "top           False            True       True           True           False   \n",
       "freq         157719          171082     252136         252125          190830   \n",
       "\n",
       "       FLAG_CONT_MOBILE FLAG_PHONE FLAG_EMAIL REG_REGION_NOT_LIVE_REGION  \\\n",
       "count            252137     252137     252137                     252137   \n",
       "unique                2          2          2                          2   \n",
       "top                True      False      False                      False   \n",
       "freq             251601     182123     236126                     247790   \n",
       "\n",
       "       REG_REGION_NOT_WORK_REGION  ... HOUSETYPE_MODE_terraced house  \\\n",
       "count                      252137  ...                        252137   \n",
       "unique                          2  ...                             2   \n",
       "top                         False  ...                         False   \n",
       "freq                       236525  ...                        251130   \n",
       "\n",
       "       WALLSMATERIAL_MODE_Block WALLSMATERIAL_MODE_Mixed  \\\n",
       "count                    252137                   252137   \n",
       "unique                        2                        2   \n",
       "top                       False                    False   \n",
       "freq                     244626                   250217   \n",
       "\n",
       "       WALLSMATERIAL_MODE_Monolithic WALLSMATERIAL_MODE_Others  \\\n",
       "count                         252137                    252137   \n",
       "unique                             2                         2   \n",
       "top                            False                     False   \n",
       "freq                          250616                    250778   \n",
       "\n",
       "       WALLSMATERIAL_MODE_Panel WALLSMATERIAL_MODE_Stone, brick  \\\n",
       "count                    252137                          252137   \n",
       "unique                        2                               2   \n",
       "top                       False                           False   \n",
       "freq                     197798                          198699   \n",
       "\n",
       "       WALLSMATERIAL_MODE_Wooden EMERGENCYSTATE_MODE_No  \\\n",
       "count                     252137                 252137   \n",
       "unique                         2                      2   \n",
       "top                        False                   True   \n",
       "freq                      247695                 131341   \n",
       "\n",
       "       EMERGENCYSTATE_MODE_Yes  \n",
       "count                   252137  \n",
       "unique                       2  \n",
       "top                      False  \n",
       "freq                    250191  \n",
       "\n",
       "[4 rows x 168 columns]"
      ]
     },
     "metadata": {},
     "execution_count": 11
    }
   ],
   "metadata": {}
  },
  {
   "cell_type": "markdown",
   "source": [
    "Nous avons ici créé 134 nouvelles variables booléennes qui correspondent aux différentes classes de chacune des 14 anciennes variables catégorielles qui ont été encodées et supprimées.\n"
   ],
   "metadata": {}
  },
  {
   "cell_type": "markdown",
   "source": [
    "## Feature Engineering\n",
    "\n",
    "Nous allons tenter d'enrichir nos données en intégrant des variables qui sont des compositions non linéaires des variables existantes.\n",
    "\n",
    "\n",
    "### Données métier\n",
    "\n",
    "Afin d'apporter plus de sens aux données que nous allons fournir à nos modèles, nous pouvons faire appel aux experts métier qui peuvent nous indiquer des informations qui sont réputées importantes afin de prédire si un client risque d'avoir des problèmes de remboursement ou non.\n",
    "\n",
    "Les informations métier pertinentes sont :\n",
    "- Montant emprunté / Prix du bien acheté : `AMT_CREDIT / AMT_GOODS_PRICE`\n",
    "- Montant des annuités / Montant emprunté : `AMT_ANNUITY / AMT_CREDIT`\n",
    "- Montant des annuités / Revenu annuel : `AMT_ANNUITY / AMT_INCOME_TOTAL`\n",
    "- Ancienneté au travail / Age : `DAYS_EMPLOYED / DAYS_BIRTH`\n"
   ],
   "metadata": {}
  },
  {
   "cell_type": "code",
   "execution_count": 12,
   "source": [
    "# Create the new features\n",
    "app_df[\"CREDIT_PRICE_RATIO\"] = app_df[\"AMT_CREDIT\"] / app_df[\"AMT_GOODS_PRICE\"]\n",
    "app_df[\"ANNUITY_CREDIT_RATIO\"] = app_df[\"AMT_ANNUITY\"] / app_df[\"AMT_CREDIT\"]\n",
    "app_df[\"ANNUITY_INCOME_RATIO\"] = app_df[\"AMT_ANNUITY\"] / app_df[\"AMT_INCOME_TOTAL\"]\n",
    "app_df[\"EMPLOYED_BIRTH_RATIO\"] = app_df[\"DAYS_EMPLOYED\"] / app_df[\"DAYS_BIRTH\"]\n",
    "\n",
    "# Draw the BoxPlots for these features\n",
    "if DRAW_PLOTS:\n",
    "    vis_helpers.plot_boxes(app_df,\n",
    "        plot_columns=[\n",
    "            \"CREDIT_PRICE_RATIO\",\n",
    "            \"ANNUITY_CREDIT_RATIO\",\n",
    "            \"ANNUITY_INCOME_RATIO\",\n",
    "            \"EMPLOYED_BIRTH_RATIO\",\n",
    "        ],\n",
    "        categorical_column=\"TARGET\",\n",
    "    )\n"
   ],
   "outputs": [],
   "metadata": {}
  },
  {
   "cell_type": "markdown",
   "source": [
    "### Composition polynomiales de variables existantes\n",
    "\n",
    "Les variables `EXT_SOURCE_{1-3}` n'ont a priori pas de sens concret. On peut imaginer que `TARGET` ne soit pas forcément linéairement dépendant de ces variables. Nous allons donc générer des combinaisons polynomiales de ces variables.\n"
   ],
   "metadata": {}
  },
  {
   "cell_type": "code",
   "execution_count": 13,
   "source": [
    "from sklearn.preprocessing import PolynomialFeatures\n",
    "\n",
    "\n",
    "# Let's keep only non null data\n",
    "ext_source = app_df[[\"SK_ID_CURR\", \"TARGET\", \"EXT_SOURCE_1\", \"EXT_SOURCE_2\", \"EXT_SOURCE_3\"]].dropna()\n",
    "\n",
    "# Let's create the new features\n",
    "poly = PolynomialFeatures()\n",
    "poly_feat = pd.DataFrame(poly.fit_transform(\n",
    "        X=ext_source[[\"EXT_SOURCE_1\", \"EXT_SOURCE_2\", \"EXT_SOURCE_3\"]],\n",
    "        y=ext_source[\"TARGET\"],\n",
    "    )\n",
    ")\n",
    "poly_feat.columns=poly.get_feature_names()\n",
    "\n",
    "poly_feat.insert(0, \"SK_ID_CURR\", ext_source[\"SK_ID_CURR\"].values)\n",
    "\n",
    "# Merge the new features with the original dataset\n",
    "app_df = app_df.merge(\n",
    "    poly_feat,\n",
    "    on=\"SK_ID_CURR\",\n",
    "    how=\"left\",\n",
    ")\n",
    "\n",
    "# Draw the BoxPlots for these features\n",
    "if DRAW_PLOTS:\n",
    "    vis_helpers.plot_boxes(app_df,\n",
    "        plot_columns=poly_feat.columns[5:],\n",
    "        categorical_column=\"TARGET\",\n",
    "    )\n"
   ],
   "outputs": [],
   "metadata": {}
  },
  {
   "cell_type": "markdown",
   "source": [
    "### Features selection\n",
    "\n",
    "Le but ici est d'éliminer un certain nombre de variables afin d'accélérer l'entrainement et la prédiction de nos modèles. Nous souhaitons éliminer les variables qui pénaliseront le moins possible les performances de nos modèles.\n",
    "\n",
    "Nous savons déjà que les colonnes `SK_ID_CURR` (simple identifiant sans sens métier), `1` et `x{0-2}` (variables polynomiales d'ordre 0 et 1), et `FLAG_MOBIL` (vaut toujours 1) n'apportent pas d'information. Nous allons donc les éliminer."
   ],
   "metadata": {}
  },
  {
   "cell_type": "code",
   "execution_count": 14,
   "source": [
    "# Let's drop the features that are not useful for the prediction\n",
    "app_df = app_df.drop(\n",
    "    columns=[\"SK_ID_CURR\", \"1\", \"x0\", \"x1\", \"x2\", \"FLAG_MOBIL\"]\n",
    ")\n"
   ],
   "outputs": [],
   "metadata": {}
  },
  {
   "cell_type": "markdown",
   "source": [
    "Nous allons ici observer la corrélation :\n",
    "- de chaque variable avec la variables cible `TARGET` : les variables les moins corrélées à `TARGET` seront a priori les moins utiles pour prédire sa valeur.\n",
    "- entre les différentes variables deux à deux : si deux variables sont très corrélées, elles apportent une information redondante et nous pouvons donc en éliminer une des deux.\n"
   ],
   "metadata": {}
  },
  {
   "cell_type": "code",
   "execution_count": 15,
   "source": [
    "# Let's compute the correlation matrix\n",
    "app_correlations = app_df.corr().abs().sort_values(\n",
    "    \"TARGET\", ascending=False, axis=0\n",
    ").sort_values(\n",
    "    \"TARGET\", ascending=False, axis=1\n",
    ")\n",
    "\n",
    "if DRAW_PLOTS:\n",
    "    fig = px.imshow(app_correlations,\n",
    "        title=\"Correlations between features\",\n",
    "        width=1200,\n",
    "        height=1200,\n",
    "    )\n",
    "    fig.show()\n"
   ],
   "outputs": [],
   "metadata": {}
  },
  {
   "cell_type": "markdown",
   "source": [
    "Nous voyons qu'il y a des variables très peu corrélées à `TARGET` (ex. : `abs(corr(\"TARGET\", \"FLAG_EMP_PHONE\")) < 0.0001`), et d'autres très corrélées entre elles (ex. : `abs(corr(\"LIVINGAPARTMENTS_AVG\", \"\"LIVINGAPARTMENTS_MEDI\")) > 0.99`).\n",
    "Nous allons simplifier notre jeu de données en supprimant ces variables.\n"
   ],
   "metadata": {}
  },
  {
   "cell_type": "code",
   "execution_count": 16,
   "source": [
    "# Let's find variables that are highly de-correlated from TARGET\n",
    "corr_target_min_threshold = 0.01\n",
    "highly_decorrelated_from_target = pd.DataFrame(columns=[\"correlation with TARGET\"])\n",
    "for col in app_correlations.columns:\n",
    "    if col != \"TARGET\" and (\n",
    "        pd.isnull(app_correlations[col][\"TARGET\"])\n",
    "        or abs(app_correlations[col][\"TARGET\"]) < corr_target_min_threshold\n",
    "    ):\n",
    "        highly_decorrelated_from_target.loc[col] = {\n",
    "            \"correlation with TARGET\": app_correlations[col][\"TARGET\"],\n",
    "        }\n",
    "\n",
    "highly_decorrelated_from_target.sort_values(by=[\"correlation with TARGET\"])\n"
   ],
   "outputs": [
    {
     "output_type": "execute_result",
     "data": {
      "text/html": [
       "<div>\n",
       "<style scoped>\n",
       "    .dataframe tbody tr th:only-of-type {\n",
       "        vertical-align: middle;\n",
       "    }\n",
       "\n",
       "    .dataframe tbody tr th {\n",
       "        vertical-align: top;\n",
       "    }\n",
       "\n",
       "    .dataframe thead th {\n",
       "        text-align: right;\n",
       "    }\n",
       "</style>\n",
       "<table border=\"1\" class=\"dataframe\">\n",
       "  <thead>\n",
       "    <tr style=\"text-align: right;\">\n",
       "      <th></th>\n",
       "      <th>correlation with TARGET</th>\n",
       "    </tr>\n",
       "  </thead>\n",
       "  <tbody>\n",
       "    <tr>\n",
       "      <th>ORGANIZATION_TYPE_Industry: type 11</th>\n",
       "      <td>0.000023</td>\n",
       "    </tr>\n",
       "    <tr>\n",
       "      <th>FLAG_EMP_PHONE</th>\n",
       "      <td>0.000080</td>\n",
       "    </tr>\n",
       "    <tr>\n",
       "      <th>NAME_EDUCATION_TYPE_Incomplete higher</th>\n",
       "      <td>0.000223</td>\n",
       "    </tr>\n",
       "    <tr>\n",
       "      <th>FLAG_DOCUMENT_20</th>\n",
       "      <td>0.000241</td>\n",
       "    </tr>\n",
       "    <tr>\n",
       "      <th>ORGANIZATION_TYPE_Trade: type 1</th>\n",
       "      <td>0.000328</td>\n",
       "    </tr>\n",
       "    <tr>\n",
       "      <th>...</th>\n",
       "      <td>...</td>\n",
       "    </tr>\n",
       "    <tr>\n",
       "      <th>ORGANIZATION_TYPE_Kindergarten</th>\n",
       "      <td>0.009678</td>\n",
       "    </tr>\n",
       "    <tr>\n",
       "      <th>YEARS_BEGINEXPLUATATION_MODE</th>\n",
       "      <td>0.009697</td>\n",
       "    </tr>\n",
       "    <tr>\n",
       "      <th>ORGANIZATION_TYPE_University</th>\n",
       "      <td>0.009729</td>\n",
       "    </tr>\n",
       "    <tr>\n",
       "      <th>OCCUPATION_TYPE_Cooking staff</th>\n",
       "      <td>0.009858</td>\n",
       "    </tr>\n",
       "    <tr>\n",
       "      <th>NAME_INCOME_TYPE_Unemployed</th>\n",
       "      <td>NaN</td>\n",
       "    </tr>\n",
       "  </tbody>\n",
       "</table>\n",
       "<p>119 rows × 1 columns</p>\n",
       "</div>"
      ],
      "text/plain": [
       "                                       correlation with TARGET\n",
       "ORGANIZATION_TYPE_Industry: type 11                   0.000023\n",
       "FLAG_EMP_PHONE                                        0.000080\n",
       "NAME_EDUCATION_TYPE_Incomplete higher                 0.000223\n",
       "FLAG_DOCUMENT_20                                      0.000241\n",
       "ORGANIZATION_TYPE_Trade: type 1                       0.000328\n",
       "...                                                        ...\n",
       "ORGANIZATION_TYPE_Kindergarten                        0.009678\n",
       "YEARS_BEGINEXPLUATATION_MODE                          0.009697\n",
       "ORGANIZATION_TYPE_University                          0.009729\n",
       "OCCUPATION_TYPE_Cooking staff                         0.009858\n",
       "NAME_INCOME_TYPE_Unemployed                                NaN\n",
       "\n",
       "[119 rows x 1 columns]"
      ]
     },
     "metadata": {},
     "execution_count": 16
    }
   ],
   "metadata": {}
  },
  {
   "cell_type": "code",
   "execution_count": 17,
   "source": [
    "# Let's find variables that have a highly correlated pair\n",
    "corr_pair_max_threshold = 0.9\n",
    "highly_correlated = pd.DataFrame(columns=[\"pair\", \"correlation\"])\n",
    "for i in range(len(app_correlations.columns)):\n",
    "    for j in range(i + 1, len(app_correlations.columns)):\n",
    "        if app_correlations.iloc[i, j] > corr_pair_max_threshold:\n",
    "            # variables are highly correlated\n",
    "            if app_correlations.iloc[0, i] > app_correlations.iloc[0, j]:\n",
    "                # first variable is more correlated with target => we want to keep it\n",
    "                keep_index = i\n",
    "                drop_index = j\n",
    "            else:\n",
    "                keep_index = j\n",
    "                drop_index = i\n",
    "\n",
    "            highly_correlated.loc[app_correlations.columns[drop_index]] = {\n",
    "                \"pair\": app_correlations.columns[keep_index],\n",
    "                \"correlation\": app_correlations.iloc[i, j],\n",
    "            }\n",
    "\n",
    "highly_correlated.sort_values(by=\"correlation\", ascending=False)\n"
   ],
   "outputs": [
    {
     "output_type": "execute_result",
     "data": {
      "text/html": [
       "<div>\n",
       "<style scoped>\n",
       "    .dataframe tbody tr th:only-of-type {\n",
       "        vertical-align: middle;\n",
       "    }\n",
       "\n",
       "    .dataframe tbody tr th {\n",
       "        vertical-align: top;\n",
       "    }\n",
       "\n",
       "    .dataframe thead th {\n",
       "        text-align: right;\n",
       "    }\n",
       "</style>\n",
       "<table border=\"1\" class=\"dataframe\">\n",
       "  <thead>\n",
       "    <tr style=\"text-align: right;\">\n",
       "      <th></th>\n",
       "      <th>pair</th>\n",
       "      <th>correlation</th>\n",
       "    </tr>\n",
       "  </thead>\n",
       "  <tbody>\n",
       "    <tr>\n",
       "      <th>NAME_CONTRACT_TYPE_Revolving loans</th>\n",
       "      <td>NAME_CONTRACT_TYPE_Cash loans</td>\n",
       "      <td>1.000000</td>\n",
       "    </tr>\n",
       "    <tr>\n",
       "      <th>CODE_GENDER_F</th>\n",
       "      <td>CODE_GENDER_M</td>\n",
       "      <td>0.999966</td>\n",
       "    </tr>\n",
       "    <tr>\n",
       "      <th>YEARS_BUILD_AVG</th>\n",
       "      <td>YEARS_BUILD_MEDI</td>\n",
       "      <td>0.998625</td>\n",
       "    </tr>\n",
       "    <tr>\n",
       "      <th>OBS_60_CNT_SOCIAL_CIRCLE</th>\n",
       "      <td>OBS_30_CNT_SOCIAL_CIRCLE</td>\n",
       "      <td>0.998473</td>\n",
       "    </tr>\n",
       "    <tr>\n",
       "      <th>FLOORSMIN_MEDI</th>\n",
       "      <td>FLOORSMIN_AVG</td>\n",
       "      <td>0.997280</td>\n",
       "    </tr>\n",
       "    <tr>\n",
       "      <th>FLOORSMAX_MEDI</th>\n",
       "      <td>FLOORSMAX_AVG</td>\n",
       "      <td>0.997094</td>\n",
       "    </tr>\n",
       "    <tr>\n",
       "      <th>ENTRANCES_MEDI</th>\n",
       "      <td>ENTRANCES_AVG</td>\n",
       "      <td>0.996868</td>\n",
       "    </tr>\n",
       "    <tr>\n",
       "      <th>COMMONAREA_AVG</th>\n",
       "      <td>COMMONAREA_MEDI</td>\n",
       "      <td>0.996439</td>\n",
       "    </tr>\n",
       "    <tr>\n",
       "      <th>ELEVATORS_MEDI</th>\n",
       "      <td>ELEVATORS_AVG</td>\n",
       "      <td>0.996105</td>\n",
       "    </tr>\n",
       "    <tr>\n",
       "      <th>LIVINGAREA_MEDI</th>\n",
       "      <td>LIVINGAREA_AVG</td>\n",
       "      <td>0.995623</td>\n",
       "    </tr>\n",
       "    <tr>\n",
       "      <th>BASEMENTAREA_MEDI</th>\n",
       "      <td>BASEMENTAREA_AVG</td>\n",
       "      <td>0.995085</td>\n",
       "    </tr>\n",
       "    <tr>\n",
       "      <th>APARTMENTS_MEDI</th>\n",
       "      <td>APARTMENTS_AVG</td>\n",
       "      <td>0.994987</td>\n",
       "    </tr>\n",
       "    <tr>\n",
       "      <th>LIVINGAPARTMENTS_MEDI</th>\n",
       "      <td>LIVINGAPARTMENTS_AVG</td>\n",
       "      <td>0.993817</td>\n",
       "    </tr>\n",
       "    <tr>\n",
       "      <th>YEARS_BEGINEXPLUATATION_AVG</th>\n",
       "      <td>YEARS_BEGINEXPLUATATION_MEDI</td>\n",
       "      <td>0.993356</td>\n",
       "    </tr>\n",
       "    <tr>\n",
       "      <th>LANDAREA_AVG</th>\n",
       "      <td>LANDAREA_MEDI</td>\n",
       "      <td>0.992257</td>\n",
       "    </tr>\n",
       "    <tr>\n",
       "      <th>NONLIVINGAPARTMENTS_MEDI</th>\n",
       "      <td>NONLIVINGAPARTMENTS_AVG</td>\n",
       "      <td>0.991873</td>\n",
       "    </tr>\n",
       "    <tr>\n",
       "      <th>NONLIVINGAREA_MEDI</th>\n",
       "      <td>NONLIVINGAREA_AVG</td>\n",
       "      <td>0.991335</td>\n",
       "    </tr>\n",
       "    <tr>\n",
       "      <th>YEARS_BUILD_MODE</th>\n",
       "      <td>YEARS_BUILD_AVG</td>\n",
       "      <td>0.989513</td>\n",
       "    </tr>\n",
       "    <tr>\n",
       "      <th>FLOORSMIN_MODE</th>\n",
       "      <td>FLOORSMIN_MEDI</td>\n",
       "      <td>0.988223</td>\n",
       "    </tr>\n",
       "    <tr>\n",
       "      <th>FLOORSMAX_MODE</th>\n",
       "      <td>FLOORSMAX_MEDI</td>\n",
       "      <td>0.988045</td>\n",
       "    </tr>\n",
       "    <tr>\n",
       "      <th>AMT_CREDIT</th>\n",
       "      <td>AMT_GOODS_PRICE</td>\n",
       "      <td>0.986451</td>\n",
       "    </tr>\n",
       "    <tr>\n",
       "      <th>ELEVATORS_MODE</th>\n",
       "      <td>ELEVATORS_MEDI</td>\n",
       "      <td>0.982439</td>\n",
       "    </tr>\n",
       "    <tr>\n",
       "      <th>NONLIVINGAPARTMENTS_MODE</th>\n",
       "      <td>NONLIVINGAPARTMENTS_MEDI</td>\n",
       "      <td>0.981891</td>\n",
       "    </tr>\n",
       "    <tr>\n",
       "      <th>ENTRANCES_MODE</th>\n",
       "      <td>ENTRANCES_MEDI</td>\n",
       "      <td>0.980663</td>\n",
       "    </tr>\n",
       "    <tr>\n",
       "      <th>COMMONAREA_MODE</th>\n",
       "      <td>COMMONAREA_AVG</td>\n",
       "      <td>0.977694</td>\n",
       "    </tr>\n",
       "    <tr>\n",
       "      <th>BASEMENTAREA_MODE</th>\n",
       "      <td>BASEMENTAREA_MEDI</td>\n",
       "      <td>0.977032</td>\n",
       "    </tr>\n",
       "    <tr>\n",
       "      <th>APARTMENTS_MODE</th>\n",
       "      <td>APARTMENTS_MEDI</td>\n",
       "      <td>0.976759</td>\n",
       "    </tr>\n",
       "    <tr>\n",
       "      <th>x0^2</th>\n",
       "      <td>EXT_SOURCE_1</td>\n",
       "      <td>0.976631</td>\n",
       "    </tr>\n",
       "    <tr>\n",
       "      <th>LIVINGAPARTMENTS_MODE</th>\n",
       "      <td>LIVINGAPARTMENTS_MEDI</td>\n",
       "      <td>0.976294</td>\n",
       "    </tr>\n",
       "    <tr>\n",
       "      <th>x2^2</th>\n",
       "      <td>EXT_SOURCE_3</td>\n",
       "      <td>0.975462</td>\n",
       "    </tr>\n",
       "    <tr>\n",
       "      <th>NONLIVINGAREA_MODE</th>\n",
       "      <td>NONLIVINGAREA_MEDI</td>\n",
       "      <td>0.975432</td>\n",
       "    </tr>\n",
       "    <tr>\n",
       "      <th>x1^2</th>\n",
       "      <td>EXT_SOURCE_2</td>\n",
       "      <td>0.974734</td>\n",
       "    </tr>\n",
       "    <tr>\n",
       "      <th>LIVINGAREA_MODE</th>\n",
       "      <td>LIVINGAREA_MEDI</td>\n",
       "      <td>0.974149</td>\n",
       "    </tr>\n",
       "    <tr>\n",
       "      <th>LANDAREA_MODE</th>\n",
       "      <td>LANDAREA_AVG</td>\n",
       "      <td>0.974084</td>\n",
       "    </tr>\n",
       "    <tr>\n",
       "      <th>YEARS_BEGINEXPLUATATION_MODE</th>\n",
       "      <td>YEARS_BEGINEXPLUATATION_AVG</td>\n",
       "      <td>0.971959</td>\n",
       "    </tr>\n",
       "    <tr>\n",
       "      <th>EMPLOYED_BIRTH_RATIO</th>\n",
       "      <td>DAYS_EMPLOYED</td>\n",
       "      <td>0.954679</td>\n",
       "    </tr>\n",
       "    <tr>\n",
       "      <th>REGION_RATING_CLIENT</th>\n",
       "      <td>REGION_RATING_CLIENT_W_CITY</td>\n",
       "      <td>0.950318</td>\n",
       "    </tr>\n",
       "    <tr>\n",
       "      <th>TOTALAREA_MODE</th>\n",
       "      <td>LIVINGAREA_MEDI</td>\n",
       "      <td>0.920174</td>\n",
       "    </tr>\n",
       "    <tr>\n",
       "      <th>HOUSETYPE_MODE_block of flats</th>\n",
       "      <td>EMERGENCYSTATE_MODE_No</td>\n",
       "      <td>0.913905</td>\n",
       "    </tr>\n",
       "    <tr>\n",
       "      <th>APARTMENTS_AVG</th>\n",
       "      <td>LIVINGAREA_MEDI</td>\n",
       "      <td>0.912065</td>\n",
       "    </tr>\n",
       "    <tr>\n",
       "      <th>LIVINGAPARTMENTS_AVG</th>\n",
       "      <td>APARTMENTS_MODE</td>\n",
       "      <td>0.906649</td>\n",
       "    </tr>\n",
       "  </tbody>\n",
       "</table>\n",
       "</div>"
      ],
      "text/plain": [
       "                                                             pair  correlation\n",
       "NAME_CONTRACT_TYPE_Revolving loans  NAME_CONTRACT_TYPE_Cash loans     1.000000\n",
       "CODE_GENDER_F                                       CODE_GENDER_M     0.999966\n",
       "YEARS_BUILD_AVG                                  YEARS_BUILD_MEDI     0.998625\n",
       "OBS_60_CNT_SOCIAL_CIRCLE                 OBS_30_CNT_SOCIAL_CIRCLE     0.998473\n",
       "FLOORSMIN_MEDI                                      FLOORSMIN_AVG     0.997280\n",
       "FLOORSMAX_MEDI                                      FLOORSMAX_AVG     0.997094\n",
       "ENTRANCES_MEDI                                      ENTRANCES_AVG     0.996868\n",
       "COMMONAREA_AVG                                    COMMONAREA_MEDI     0.996439\n",
       "ELEVATORS_MEDI                                      ELEVATORS_AVG     0.996105\n",
       "LIVINGAREA_MEDI                                    LIVINGAREA_AVG     0.995623\n",
       "BASEMENTAREA_MEDI                                BASEMENTAREA_AVG     0.995085\n",
       "APARTMENTS_MEDI                                    APARTMENTS_AVG     0.994987\n",
       "LIVINGAPARTMENTS_MEDI                        LIVINGAPARTMENTS_AVG     0.993817\n",
       "YEARS_BEGINEXPLUATATION_AVG          YEARS_BEGINEXPLUATATION_MEDI     0.993356\n",
       "LANDAREA_AVG                                        LANDAREA_MEDI     0.992257\n",
       "NONLIVINGAPARTMENTS_MEDI                  NONLIVINGAPARTMENTS_AVG     0.991873\n",
       "NONLIVINGAREA_MEDI                              NONLIVINGAREA_AVG     0.991335\n",
       "YEARS_BUILD_MODE                                  YEARS_BUILD_AVG     0.989513\n",
       "FLOORSMIN_MODE                                     FLOORSMIN_MEDI     0.988223\n",
       "FLOORSMAX_MODE                                     FLOORSMAX_MEDI     0.988045\n",
       "AMT_CREDIT                                        AMT_GOODS_PRICE     0.986451\n",
       "ELEVATORS_MODE                                     ELEVATORS_MEDI     0.982439\n",
       "NONLIVINGAPARTMENTS_MODE                 NONLIVINGAPARTMENTS_MEDI     0.981891\n",
       "ENTRANCES_MODE                                     ENTRANCES_MEDI     0.980663\n",
       "COMMONAREA_MODE                                    COMMONAREA_AVG     0.977694\n",
       "BASEMENTAREA_MODE                               BASEMENTAREA_MEDI     0.977032\n",
       "APARTMENTS_MODE                                   APARTMENTS_MEDI     0.976759\n",
       "x0^2                                                 EXT_SOURCE_1     0.976631\n",
       "LIVINGAPARTMENTS_MODE                       LIVINGAPARTMENTS_MEDI     0.976294\n",
       "x2^2                                                 EXT_SOURCE_3     0.975462\n",
       "NONLIVINGAREA_MODE                             NONLIVINGAREA_MEDI     0.975432\n",
       "x1^2                                                 EXT_SOURCE_2     0.974734\n",
       "LIVINGAREA_MODE                                   LIVINGAREA_MEDI     0.974149\n",
       "LANDAREA_MODE                                        LANDAREA_AVG     0.974084\n",
       "YEARS_BEGINEXPLUATATION_MODE          YEARS_BEGINEXPLUATATION_AVG     0.971959\n",
       "EMPLOYED_BIRTH_RATIO                                DAYS_EMPLOYED     0.954679\n",
       "REGION_RATING_CLIENT                  REGION_RATING_CLIENT_W_CITY     0.950318\n",
       "TOTALAREA_MODE                                    LIVINGAREA_MEDI     0.920174\n",
       "HOUSETYPE_MODE_block of flats              EMERGENCYSTATE_MODE_No     0.913905\n",
       "APARTMENTS_AVG                                    LIVINGAREA_MEDI     0.912065\n",
       "LIVINGAPARTMENTS_AVG                              APARTMENTS_MODE     0.906649"
      ]
     },
     "metadata": {},
     "execution_count": 17
    }
   ],
   "metadata": {}
  },
  {
   "cell_type": "code",
   "execution_count": 18,
   "source": [
    "# Drop irrelevant columns\n",
    "app_df.drop(\n",
    "    columns=highly_decorrelated_from_target.index,\n",
    "    inplace=True,\n",
    "    errors=\"ignore\",\n",
    ")\n",
    "app_df.drop(\n",
    "    columns=highly_correlated.index,\n",
    "    inplace=True,\n",
    "    errors=\"ignore\",\n",
    ")\n",
    "\n",
    "app_df.describe(include=\"all\")\n"
   ],
   "outputs": [
    {
     "output_type": "execute_result",
     "data": {
      "text/html": [
       "<div>\n",
       "<style scoped>\n",
       "    .dataframe tbody tr th:only-of-type {\n",
       "        vertical-align: middle;\n",
       "    }\n",
       "\n",
       "    .dataframe tbody tr th {\n",
       "        vertical-align: top;\n",
       "    }\n",
       "\n",
       "    .dataframe thead th {\n",
       "        text-align: right;\n",
       "    }\n",
       "</style>\n",
       "<table border=\"1\" class=\"dataframe\">\n",
       "  <thead>\n",
       "    <tr style=\"text-align: right;\">\n",
       "      <th></th>\n",
       "      <th>TARGET</th>\n",
       "      <th>FLAG_OWN_CAR</th>\n",
       "      <th>AMT_ANNUITY</th>\n",
       "      <th>AMT_GOODS_PRICE</th>\n",
       "      <th>REGION_POPULATION_RELATIVE</th>\n",
       "      <th>DAYS_BIRTH</th>\n",
       "      <th>DAYS_EMPLOYED</th>\n",
       "      <th>DAYS_REGISTRATION</th>\n",
       "      <th>DAYS_ID_PUBLISH</th>\n",
       "      <th>OWN_CAR_AGE</th>\n",
       "      <th>...</th>\n",
       "      <th>WALLSMATERIAL_MODE_Monolithic</th>\n",
       "      <th>WALLSMATERIAL_MODE_Panel</th>\n",
       "      <th>WALLSMATERIAL_MODE_Stone, brick</th>\n",
       "      <th>EMERGENCYSTATE_MODE_No</th>\n",
       "      <th>CREDIT_PRICE_RATIO</th>\n",
       "      <th>ANNUITY_CREDIT_RATIO</th>\n",
       "      <th>ANNUITY_INCOME_RATIO</th>\n",
       "      <th>x0 x1</th>\n",
       "      <th>x0 x2</th>\n",
       "      <th>x1 x2</th>\n",
       "    </tr>\n",
       "  </thead>\n",
       "  <tbody>\n",
       "    <tr>\n",
       "      <th>count</th>\n",
       "      <td>252137.000000</td>\n",
       "      <td>252137</td>\n",
       "      <td>252125.000000</td>\n",
       "      <td>2.518810e+05</td>\n",
       "      <td>252137.000000</td>\n",
       "      <td>252137.000000</td>\n",
       "      <td>252137.000000</td>\n",
       "      <td>252137.000000</td>\n",
       "      <td>252137.000000</td>\n",
       "      <td>94413.000000</td>\n",
       "      <td>...</td>\n",
       "      <td>252137</td>\n",
       "      <td>252137</td>\n",
       "      <td>252137</td>\n",
       "      <td>252137</td>\n",
       "      <td>251881.000000</td>\n",
       "      <td>252125.000000</td>\n",
       "      <td>252125.000000</td>\n",
       "      <td>9.896300e+04</td>\n",
       "      <td>98963.000000</td>\n",
       "      <td>9.896300e+04</td>\n",
       "    </tr>\n",
       "    <tr>\n",
       "      <th>unique</th>\n",
       "      <td>NaN</td>\n",
       "      <td>2</td>\n",
       "      <td>NaN</td>\n",
       "      <td>NaN</td>\n",
       "      <td>NaN</td>\n",
       "      <td>NaN</td>\n",
       "      <td>NaN</td>\n",
       "      <td>NaN</td>\n",
       "      <td>NaN</td>\n",
       "      <td>NaN</td>\n",
       "      <td>...</td>\n",
       "      <td>2</td>\n",
       "      <td>2</td>\n",
       "      <td>2</td>\n",
       "      <td>2</td>\n",
       "      <td>NaN</td>\n",
       "      <td>NaN</td>\n",
       "      <td>NaN</td>\n",
       "      <td>NaN</td>\n",
       "      <td>NaN</td>\n",
       "      <td>NaN</td>\n",
       "    </tr>\n",
       "    <tr>\n",
       "      <th>top</th>\n",
       "      <td>NaN</td>\n",
       "      <td>False</td>\n",
       "      <td>NaN</td>\n",
       "      <td>NaN</td>\n",
       "      <td>NaN</td>\n",
       "      <td>NaN</td>\n",
       "      <td>NaN</td>\n",
       "      <td>NaN</td>\n",
       "      <td>NaN</td>\n",
       "      <td>NaN</td>\n",
       "      <td>...</td>\n",
       "      <td>False</td>\n",
       "      <td>False</td>\n",
       "      <td>False</td>\n",
       "      <td>True</td>\n",
       "      <td>NaN</td>\n",
       "      <td>NaN</td>\n",
       "      <td>NaN</td>\n",
       "      <td>NaN</td>\n",
       "      <td>NaN</td>\n",
       "      <td>NaN</td>\n",
       "    </tr>\n",
       "    <tr>\n",
       "      <th>freq</th>\n",
       "      <td>NaN</td>\n",
       "      <td>157719</td>\n",
       "      <td>NaN</td>\n",
       "      <td>NaN</td>\n",
       "      <td>NaN</td>\n",
       "      <td>NaN</td>\n",
       "      <td>NaN</td>\n",
       "      <td>NaN</td>\n",
       "      <td>NaN</td>\n",
       "      <td>NaN</td>\n",
       "      <td>...</td>\n",
       "      <td>250616</td>\n",
       "      <td>197798</td>\n",
       "      <td>198699</td>\n",
       "      <td>131341</td>\n",
       "      <td>NaN</td>\n",
       "      <td>NaN</td>\n",
       "      <td>NaN</td>\n",
       "      <td>NaN</td>\n",
       "      <td>NaN</td>\n",
       "      <td>NaN</td>\n",
       "    </tr>\n",
       "    <tr>\n",
       "      <th>mean</th>\n",
       "      <td>0.086600</td>\n",
       "      <td>NaN</td>\n",
       "      <td>27812.325168</td>\n",
       "      <td>5.494057e+05</td>\n",
       "      <td>0.020894</td>\n",
       "      <td>-14769.133174</td>\n",
       "      <td>-2384.169325</td>\n",
       "      <td>-4635.430849</td>\n",
       "      <td>-2800.639724</td>\n",
       "      <td>11.950187</td>\n",
       "      <td>...</td>\n",
       "      <td>NaN</td>\n",
       "      <td>NaN</td>\n",
       "      <td>NaN</td>\n",
       "      <td>NaN</td>\n",
       "      <td>1.123500</td>\n",
       "      <td>0.053892</td>\n",
       "      <td>0.177266</td>\n",
       "      <td>2.667788e-01</td>\n",
       "      <td>0.246540</td>\n",
       "      <td>2.643175e-01</td>\n",
       "    </tr>\n",
       "    <tr>\n",
       "      <th>std</th>\n",
       "      <td>0.281248</td>\n",
       "      <td>NaN</td>\n",
       "      <td>14647.759104</td>\n",
       "      <td>3.732685e+05</td>\n",
       "      <td>0.013874</td>\n",
       "      <td>3662.573769</td>\n",
       "      <td>2338.360162</td>\n",
       "      <td>3252.169156</td>\n",
       "      <td>1515.360629</td>\n",
       "      <td>11.981952</td>\n",
       "      <td>...</td>\n",
       "      <td>NaN</td>\n",
       "      <td>NaN</td>\n",
       "      <td>NaN</td>\n",
       "      <td>NaN</td>\n",
       "      <td>0.126625</td>\n",
       "      <td>0.022521</td>\n",
       "      <td>0.090983</td>\n",
       "      <td>1.558798e-01</td>\n",
       "      <td>0.152676</td>\n",
       "      <td>1.452604e-01</td>\n",
       "    </tr>\n",
       "    <tr>\n",
       "      <th>min</th>\n",
       "      <td>0.000000</td>\n",
       "      <td>NaN</td>\n",
       "      <td>1980.000000</td>\n",
       "      <td>4.050000e+04</td>\n",
       "      <td>0.000290</td>\n",
       "      <td>-25200.000000</td>\n",
       "      <td>-17912.000000</td>\n",
       "      <td>-22928.000000</td>\n",
       "      <td>-7197.000000</td>\n",
       "      <td>0.000000</td>\n",
       "      <td>...</td>\n",
       "      <td>NaN</td>\n",
       "      <td>NaN</td>\n",
       "      <td>NaN</td>\n",
       "      <td>NaN</td>\n",
       "      <td>0.150000</td>\n",
       "      <td>0.022073</td>\n",
       "      <td>0.000224</td>\n",
       "      <td>5.740538e-07</td>\n",
       "      <td>0.000014</td>\n",
       "      <td>3.255191e-07</td>\n",
       "    </tr>\n",
       "    <tr>\n",
       "      <th>25%</th>\n",
       "      <td>0.000000</td>\n",
       "      <td>NaN</td>\n",
       "      <td>17073.000000</td>\n",
       "      <td>2.475000e+05</td>\n",
       "      <td>0.010006</td>\n",
       "      <td>-17563.000000</td>\n",
       "      <td>-3175.000000</td>\n",
       "      <td>-6952.000000</td>\n",
       "      <td>-4177.000000</td>\n",
       "      <td>5.000000</td>\n",
       "      <td>...</td>\n",
       "      <td>NaN</td>\n",
       "      <td>NaN</td>\n",
       "      <td>NaN</td>\n",
       "      <td>NaN</td>\n",
       "      <td>1.000000</td>\n",
       "      <td>0.037060</td>\n",
       "      <td>0.112500</td>\n",
       "      <td>1.397380e-01</td>\n",
       "      <td>0.123250</td>\n",
       "      <td>1.466391e-01</td>\n",
       "    </tr>\n",
       "    <tr>\n",
       "      <th>50%</th>\n",
       "      <td>0.000000</td>\n",
       "      <td>NaN</td>\n",
       "      <td>25834.500000</td>\n",
       "      <td>4.500000e+05</td>\n",
       "      <td>0.018850</td>\n",
       "      <td>-14573.000000</td>\n",
       "      <td>-1648.000000</td>\n",
       "      <td>-4265.000000</td>\n",
       "      <td>-2886.000000</td>\n",
       "      <td>9.000000</td>\n",
       "      <td>...</td>\n",
       "      <td>NaN</td>\n",
       "      <td>NaN</td>\n",
       "      <td>NaN</td>\n",
       "      <td>NaN</td>\n",
       "      <td>1.118800</td>\n",
       "      <td>0.050000</td>\n",
       "      <td>0.160333</td>\n",
       "      <td>2.514975e-01</td>\n",
       "      <td>0.223662</td>\n",
       "      <td>2.585384e-01</td>\n",
       "    </tr>\n",
       "    <tr>\n",
       "      <th>75%</th>\n",
       "      <td>0.000000</td>\n",
       "      <td>NaN</td>\n",
       "      <td>35617.500000</td>\n",
       "      <td>6.930000e+05</td>\n",
       "      <td>0.028663</td>\n",
       "      <td>-11775.000000</td>\n",
       "      <td>-767.000000</td>\n",
       "      <td>-1845.000000</td>\n",
       "      <td>-1487.000000</td>\n",
       "      <td>15.000000</td>\n",
       "      <td>...</td>\n",
       "      <td>NaN</td>\n",
       "      <td>NaN</td>\n",
       "      <td>NaN</td>\n",
       "      <td>NaN</td>\n",
       "      <td>1.198000</td>\n",
       "      <td>0.064314</td>\n",
       "      <td>0.224960</td>\n",
       "      <td>3.803050e-01</td>\n",
       "      <td>0.349307</td>\n",
       "      <td>3.744008e-01</td>\n",
       "    </tr>\n",
       "    <tr>\n",
       "      <th>max</th>\n",
       "      <td>1.000000</td>\n",
       "      <td>NaN</td>\n",
       "      <td>258025.500000</td>\n",
       "      <td>4.050000e+06</td>\n",
       "      <td>0.072508</td>\n",
       "      <td>-7489.000000</td>\n",
       "      <td>0.000000</td>\n",
       "      <td>0.000000</td>\n",
       "      <td>0.000000</td>\n",
       "      <td>91.000000</td>\n",
       "      <td>...</td>\n",
       "      <td>NaN</td>\n",
       "      <td>NaN</td>\n",
       "      <td>NaN</td>\n",
       "      <td>NaN</td>\n",
       "      <td>6.000000</td>\n",
       "      <td>0.124430</td>\n",
       "      <td>1.451571</td>\n",
       "      <td>7.458840e-01</td>\n",
       "      <td>0.789032</td>\n",
       "      <td>6.977255e-01</td>\n",
       "    </tr>\n",
       "  </tbody>\n",
       "</table>\n",
       "<p>11 rows × 93 columns</p>\n",
       "</div>"
      ],
      "text/plain": [
       "               TARGET FLAG_OWN_CAR    AMT_ANNUITY  AMT_GOODS_PRICE  \\\n",
       "count   252137.000000       252137  252125.000000     2.518810e+05   \n",
       "unique            NaN            2            NaN              NaN   \n",
       "top               NaN        False            NaN              NaN   \n",
       "freq              NaN       157719            NaN              NaN   \n",
       "mean         0.086600          NaN   27812.325168     5.494057e+05   \n",
       "std          0.281248          NaN   14647.759104     3.732685e+05   \n",
       "min          0.000000          NaN    1980.000000     4.050000e+04   \n",
       "25%          0.000000          NaN   17073.000000     2.475000e+05   \n",
       "50%          0.000000          NaN   25834.500000     4.500000e+05   \n",
       "75%          0.000000          NaN   35617.500000     6.930000e+05   \n",
       "max          1.000000          NaN  258025.500000     4.050000e+06   \n",
       "\n",
       "        REGION_POPULATION_RELATIVE     DAYS_BIRTH  DAYS_EMPLOYED  \\\n",
       "count                252137.000000  252137.000000  252137.000000   \n",
       "unique                         NaN            NaN            NaN   \n",
       "top                            NaN            NaN            NaN   \n",
       "freq                           NaN            NaN            NaN   \n",
       "mean                      0.020894  -14769.133174   -2384.169325   \n",
       "std                       0.013874    3662.573769    2338.360162   \n",
       "min                       0.000290  -25200.000000  -17912.000000   \n",
       "25%                       0.010006  -17563.000000   -3175.000000   \n",
       "50%                       0.018850  -14573.000000   -1648.000000   \n",
       "75%                       0.028663  -11775.000000    -767.000000   \n",
       "max                       0.072508   -7489.000000       0.000000   \n",
       "\n",
       "        DAYS_REGISTRATION  DAYS_ID_PUBLISH   OWN_CAR_AGE  ...  \\\n",
       "count       252137.000000    252137.000000  94413.000000  ...   \n",
       "unique                NaN              NaN           NaN  ...   \n",
       "top                   NaN              NaN           NaN  ...   \n",
       "freq                  NaN              NaN           NaN  ...   \n",
       "mean         -4635.430849     -2800.639724     11.950187  ...   \n",
       "std           3252.169156      1515.360629     11.981952  ...   \n",
       "min         -22928.000000     -7197.000000      0.000000  ...   \n",
       "25%          -6952.000000     -4177.000000      5.000000  ...   \n",
       "50%          -4265.000000     -2886.000000      9.000000  ...   \n",
       "75%          -1845.000000     -1487.000000     15.000000  ...   \n",
       "max              0.000000         0.000000     91.000000  ...   \n",
       "\n",
       "       WALLSMATERIAL_MODE_Monolithic WALLSMATERIAL_MODE_Panel  \\\n",
       "count                         252137                   252137   \n",
       "unique                             2                        2   \n",
       "top                            False                    False   \n",
       "freq                          250616                   197798   \n",
       "mean                             NaN                      NaN   \n",
       "std                              NaN                      NaN   \n",
       "min                              NaN                      NaN   \n",
       "25%                              NaN                      NaN   \n",
       "50%                              NaN                      NaN   \n",
       "75%                              NaN                      NaN   \n",
       "max                              NaN                      NaN   \n",
       "\n",
       "        WALLSMATERIAL_MODE_Stone, brick  EMERGENCYSTATE_MODE_No  \\\n",
       "count                            252137                  252137   \n",
       "unique                                2                       2   \n",
       "top                               False                    True   \n",
       "freq                             198699                  131341   \n",
       "mean                                NaN                     NaN   \n",
       "std                                 NaN                     NaN   \n",
       "min                                 NaN                     NaN   \n",
       "25%                                 NaN                     NaN   \n",
       "50%                                 NaN                     NaN   \n",
       "75%                                 NaN                     NaN   \n",
       "max                                 NaN                     NaN   \n",
       "\n",
       "       CREDIT_PRICE_RATIO ANNUITY_CREDIT_RATIO ANNUITY_INCOME_RATIO  \\\n",
       "count       251881.000000        252125.000000        252125.000000   \n",
       "unique                NaN                  NaN                  NaN   \n",
       "top                   NaN                  NaN                  NaN   \n",
       "freq                  NaN                  NaN                  NaN   \n",
       "mean             1.123500             0.053892             0.177266   \n",
       "std              0.126625             0.022521             0.090983   \n",
       "min              0.150000             0.022073             0.000224   \n",
       "25%              1.000000             0.037060             0.112500   \n",
       "50%              1.118800             0.050000             0.160333   \n",
       "75%              1.198000             0.064314             0.224960   \n",
       "max              6.000000             0.124430             1.451571   \n",
       "\n",
       "               x0 x1         x0 x2         x1 x2  \n",
       "count   9.896300e+04  98963.000000  9.896300e+04  \n",
       "unique           NaN           NaN           NaN  \n",
       "top              NaN           NaN           NaN  \n",
       "freq             NaN           NaN           NaN  \n",
       "mean    2.667788e-01      0.246540  2.643175e-01  \n",
       "std     1.558798e-01      0.152676  1.452604e-01  \n",
       "min     5.740538e-07      0.000014  3.255191e-07  \n",
       "25%     1.397380e-01      0.123250  1.466391e-01  \n",
       "50%     2.514975e-01      0.223662  2.585384e-01  \n",
       "75%     3.803050e-01      0.349307  3.744008e-01  \n",
       "max     7.458840e-01      0.789032  6.977255e-01  \n",
       "\n",
       "[11 rows x 93 columns]"
      ]
     },
     "metadata": {},
     "execution_count": 18
    }
   ],
   "metadata": {}
  },
  {
   "cell_type": "markdown",
   "source": [
    "Après simplification, nous voyons que nous avons drastiquement réduit le nombre de variables pour ne conserver que celles réellement pertinentes pour la prédiction de `TARGET`.\n"
   ],
   "metadata": {}
  },
  {
   "cell_type": "markdown",
   "source": [
    "## Préparation des données\n",
    "\n",
    "Nous allons transformer les données pour que nos modèles puissent les exploiter au mieux. Afin d'éviter la \"fuite d'information\" entre le jeu de données d'entraînement et de test, nous allons maintenant séparer notre jeu de données en deux. Les transformations seront apprises uniquement sur le jeu d'entraînement, mais appliquées aux deux jeux de données (entraînement et test).\n"
   ],
   "metadata": {}
  },
  {
   "cell_type": "code",
   "execution_count": 19,
   "source": [
    "# Given data\n",
    "X = app_df.drop([\"TARGET\"], axis=1)\n",
    "# Data to predict\n",
    "y = app_df[\"TARGET\"]\n",
    "\n",
    "# Let's split the whole dataset into a training set (80% of data) and a test set (20% of data)\n",
    "# The dataset will be split in a stratified way, in order to have a good distribution of the target variable\n",
    "X_train, X_test, y_train, y_test = train_test_split(X, y, test_size=0.2, stratify=y , random_state=42)\n",
    "\n",
    "# Save the processed data\n",
    "X_train.to_csv(\"../data/processed/X_train.csv\", index=False)\n",
    "X_test.to_csv(\"../data/processed/X_test.csv\", index=False)\n",
    "y_train.to_csv(\"../data/processed/y_train.csv\", index=False)\n",
    "y_test.to_csv(\"../data/processed/y_test.csv\", index=False)\n",
    "\n"
   ],
   "outputs": [],
   "metadata": {}
  },
  {
   "cell_type": "markdown",
   "source": [
    "### Normalisation des données\n",
    "\n",
    "Afin d'éviter que certains modèles pondèrent l'importance de certaines variables à cause de leur ordre de grandeur, nous allons normaliser chaque variable afin de les ramener à une moyenne nulle et une variance de 1.\n"
   ],
   "metadata": {}
  },
  {
   "cell_type": "code",
   "execution_count": 20,
   "source": [
    "# Scale each variable of the DataFrame\n",
    "from sklearn.preprocessing import StandardScaler\n",
    "\n",
    "# define scaler\n",
    "scaler = StandardScaler()\n",
    "\n",
    "# fit scaler on train data only, to avoid data leak\n",
    "X_train = pd.DataFrame(\n",
    "    scaler.fit_transform(X_train),\n",
    "    columns=X.columns,\n",
    ")\n",
    "X_test = pd.DataFrame(\n",
    "    scaler.transform(X_test),\n",
    "    columns=X.columns,\n",
    ")\n",
    "\n",
    "# Save the processed data\n",
    "X_train.to_csv(\"../data/processed/X_train_scaled.csv\", index=False)\n",
    "X_test.to_csv(\"../data/processed/X_test_scaled.csv\", index=False)\n",
    "\n",
    "X_train.describe(include=\"all\")\n"
   ],
   "outputs": [
    {
     "output_type": "execute_result",
     "data": {
      "text/html": [
       "<div>\n",
       "<style scoped>\n",
       "    .dataframe tbody tr th:only-of-type {\n",
       "        vertical-align: middle;\n",
       "    }\n",
       "\n",
       "    .dataframe tbody tr th {\n",
       "        vertical-align: top;\n",
       "    }\n",
       "\n",
       "    .dataframe thead th {\n",
       "        text-align: right;\n",
       "    }\n",
       "</style>\n",
       "<table border=\"1\" class=\"dataframe\">\n",
       "  <thead>\n",
       "    <tr style=\"text-align: right;\">\n",
       "      <th></th>\n",
       "      <th>FLAG_OWN_CAR</th>\n",
       "      <th>AMT_ANNUITY</th>\n",
       "      <th>AMT_GOODS_PRICE</th>\n",
       "      <th>REGION_POPULATION_RELATIVE</th>\n",
       "      <th>DAYS_BIRTH</th>\n",
       "      <th>DAYS_EMPLOYED</th>\n",
       "      <th>DAYS_REGISTRATION</th>\n",
       "      <th>DAYS_ID_PUBLISH</th>\n",
       "      <th>OWN_CAR_AGE</th>\n",
       "      <th>FLAG_WORK_PHONE</th>\n",
       "      <th>...</th>\n",
       "      <th>WALLSMATERIAL_MODE_Monolithic</th>\n",
       "      <th>WALLSMATERIAL_MODE_Panel</th>\n",
       "      <th>WALLSMATERIAL_MODE_Stone, brick</th>\n",
       "      <th>EMERGENCYSTATE_MODE_No</th>\n",
       "      <th>CREDIT_PRICE_RATIO</th>\n",
       "      <th>ANNUITY_CREDIT_RATIO</th>\n",
       "      <th>ANNUITY_INCOME_RATIO</th>\n",
       "      <th>x0 x1</th>\n",
       "      <th>x0 x2</th>\n",
       "      <th>x1 x2</th>\n",
       "    </tr>\n",
       "  </thead>\n",
       "  <tbody>\n",
       "    <tr>\n",
       "      <th>count</th>\n",
       "      <td>2.017090e+05</td>\n",
       "      <td>2.016990e+05</td>\n",
       "      <td>2.015040e+05</td>\n",
       "      <td>2.017090e+05</td>\n",
       "      <td>2.017090e+05</td>\n",
       "      <td>2.017090e+05</td>\n",
       "      <td>2.017090e+05</td>\n",
       "      <td>2.017090e+05</td>\n",
       "      <td>7.553400e+04</td>\n",
       "      <td>2.017090e+05</td>\n",
       "      <td>...</td>\n",
       "      <td>2.017090e+05</td>\n",
       "      <td>2.017090e+05</td>\n",
       "      <td>2.017090e+05</td>\n",
       "      <td>2.017090e+05</td>\n",
       "      <td>2.015040e+05</td>\n",
       "      <td>2.016990e+05</td>\n",
       "      <td>2.016990e+05</td>\n",
       "      <td>7.908000e+04</td>\n",
       "      <td>7.908000e+04</td>\n",
       "      <td>7.908000e+04</td>\n",
       "    </tr>\n",
       "    <tr>\n",
       "      <th>mean</th>\n",
       "      <td>4.379921e-15</td>\n",
       "      <td>-5.780894e-17</td>\n",
       "      <td>-1.287073e-16</td>\n",
       "      <td>-9.328319e-18</td>\n",
       "      <td>3.064068e-17</td>\n",
       "      <td>-1.134859e-17</td>\n",
       "      <td>2.100798e-17</td>\n",
       "      <td>-9.296176e-17</td>\n",
       "      <td>-5.732981e-16</td>\n",
       "      <td>6.603411e-15</td>\n",
       "      <td>...</td>\n",
       "      <td>-3.917992e-16</td>\n",
       "      <td>-5.594636e-15</td>\n",
       "      <td>2.105532e-15</td>\n",
       "      <td>-2.368642e-15</td>\n",
       "      <td>-1.264926e-15</td>\n",
       "      <td>-5.198424e-17</td>\n",
       "      <td>-2.486383e-16</td>\n",
       "      <td>-4.992073e-17</td>\n",
       "      <td>1.722179e-16</td>\n",
       "      <td>6.734483e-16</td>\n",
       "    </tr>\n",
       "    <tr>\n",
       "      <th>std</th>\n",
       "      <td>1.000002e+00</td>\n",
       "      <td>1.000002e+00</td>\n",
       "      <td>1.000002e+00</td>\n",
       "      <td>1.000002e+00</td>\n",
       "      <td>1.000002e+00</td>\n",
       "      <td>1.000002e+00</td>\n",
       "      <td>1.000002e+00</td>\n",
       "      <td>1.000002e+00</td>\n",
       "      <td>1.000007e+00</td>\n",
       "      <td>1.000002e+00</td>\n",
       "      <td>...</td>\n",
       "      <td>1.000002e+00</td>\n",
       "      <td>1.000002e+00</td>\n",
       "      <td>1.000002e+00</td>\n",
       "      <td>1.000002e+00</td>\n",
       "      <td>1.000002e+00</td>\n",
       "      <td>1.000002e+00</td>\n",
       "      <td>1.000002e+00</td>\n",
       "      <td>1.000006e+00</td>\n",
       "      <td>1.000006e+00</td>\n",
       "      <td>1.000006e+00</td>\n",
       "    </tr>\n",
       "    <tr>\n",
       "      <th>min</th>\n",
       "      <td>-7.737541e-01</td>\n",
       "      <td>-1.761855e+00</td>\n",
       "      <td>-1.351575e+00</td>\n",
       "      <td>-1.484581e+00</td>\n",
       "      <td>-2.848743e+00</td>\n",
       "      <td>-6.509712e+00</td>\n",
       "      <td>-5.554364e+00</td>\n",
       "      <td>-2.474930e+00</td>\n",
       "      <td>-9.993036e-01</td>\n",
       "      <td>-5.670509e-01</td>\n",
       "      <td>...</td>\n",
       "      <td>-7.749089e-02</td>\n",
       "      <td>-5.246283e-01</td>\n",
       "      <td>-5.183915e-01</td>\n",
       "      <td>-1.042885e+00</td>\n",
       "      <td>-7.652617e+00</td>\n",
       "      <td>-1.412660e+00</td>\n",
       "      <td>-1.945859e+00</td>\n",
       "      <td>-1.709705e+00</td>\n",
       "      <td>-1.616246e+00</td>\n",
       "      <td>-1.819401e+00</td>\n",
       "    </tr>\n",
       "    <tr>\n",
       "      <th>25%</th>\n",
       "      <td>-7.737541e-01</td>\n",
       "      <td>-7.326865e-01</td>\n",
       "      <td>-8.086297e-01</td>\n",
       "      <td>-7.842192e-01</td>\n",
       "      <td>-7.623051e-01</td>\n",
       "      <td>-3.387911e-01</td>\n",
       "      <td>-7.121395e-01</td>\n",
       "      <td>-9.084423e-01</td>\n",
       "      <td>-5.807767e-01</td>\n",
       "      <td>-5.670509e-01</td>\n",
       "      <td>...</td>\n",
       "      <td>-7.749089e-02</td>\n",
       "      <td>-5.246283e-01</td>\n",
       "      <td>-5.183915e-01</td>\n",
       "      <td>-1.042885e+00</td>\n",
       "      <td>-9.713977e-01</td>\n",
       "      <td>-7.474075e-01</td>\n",
       "      <td>-7.114522e-01</td>\n",
       "      <td>-8.163247e-01</td>\n",
       "      <td>-8.058500e-01</td>\n",
       "      <td>-8.087277e-01</td>\n",
       "    </tr>\n",
       "    <tr>\n",
       "      <th>50%</th>\n",
       "      <td>-7.737541e-01</td>\n",
       "      <td>-1.342828e-01</td>\n",
       "      <td>-2.656849e-01</td>\n",
       "      <td>-1.467140e-01</td>\n",
       "      <td>5.485125e-02</td>\n",
       "      <td>3.151749e-01</td>\n",
       "      <td>1.118596e-01</td>\n",
       "      <td>-5.621510e-02</td>\n",
       "      <td>-2.459553e-01</td>\n",
       "      <td>-5.670509e-01</td>\n",
       "      <td>...</td>\n",
       "      <td>-7.749089e-02</td>\n",
       "      <td>-5.246283e-01</td>\n",
       "      <td>-5.183915e-01</td>\n",
       "      <td>9.588784e-01</td>\n",
       "      <td>-3.759905e-02</td>\n",
       "      <td>-1.730343e-01</td>\n",
       "      <td>-1.870201e-01</td>\n",
       "      <td>-9.628230e-02</td>\n",
       "      <td>-1.508959e-01</td>\n",
       "      <td>-4.228270e-02</td>\n",
       "    </tr>\n",
       "    <tr>\n",
       "      <th>75%</th>\n",
       "      <td>1.292400e+00</td>\n",
       "      <td>5.298255e-01</td>\n",
       "      <td>3.858489e-01</td>\n",
       "      <td>5.606400e-01</td>\n",
       "      <td>8.168571e-01</td>\n",
       "      <td>6.911947e-01</td>\n",
       "      <td>8.586856e-01</td>\n",
       "      <td>8.666460e-01</td>\n",
       "      <td>2.562769e-01</td>\n",
       "      <td>-5.670509e-01</td>\n",
       "      <td>...</td>\n",
       "      <td>-7.749089e-02</td>\n",
       "      <td>-5.246283e-01</td>\n",
       "      <td>-5.183915e-01</td>\n",
       "      <td>9.588784e-01</td>\n",
       "      <td>5.849334e-01</td>\n",
       "      <td>4.622681e-01</td>\n",
       "      <td>5.240965e-01</td>\n",
       "      <td>7.264475e-01</td>\n",
       "      <td>6.726754e-01</td>\n",
       "      <td>7.602456e-01</td>\n",
       "    </tr>\n",
       "    <tr>\n",
       "      <th>max</th>\n",
       "      <td>1.292400e+00</td>\n",
       "      <td>1.570791e+01</td>\n",
       "      <td>9.386668e+00</td>\n",
       "      <td>3.721135e+00</td>\n",
       "      <td>1.986759e+00</td>\n",
       "      <td>1.020533e+00</td>\n",
       "      <td>1.425339e+00</td>\n",
       "      <td>1.849579e+00</td>\n",
       "      <td>6.617884e+00</td>\n",
       "      <td>1.763510e+00</td>\n",
       "      <td>...</td>\n",
       "      <td>1.290474e+01</td>\n",
       "      <td>1.906111e+00</td>\n",
       "      <td>1.929044e+00</td>\n",
       "      <td>9.588784e-01</td>\n",
       "      <td>3.832989e+01</td>\n",
       "      <td>3.130703e+00</td>\n",
       "      <td>1.401081e+01</td>\n",
       "      <td>2.989431e+00</td>\n",
       "      <td>3.554755e+00</td>\n",
       "      <td>2.982891e+00</td>\n",
       "    </tr>\n",
       "  </tbody>\n",
       "</table>\n",
       "<p>8 rows × 92 columns</p>\n",
       "</div>"
      ],
      "text/plain": [
       "       FLAG_OWN_CAR   AMT_ANNUITY  AMT_GOODS_PRICE  \\\n",
       "count  2.017090e+05  2.016990e+05     2.015040e+05   \n",
       "mean   4.379921e-15 -5.780894e-17    -1.287073e-16   \n",
       "std    1.000002e+00  1.000002e+00     1.000002e+00   \n",
       "min   -7.737541e-01 -1.761855e+00    -1.351575e+00   \n",
       "25%   -7.737541e-01 -7.326865e-01    -8.086297e-01   \n",
       "50%   -7.737541e-01 -1.342828e-01    -2.656849e-01   \n",
       "75%    1.292400e+00  5.298255e-01     3.858489e-01   \n",
       "max    1.292400e+00  1.570791e+01     9.386668e+00   \n",
       "\n",
       "       REGION_POPULATION_RELATIVE    DAYS_BIRTH  DAYS_EMPLOYED  \\\n",
       "count                2.017090e+05  2.017090e+05   2.017090e+05   \n",
       "mean                -9.328319e-18  3.064068e-17  -1.134859e-17   \n",
       "std                  1.000002e+00  1.000002e+00   1.000002e+00   \n",
       "min                 -1.484581e+00 -2.848743e+00  -6.509712e+00   \n",
       "25%                 -7.842192e-01 -7.623051e-01  -3.387911e-01   \n",
       "50%                 -1.467140e-01  5.485125e-02   3.151749e-01   \n",
       "75%                  5.606400e-01  8.168571e-01   6.911947e-01   \n",
       "max                  3.721135e+00  1.986759e+00   1.020533e+00   \n",
       "\n",
       "       DAYS_REGISTRATION  DAYS_ID_PUBLISH   OWN_CAR_AGE  FLAG_WORK_PHONE  ...  \\\n",
       "count       2.017090e+05     2.017090e+05  7.553400e+04     2.017090e+05  ...   \n",
       "mean        2.100798e-17    -9.296176e-17 -5.732981e-16     6.603411e-15  ...   \n",
       "std         1.000002e+00     1.000002e+00  1.000007e+00     1.000002e+00  ...   \n",
       "min        -5.554364e+00    -2.474930e+00 -9.993036e-01    -5.670509e-01  ...   \n",
       "25%        -7.121395e-01    -9.084423e-01 -5.807767e-01    -5.670509e-01  ...   \n",
       "50%         1.118596e-01    -5.621510e-02 -2.459553e-01    -5.670509e-01  ...   \n",
       "75%         8.586856e-01     8.666460e-01  2.562769e-01    -5.670509e-01  ...   \n",
       "max         1.425339e+00     1.849579e+00  6.617884e+00     1.763510e+00  ...   \n",
       "\n",
       "       WALLSMATERIAL_MODE_Monolithic  WALLSMATERIAL_MODE_Panel  \\\n",
       "count                   2.017090e+05              2.017090e+05   \n",
       "mean                   -3.917992e-16             -5.594636e-15   \n",
       "std                     1.000002e+00              1.000002e+00   \n",
       "min                    -7.749089e-02             -5.246283e-01   \n",
       "25%                    -7.749089e-02             -5.246283e-01   \n",
       "50%                    -7.749089e-02             -5.246283e-01   \n",
       "75%                    -7.749089e-02             -5.246283e-01   \n",
       "max                     1.290474e+01              1.906111e+00   \n",
       "\n",
       "       WALLSMATERIAL_MODE_Stone, brick  EMERGENCYSTATE_MODE_No  \\\n",
       "count                     2.017090e+05            2.017090e+05   \n",
       "mean                      2.105532e-15           -2.368642e-15   \n",
       "std                       1.000002e+00            1.000002e+00   \n",
       "min                      -5.183915e-01           -1.042885e+00   \n",
       "25%                      -5.183915e-01           -1.042885e+00   \n",
       "50%                      -5.183915e-01            9.588784e-01   \n",
       "75%                      -5.183915e-01            9.588784e-01   \n",
       "max                       1.929044e+00            9.588784e-01   \n",
       "\n",
       "       CREDIT_PRICE_RATIO  ANNUITY_CREDIT_RATIO  ANNUITY_INCOME_RATIO  \\\n",
       "count        2.015040e+05          2.016990e+05          2.016990e+05   \n",
       "mean        -1.264926e-15         -5.198424e-17         -2.486383e-16   \n",
       "std          1.000002e+00          1.000002e+00          1.000002e+00   \n",
       "min         -7.652617e+00         -1.412660e+00         -1.945859e+00   \n",
       "25%         -9.713977e-01         -7.474075e-01         -7.114522e-01   \n",
       "50%         -3.759905e-02         -1.730343e-01         -1.870201e-01   \n",
       "75%          5.849334e-01          4.622681e-01          5.240965e-01   \n",
       "max          3.832989e+01          3.130703e+00          1.401081e+01   \n",
       "\n",
       "              x0 x1         x0 x2         x1 x2  \n",
       "count  7.908000e+04  7.908000e+04  7.908000e+04  \n",
       "mean  -4.992073e-17  1.722179e-16  6.734483e-16  \n",
       "std    1.000006e+00  1.000006e+00  1.000006e+00  \n",
       "min   -1.709705e+00 -1.616246e+00 -1.819401e+00  \n",
       "25%   -8.163247e-01 -8.058500e-01 -8.087277e-01  \n",
       "50%   -9.628230e-02 -1.508959e-01 -4.228270e-02  \n",
       "75%    7.264475e-01  6.726754e-01  7.602456e-01  \n",
       "max    2.989431e+00  3.554755e+00  2.982891e+00  \n",
       "\n",
       "[8 rows x 92 columns]"
      ]
     },
     "metadata": {},
     "execution_count": 20
    }
   ],
   "metadata": {}
  },
  {
   "cell_type": "markdown",
   "source": [
    "Nous avons ici équilibré les ordres de grandeur de chaque variables, afin que nos futurs modèles ne soient pas influencés par leur différence.\n"
   ],
   "metadata": {}
  },
  {
   "cell_type": "markdown",
   "source": [
    "### Imputation des valeurs manquantes\n",
    "\n",
    "Afin d'éviter que certains modèles ne puissent être utilisés à cause des valeurs manquantes, nous allons remplacer toutes les valeurs nulles par leur meilleure estimation possible.\n"
   ],
   "metadata": {}
  },
  {
   "cell_type": "code",
   "execution_count": 21,
   "source": [
    "# Impute missing values by modeling each feature with missing values as a function of other features in a round-robin fashion\n",
    "from sklearn.experimental import enable_iterative_imputer\n",
    "from sklearn.impute import IterativeImputer\n",
    "\n",
    "if os.path.exists(\"../data/processed/X_train_imputed.csv\") and os.path.exists(\"../data/processed/X_test_imputed.csv\"):\n",
    "    X_train = pd.read_csv(\"../data/processed/X_train_imputed.csv\")\n",
    "    X_test = pd.read_csv(\"../data/processed/X_test_imputed.csv\")\n",
    "else:\n",
    "    # define imputer\n",
    "    imputer = IterativeImputer(\n",
    "        n_nearest_features=min(5, int(len(X.columns) / 10)),\n",
    "    )\n",
    "\n",
    "    # fit imputer on train data only, to avoid data leak\n",
    "    X_train = pd.DataFrame(\n",
    "        imputer.fit_transform(X_train),\n",
    "        columns=X.columns,\n",
    "    )\n",
    "    X_test = pd.DataFrame(\n",
    "        imputer.transform(X_test),\n",
    "        columns=X.columns,\n",
    "    )\n",
    "\n",
    "    # Save the processed data\n",
    "    X_train.to_csv(\"../data/processed/X_train_imputed.csv\", index=False)\n",
    "    X_test.to_csv(\"../data/processed/X_test_imputed.csv\", index=False)\n",
    "\n",
    "X_train.describe(include=\"all\")\n"
   ],
   "outputs": [
    {
     "output_type": "execute_result",
     "data": {
      "text/html": [
       "<div>\n",
       "<style scoped>\n",
       "    .dataframe tbody tr th:only-of-type {\n",
       "        vertical-align: middle;\n",
       "    }\n",
       "\n",
       "    .dataframe tbody tr th {\n",
       "        vertical-align: top;\n",
       "    }\n",
       "\n",
       "    .dataframe thead th {\n",
       "        text-align: right;\n",
       "    }\n",
       "</style>\n",
       "<table border=\"1\" class=\"dataframe\">\n",
       "  <thead>\n",
       "    <tr style=\"text-align: right;\">\n",
       "      <th></th>\n",
       "      <th>FLAG_OWN_CAR</th>\n",
       "      <th>AMT_ANNUITY</th>\n",
       "      <th>AMT_GOODS_PRICE</th>\n",
       "      <th>REGION_POPULATION_RELATIVE</th>\n",
       "      <th>DAYS_BIRTH</th>\n",
       "      <th>DAYS_EMPLOYED</th>\n",
       "      <th>DAYS_REGISTRATION</th>\n",
       "      <th>DAYS_ID_PUBLISH</th>\n",
       "      <th>OWN_CAR_AGE</th>\n",
       "      <th>FLAG_WORK_PHONE</th>\n",
       "      <th>...</th>\n",
       "      <th>WALLSMATERIAL_MODE_Monolithic</th>\n",
       "      <th>WALLSMATERIAL_MODE_Panel</th>\n",
       "      <th>WALLSMATERIAL_MODE_Stone, brick</th>\n",
       "      <th>EMERGENCYSTATE_MODE_No</th>\n",
       "      <th>CREDIT_PRICE_RATIO</th>\n",
       "      <th>ANNUITY_CREDIT_RATIO</th>\n",
       "      <th>ANNUITY_INCOME_RATIO</th>\n",
       "      <th>x0 x1</th>\n",
       "      <th>x0 x2</th>\n",
       "      <th>x1 x2</th>\n",
       "    </tr>\n",
       "  </thead>\n",
       "  <tbody>\n",
       "    <tr>\n",
       "      <th>count</th>\n",
       "      <td>2.017090e+05</td>\n",
       "      <td>2.017090e+05</td>\n",
       "      <td>201709.000000</td>\n",
       "      <td>2.017090e+05</td>\n",
       "      <td>2.017090e+05</td>\n",
       "      <td>2.017090e+05</td>\n",
       "      <td>2.017090e+05</td>\n",
       "      <td>2.017090e+05</td>\n",
       "      <td>201709.000000</td>\n",
       "      <td>2.017090e+05</td>\n",
       "      <td>...</td>\n",
       "      <td>2.017090e+05</td>\n",
       "      <td>2.017090e+05</td>\n",
       "      <td>2.017090e+05</td>\n",
       "      <td>2.017090e+05</td>\n",
       "      <td>201709.000000</td>\n",
       "      <td>2.017090e+05</td>\n",
       "      <td>201709.000000</td>\n",
       "      <td>201709.000000</td>\n",
       "      <td>201709.000000</td>\n",
       "      <td>201709.000000</td>\n",
       "    </tr>\n",
       "    <tr>\n",
       "      <th>mean</th>\n",
       "      <td>4.379921e-15</td>\n",
       "      <td>-7.225982e-07</td>\n",
       "      <td>-0.000115</td>\n",
       "      <td>-1.391542e-17</td>\n",
       "      <td>2.831135e-17</td>\n",
       "      <td>-1.534731e-17</td>\n",
       "      <td>1.651005e-17</td>\n",
       "      <td>-9.386112e-17</td>\n",
       "      <td>-0.000016</td>\n",
       "      <td>6.603411e-15</td>\n",
       "      <td>...</td>\n",
       "      <td>-3.910717e-16</td>\n",
       "      <td>-5.594636e-15</td>\n",
       "      <td>2.106175e-15</td>\n",
       "      <td>-2.368642e-15</td>\n",
       "      <td>-0.000956</td>\n",
       "      <td>4.136604e-08</td>\n",
       "      <td>-0.000003</td>\n",
       "      <td>-0.044755</td>\n",
       "      <td>0.007856</td>\n",
       "      <td>-0.027881</td>\n",
       "    </tr>\n",
       "    <tr>\n",
       "      <th>std</th>\n",
       "      <td>1.000002e+00</td>\n",
       "      <td>9.999858e-01</td>\n",
       "      <td>0.999522</td>\n",
       "      <td>1.000002e+00</td>\n",
       "      <td>1.000002e+00</td>\n",
       "      <td>1.000002e+00</td>\n",
       "      <td>1.000002e+00</td>\n",
       "      <td>1.000002e+00</td>\n",
       "      <td>0.615185</td>\n",
       "      <td>1.000002e+00</td>\n",
       "      <td>...</td>\n",
       "      <td>1.000002e+00</td>\n",
       "      <td>1.000002e+00</td>\n",
       "      <td>1.000002e+00</td>\n",
       "      <td>1.000002e+00</td>\n",
       "      <td>0.999948</td>\n",
       "      <td>9.999781e-01</td>\n",
       "      <td>0.999981</td>\n",
       "      <td>0.835646</td>\n",
       "      <td>0.737523</td>\n",
       "      <td>0.925202</td>\n",
       "    </tr>\n",
       "    <tr>\n",
       "      <th>min</th>\n",
       "      <td>-7.737541e-01</td>\n",
       "      <td>-1.761855e+00</td>\n",
       "      <td>-1.351575</td>\n",
       "      <td>-1.484581e+00</td>\n",
       "      <td>-2.848743e+00</td>\n",
       "      <td>-6.509712e+00</td>\n",
       "      <td>-5.554364e+00</td>\n",
       "      <td>-2.474930e+00</td>\n",
       "      <td>-0.999304</td>\n",
       "      <td>-5.670509e-01</td>\n",
       "      <td>...</td>\n",
       "      <td>-7.749089e-02</td>\n",
       "      <td>-5.246283e-01</td>\n",
       "      <td>-5.183915e-01</td>\n",
       "      <td>-1.042885e+00</td>\n",
       "      <td>-7.652617</td>\n",
       "      <td>-1.412660e+00</td>\n",
       "      <td>-1.945859</td>\n",
       "      <td>-2.093773</td>\n",
       "      <td>-2.003836</td>\n",
       "      <td>-3.216198</td>\n",
       "    </tr>\n",
       "    <tr>\n",
       "      <th>25%</th>\n",
       "      <td>-7.737541e-01</td>\n",
       "      <td>-7.326865e-01</td>\n",
       "      <td>-0.808630</td>\n",
       "      <td>-7.842192e-01</td>\n",
       "      <td>-7.623051e-01</td>\n",
       "      <td>-3.387911e-01</td>\n",
       "      <td>-7.121395e-01</td>\n",
       "      <td>-9.084423e-01</td>\n",
       "      <td>-0.101455</td>\n",
       "      <td>-5.670509e-01</td>\n",
       "      <td>...</td>\n",
       "      <td>-7.749089e-02</td>\n",
       "      <td>-5.246283e-01</td>\n",
       "      <td>-5.183915e-01</td>\n",
       "      <td>-1.042885e+00</td>\n",
       "      <td>-0.971398</td>\n",
       "      <td>-7.474075e-01</td>\n",
       "      <td>-0.711452</td>\n",
       "      <td>-0.663293</td>\n",
       "      <td>-0.444729</td>\n",
       "      <td>-0.697841</td>\n",
       "    </tr>\n",
       "    <tr>\n",
       "      <th>50%</th>\n",
       "      <td>-7.737541e-01</td>\n",
       "      <td>-1.342828e-01</td>\n",
       "      <td>-0.265685</td>\n",
       "      <td>-1.467140e-01</td>\n",
       "      <td>5.485125e-02</td>\n",
       "      <td>3.151749e-01</td>\n",
       "      <td>1.118596e-01</td>\n",
       "      <td>-5.621510e-02</td>\n",
       "      <td>-0.023850</td>\n",
       "      <td>-5.670509e-01</td>\n",
       "      <td>...</td>\n",
       "      <td>-7.749089e-02</td>\n",
       "      <td>-5.246283e-01</td>\n",
       "      <td>-5.183915e-01</td>\n",
       "      <td>9.588784e-01</td>\n",
       "      <td>-0.037599</td>\n",
       "      <td>-1.730343e-01</td>\n",
       "      <td>-0.187020</td>\n",
       "      <td>0.016990</td>\n",
       "      <td>-0.005197</td>\n",
       "      <td>0.029888</td>\n",
       "    </tr>\n",
       "    <tr>\n",
       "      <th>75%</th>\n",
       "      <td>1.292400e+00</td>\n",
       "      <td>5.298255e-01</td>\n",
       "      <td>0.385849</td>\n",
       "      <td>5.606400e-01</td>\n",
       "      <td>8.168571e-01</td>\n",
       "      <td>6.911947e-01</td>\n",
       "      <td>8.586856e-01</td>\n",
       "      <td>8.666460e-01</td>\n",
       "      <td>0.078547</td>\n",
       "      <td>-5.670509e-01</td>\n",
       "      <td>...</td>\n",
       "      <td>-7.749089e-02</td>\n",
       "      <td>-5.246283e-01</td>\n",
       "      <td>-5.183915e-01</td>\n",
       "      <td>9.588784e-01</td>\n",
       "      <td>0.584933</td>\n",
       "      <td>4.622681e-01</td>\n",
       "      <td>0.524096</td>\n",
       "      <td>0.513117</td>\n",
       "      <td>0.399025</td>\n",
       "      <td>0.650363</td>\n",
       "    </tr>\n",
       "    <tr>\n",
       "      <th>max</th>\n",
       "      <td>1.292400e+00</td>\n",
       "      <td>1.570791e+01</td>\n",
       "      <td>9.386668</td>\n",
       "      <td>3.721135e+00</td>\n",
       "      <td>1.986759e+00</td>\n",
       "      <td>1.020533e+00</td>\n",
       "      <td>1.425339e+00</td>\n",
       "      <td>1.849579e+00</td>\n",
       "      <td>6.617884</td>\n",
       "      <td>1.763510e+00</td>\n",
       "      <td>...</td>\n",
       "      <td>1.290474e+01</td>\n",
       "      <td>1.906111e+00</td>\n",
       "      <td>1.929044e+00</td>\n",
       "      <td>9.588784e-01</td>\n",
       "      <td>38.329891</td>\n",
       "      <td>3.130703e+00</td>\n",
       "      <td>14.010811</td>\n",
       "      <td>2.989431</td>\n",
       "      <td>3.554755</td>\n",
       "      <td>2.982891</td>\n",
       "    </tr>\n",
       "  </tbody>\n",
       "</table>\n",
       "<p>8 rows × 92 columns</p>\n",
       "</div>"
      ],
      "text/plain": [
       "       FLAG_OWN_CAR   AMT_ANNUITY  AMT_GOODS_PRICE  \\\n",
       "count  2.017090e+05  2.017090e+05    201709.000000   \n",
       "mean   4.379921e-15 -7.225982e-07        -0.000115   \n",
       "std    1.000002e+00  9.999858e-01         0.999522   \n",
       "min   -7.737541e-01 -1.761855e+00        -1.351575   \n",
       "25%   -7.737541e-01 -7.326865e-01        -0.808630   \n",
       "50%   -7.737541e-01 -1.342828e-01        -0.265685   \n",
       "75%    1.292400e+00  5.298255e-01         0.385849   \n",
       "max    1.292400e+00  1.570791e+01         9.386668   \n",
       "\n",
       "       REGION_POPULATION_RELATIVE    DAYS_BIRTH  DAYS_EMPLOYED  \\\n",
       "count                2.017090e+05  2.017090e+05   2.017090e+05   \n",
       "mean                -1.391542e-17  2.831135e-17  -1.534731e-17   \n",
       "std                  1.000002e+00  1.000002e+00   1.000002e+00   \n",
       "min                 -1.484581e+00 -2.848743e+00  -6.509712e+00   \n",
       "25%                 -7.842192e-01 -7.623051e-01  -3.387911e-01   \n",
       "50%                 -1.467140e-01  5.485125e-02   3.151749e-01   \n",
       "75%                  5.606400e-01  8.168571e-01   6.911947e-01   \n",
       "max                  3.721135e+00  1.986759e+00   1.020533e+00   \n",
       "\n",
       "       DAYS_REGISTRATION  DAYS_ID_PUBLISH    OWN_CAR_AGE  FLAG_WORK_PHONE  \\\n",
       "count       2.017090e+05     2.017090e+05  201709.000000     2.017090e+05   \n",
       "mean        1.651005e-17    -9.386112e-17      -0.000016     6.603411e-15   \n",
       "std         1.000002e+00     1.000002e+00       0.615185     1.000002e+00   \n",
       "min        -5.554364e+00    -2.474930e+00      -0.999304    -5.670509e-01   \n",
       "25%        -7.121395e-01    -9.084423e-01      -0.101455    -5.670509e-01   \n",
       "50%         1.118596e-01    -5.621510e-02      -0.023850    -5.670509e-01   \n",
       "75%         8.586856e-01     8.666460e-01       0.078547    -5.670509e-01   \n",
       "max         1.425339e+00     1.849579e+00       6.617884     1.763510e+00   \n",
       "\n",
       "       ...  WALLSMATERIAL_MODE_Monolithic  WALLSMATERIAL_MODE_Panel  \\\n",
       "count  ...                   2.017090e+05              2.017090e+05   \n",
       "mean   ...                  -3.910717e-16             -5.594636e-15   \n",
       "std    ...                   1.000002e+00              1.000002e+00   \n",
       "min    ...                  -7.749089e-02             -5.246283e-01   \n",
       "25%    ...                  -7.749089e-02             -5.246283e-01   \n",
       "50%    ...                  -7.749089e-02             -5.246283e-01   \n",
       "75%    ...                  -7.749089e-02             -5.246283e-01   \n",
       "max    ...                   1.290474e+01              1.906111e+00   \n",
       "\n",
       "       WALLSMATERIAL_MODE_Stone, brick  EMERGENCYSTATE_MODE_No  \\\n",
       "count                     2.017090e+05            2.017090e+05   \n",
       "mean                      2.106175e-15           -2.368642e-15   \n",
       "std                       1.000002e+00            1.000002e+00   \n",
       "min                      -5.183915e-01           -1.042885e+00   \n",
       "25%                      -5.183915e-01           -1.042885e+00   \n",
       "50%                      -5.183915e-01            9.588784e-01   \n",
       "75%                      -5.183915e-01            9.588784e-01   \n",
       "max                       1.929044e+00            9.588784e-01   \n",
       "\n",
       "       CREDIT_PRICE_RATIO  ANNUITY_CREDIT_RATIO  ANNUITY_INCOME_RATIO  \\\n",
       "count       201709.000000          2.017090e+05         201709.000000   \n",
       "mean            -0.000956          4.136604e-08             -0.000003   \n",
       "std              0.999948          9.999781e-01              0.999981   \n",
       "min             -7.652617         -1.412660e+00             -1.945859   \n",
       "25%             -0.971398         -7.474075e-01             -0.711452   \n",
       "50%             -0.037599         -1.730343e-01             -0.187020   \n",
       "75%              0.584933          4.622681e-01              0.524096   \n",
       "max             38.329891          3.130703e+00             14.010811   \n",
       "\n",
       "               x0 x1          x0 x2          x1 x2  \n",
       "count  201709.000000  201709.000000  201709.000000  \n",
       "mean       -0.044755       0.007856      -0.027881  \n",
       "std         0.835646       0.737523       0.925202  \n",
       "min        -2.093773      -2.003836      -3.216198  \n",
       "25%        -0.663293      -0.444729      -0.697841  \n",
       "50%         0.016990      -0.005197       0.029888  \n",
       "75%         0.513117       0.399025       0.650363  \n",
       "max         2.989431       3.554755       2.982891  \n",
       "\n",
       "[8 rows x 92 columns]"
      ]
     },
     "metadata": {},
     "execution_count": 21
    }
   ],
   "metadata": {}
  },
  {
   "cell_type": "markdown",
   "source": [
    "## Modélisation et évaluation des modèles\n",
    "\n",
    "Nous allons ici entraîner différents modèles de classification binaire et évaluer leur efficacité selon trois critères :\n",
    "- le **temps d'exécution** : temps nécessaire au modèle pour les phases d'apprentissage (`fit`) et de prédiction (`predict`).\n",
    "- l'**interprétabilité** du modèle : la capacité du modèle à nous indiquer quelles sont les variables qui expliquent le mieux la prédiction.\n",
    "- la **performance** : nous allons mesurer différentes métriques (`accuracy` = taux de prédictions positives ou négatives correctes, `precision` = taux de prédictions positives correctes, `recall` = taux de positifs correctement prédits, `F1 score` = moyenne harmonique de la `precision` et du `recall`) pour chaque modèle. Nous utiliserons le `F1 score` comme mesure principale de la performance, car nous sommes face à un problème où les deux classes de la variable prédite ne sont pas équilibrées (`TARGET=0 ~ 92%`) dans le jeu de données, et nous voulons maximiser en priorité le `recall` (bien prédire les problèmes de paiement). Nous tracerons les courbes de `Precision-Recall` et de `ROC (Receiver operating characteristic)` qui compare le `recall` au taux de faux positifs.\n",
    "\n",
    "Afin d'améliorer la qualité du modèle et minimiser le biais de sélection du jeu d'entraînement, nous allons utiliser la méthode `StratifiedKFold` qui permet de \"mixer\" les résultats sur plusieurs sous-ensembles du jeu d'entraînement.\n",
    "\n",
    "Afin de chercher les meilleurs hyper-paramètres de chacun des modèles, nous allons "
   ],
   "metadata": {}
  },
  {
   "cell_type": "code",
   "execution_count": 22,
   "source": [
    "# let's store the results of each model in a DataFrame\n",
    "results = pd.DataFrame(columns=(\n",
    "    'model',\n",
    "    'params',\n",
    "    'score',\n",
    "    'time',\n",
    "    'cv_results_',\n",
    "    'best_index_',\n",
    "    'confusion_matrix',\n",
    "    'f1',\n",
    "    'accuracy',\n",
    "    'precision',\n",
    "    'recall',\n",
    "    'average_precision',\n",
    "    'precision_recall_curve',\n",
    "    'roc_auc_score',\n",
    "    'roc_curve',\n",
    "))\n"
   ],
   "outputs": [],
   "metadata": {}
  },
  {
   "cell_type": "markdown",
   "source": [
    "### Modèle de référence\n",
    "\n",
    "Nous allons utiliser un modèle bête et méchant qui se contente de faire des prédictions aléatoires.\n"
   ],
   "metadata": {}
  },
  {
   "cell_type": "code",
   "execution_count": 23,
   "source": [
    "## Dummy Classifier\n",
    "\n",
    "# DummyClassifier permet de faire des prédictions aléatoires.\n",
    "\n",
    "\n",
    "from sklearn.dummy import DummyClassifier\n",
    "\n",
    "\n",
    "# Compute scores\n",
    "best_model_score = models_helpers.find_best_params_classifier(\n",
    "    X_train=X_train, y_train=y_train, X_test=X_test, y_test=y_test,\n",
    "    estimator=DummyClassifier(random_state=42),\n",
    "    params={\n",
    "        'strategy': ['stratified', 'most_frequent', 'prior', 'uniform']\n",
    "    },\n",
    ")\n",
    "print({\n",
    "    \"params\": best_model_score['params'], \n",
    "    \"score\": best_model_score['score'],\n",
    "    \"time\": best_model_score['time'],\n",
    "})\n",
    "results = results.append(best_model_score, ignore_index=True)\n",
    "\n",
    "\n",
    "# Plot best model curves\n",
    "vis_helpers.plot_classifier_results(\n",
    "    classifier=best_model_score['model'],\n",
    "    X_test=X_test,\n",
    "    y_test=y_test,\n",
    ")\n"
   ],
   "outputs": [
    {
     "output_type": "stream",
     "name": "stdout",
     "text": [
      "n_iterations: 2\n",
      "n_required_iterations: 2\n",
      "n_possible_iterations: 8\n",
      "min_resources_: 40\n",
      "max_resources_: 201709\n",
      "aggressive_elimination: False\n",
      "factor: 3\n",
      "----------\n",
      "iter: 0\n",
      "n_candidates: 4\n",
      "n_resources: 40\n",
      "Fitting 10 folds for each of 4 candidates, totalling 40 fits\n",
      "----------\n",
      "iter: 1\n",
      "n_candidates: 2\n",
      "n_resources: 120\n",
      "Fitting 10 folds for each of 2 candidates, totalling 20 fits\n",
      "{'params': {'strategy': 'stratified'}, 'score': 0.1833333333333333, 'time': 0.008268356323242188}\n"
     ]
    },
    {
     "output_type": "display_data",
     "data": {
      "image/png": "[encoded data removed]",
      "text/plain": [
       "<Figure size 432x288 with 2 Axes>"
      ]
     },
     "metadata": {
      "needs_background": "light"
     }
    },
    {
     "output_type": "display_data",
     "data": {
      "image/png": "[encoded data removed]",
      "text/plain": [
       "<Figure size 432x288 with 1 Axes>"
      ]
     },
     "metadata": {
      "needs_background": "light"
     }
    },
    {
     "output_type": "display_data",
     "data": {
      "image/png": "[encoded data removed]",
      "text/plain": [
       "<Figure size 432x288 with 1 Axes>"
      ]
     },
     "metadata": {
      "needs_background": "light"
     }
    }
   ],
   "metadata": {}
  },
  {
   "cell_type": "markdown",
   "source": [
    "### Modèle linéaire\n",
    "\n",
    "Nous allons utiliser un modèle linéaire\n"
   ],
   "metadata": {}
  },
  {
   "cell_type": "code",
   "execution_count": 24,
   "source": [
    "## Ridge Regression\n",
    "# Prevents overfitting by penalizing the magnitude of coefficients with L2 regularization of the loss function\n",
    "\n",
    "# - La norme ℓ2 du vecteur de poids peut être utilisée comme terme de régularisation de la régression linéaire.\n",
    "# - Cela s'appelle la régularisation de Tykhonov, ou régression ridge.\n",
    "# - La régression ridge admet toujours une solution analytique unique.\n",
    "# - La régression ridge permet d'éviter le surapprentissage en restraignant l'amplitude des poids.\n",
    "# - La régression ridge a un effet de sélection groupée : les variables corrélées ont le même coefficient.\n",
    "\n",
    "\n",
    "from sklearn.linear_model import RidgeClassifier\n",
    "\n",
    "\n",
    "# Compute scores\n",
    "best_model_score = models_helpers.find_best_params_classifier(\n",
    "    X_train=X_train, y_train=y_train, X_test=X_test, y_test=y_test,\n",
    "    estimator=RidgeClassifier(random_state=42),\n",
    "    params={\n",
    "        'alpha': np.logspace(-10, 10, 50),\n",
    "        'fit_intercept': [True, False],\n",
    "        'normalize': [True, False],\n",
    "        'solver': ['auto', 'svd', 'cholesky', 'lsqr', 'sparse_cg', 'sag', 'saga']\n",
    "    },\n",
    ")\n",
    "print({\n",
    "    \"params\": best_model_score['params'], \n",
    "    \"score\": best_model_score['score'],\n",
    "    \"time\": best_model_score['time'],\n",
    "})\n",
    "results = results.append(best_model_score, ignore_index=True)\n",
    "\n",
    "# Plot best model curves\n",
    "vis_helpers.plot_classifier_results(\n",
    "    classifier=best_model_score['model'],\n",
    "    X_test=X_test,\n",
    "    y_test=y_test,\n",
    ")\n"
   ],
   "outputs": [
    {
     "output_type": "stream",
     "name": "stdout",
     "text": [
      "n_iterations: 7\n",
      "n_required_iterations: 7\n",
      "n_possible_iterations: 8\n",
      "min_resources_: 40\n",
      "max_resources_: 201709\n",
      "aggressive_elimination: False\n",
      "factor: 3\n",
      "----------\n",
      "iter: 0\n",
      "n_candidates: 1400\n",
      "n_resources: 40\n",
      "Fitting 10 folds for each of 1400 candidates, totalling 14000 fits\n",
      "----------\n",
      "iter: 1\n",
      "n_candidates: 467\n",
      "n_resources: 120\n",
      "Fitting 10 folds for each of 467 candidates, totalling 4670 fits\n",
      "----------\n",
      "iter: 2\n",
      "n_candidates: 156\n",
      "n_resources: 360\n",
      "Fitting 10 folds for each of 156 candidates, totalling 1560 fits\n",
      "----------\n",
      "iter: 3\n",
      "n_candidates: 52\n",
      "n_resources: 1080\n",
      "Fitting 10 folds for each of 52 candidates, totalling 520 fits\n",
      "----------\n",
      "iter: 4\n",
      "n_candidates: 18\n",
      "n_resources: 3240\n",
      "Fitting 10 folds for each of 18 candidates, totalling 180 fits\n",
      "----------\n",
      "iter: 5\n",
      "n_candidates: 6\n",
      "n_resources: 9720\n",
      "Fitting 10 folds for each of 6 candidates, totalling 60 fits\n",
      "----------\n",
      "iter: 6\n",
      "n_candidates: 2\n",
      "n_resources: 29160\n",
      "Fitting 10 folds for each of 2 candidates, totalling 20 fits\n",
      "{'params': {'solver': 'cholesky', 'normalize': False, 'fit_intercept': False, 'alpha': 10000000000.0}, 'score': 0.2236726096107203, 'time': 0.4273254871368408}\n"
     ]
    },
    {
     "output_type": "display_data",
     "data": {
      "image/png": "[encoded data removed]",
      "text/plain": [
       "<Figure size 432x288 with 2 Axes>"
      ]
     },
     "metadata": {
      "needs_background": "light"
     }
    },
    {
     "output_type": "display_data",
     "data": {
      "image/png": "[encoded data removed]",
      "text/plain": [
       "<Figure size 432x288 with 1 Axes>"
      ]
     },
     "metadata": {
      "needs_background": "light"
     }
    },
    {
     "output_type": "display_data",
     "data": {
      "image/png": "[encoded data removed]",
      "text/plain": [
       "<Figure size 432x288 with 1 Axes>"
      ]
     },
     "metadata": {
      "needs_background": "light"
     }
    }
   ],
   "metadata": {}
  },
  {
   "cell_type": "code",
   "execution_count": 25,
   "source": [
    "top_coefficients = pd.Series(\n",
    "    best_model_score[\n",
    "        'model'\n",
    "    ].coef_[0],\n",
    "    X_train.columns,\n",
    ").map(abs).sort_values(ascending=False).head(20)\n",
    "\n",
    "if DRAW_PLOTS:\n",
    "    fig = px.bar(\n",
    "        top_coefficients,\n",
    "        color=top_coefficients.values,\n",
    "        title=\"Top 20 variables importance\",\n",
    "        labels={\n",
    "            \"index\": \"Variable name\",\n",
    "            \"value\": \"Coefficient\",\n",
    "            \"color\": \"Coefficient\",\n",
    "        },\n",
    "        width=1200,\n",
    "        height=800,\n",
    "    )\n",
    "    fig.show()"
   ],
   "outputs": [],
   "metadata": {}
  },
  {
   "cell_type": "markdown",
   "source": [
    "### Modèle Logistique\n",
    "\n"
   ],
   "metadata": {}
  },
  {
   "cell_type": "code",
   "execution_count": 26,
   "source": [
    "# Logistic Regression\n",
    "#\n",
    "# - La régression logistique modélise la probabilité qu'une observation appartienne à la classe positive comme une transformation logistique d'une combinaison linéaire des variables.\n",
    "# - Les coefficients d'une régression logistique s'apprennent par maximisation de vraisemblance, mais il n'existe pas de solution explicite.\n",
    "# - La vraisemblance est convexe, et de nombreux solveurs peuvent être utilisés pour trouver une solution numérique.\n",
    "# - Les concepts de régularisation ℓ1 et ℓ2 s'appliquent aussi à la régression logistique.\n",
    "\n",
    "\n",
    "from sklearn.linear_model import LogisticRegression\n",
    "\n",
    "\n",
    "# Compute scores\n",
    "best_model_score = models_helpers.find_best_params_classifier(\n",
    "    X_train=X_train, y_train=y_train, X_test=X_test, y_test=y_test,\n",
    "    estimator=LogisticRegression(random_state=42),\n",
    "    params={\n",
    "        'penalty': ['l1', 'l2', 'elasticnet', 'none'],\n",
    "        'C': np.logspace(-8, 1, 20),\n",
    "        'l1_ratio': np.linspace(0.00001, 0.99999, 10),\n",
    "        'solver': ['saga']\n",
    "    },\n",
    ")\n",
    "print({\n",
    "    \"params\": best_model_score['params'], \n",
    "    \"score\": best_model_score['score'],\n",
    "    \"time\": best_model_score['time'],\n",
    "})\n",
    "results = results.append(best_model_score, ignore_index=True)\n",
    "\n",
    "# Plot best model curves\n",
    "vis_helpers.plot_classifier_results(\n",
    "    classifier=best_model_score['model'],\n",
    "    X_test=X_test,\n",
    "    y_test=y_test,\n",
    ")\n"
   ],
   "outputs": [
    {
     "output_type": "stream",
     "name": "stdout",
     "text": [
      "n_iterations: 7\n",
      "n_required_iterations: 7\n",
      "n_possible_iterations: 8\n",
      "min_resources_: 40\n",
      "max_resources_: 201709\n",
      "aggressive_elimination: False\n",
      "factor: 3\n",
      "----------\n",
      "iter: 0\n",
      "n_candidates: 800\n",
      "n_resources: 40\n",
      "Fitting 10 folds for each of 800 candidates, totalling 8000 fits\n",
      "----------\n",
      "iter: 1\n",
      "n_candidates: 267\n",
      "n_resources: 120\n",
      "Fitting 10 folds for each of 267 candidates, totalling 2670 fits\n",
      "----------\n",
      "iter: 2\n",
      "n_candidates: 89\n",
      "n_resources: 360\n",
      "Fitting 10 folds for each of 89 candidates, totalling 890 fits\n",
      "----------\n",
      "iter: 3\n",
      "n_candidates: 30\n",
      "n_resources: 1080\n",
      "Fitting 10 folds for each of 30 candidates, totalling 300 fits\n",
      "----------\n",
      "iter: 4\n",
      "n_candidates: 10\n",
      "n_resources: 3240\n",
      "Fitting 10 folds for each of 10 candidates, totalling 100 fits\n",
      "----------\n",
      "iter: 5\n",
      "n_candidates: 4\n",
      "n_resources: 9720\n",
      "Fitting 10 folds for each of 4 candidates, totalling 40 fits\n",
      "----------\n",
      "iter: 6\n",
      "n_candidates: 2\n",
      "n_resources: 29160\n",
      "Fitting 10 folds for each of 2 candidates, totalling 20 fits\n",
      "{'params': {'solver': 'saga', 'penalty': 'none', 'l1_ratio': 0.5555544444444445, 'C': 6.951927961775606e-06}, 'score': 0.03437150150651483, 'time': 23.225497007369995}\n"
     ]
    },
    {
     "output_type": "display_data",
     "data": {
      "image/png": "[encoded data removed]",
      "text/plain": [
       "<Figure size 432x288 with 2 Axes>"
      ]
     },
     "metadata": {
      "needs_background": "light"
     }
    },
    {
     "output_type": "display_data",
     "data": {
      "image/png": "[encoded data removed]",
      "text/plain": [
       "<Figure size 432x288 with 1 Axes>"
      ]
     },
     "metadata": {
      "needs_background": "light"
     }
    },
    {
     "output_type": "display_data",
     "data": {
      "image/png": "[encoded data removed]",
      "text/plain": [
       "<Figure size 432x288 with 1 Axes>"
      ]
     },
     "metadata": {
      "needs_background": "light"
     }
    }
   ],
   "metadata": {}
  },
  {
   "cell_type": "code",
   "execution_count": 27,
   "source": [
    "top_coefficients = pd.Series(\n",
    "    best_model_score[\n",
    "        'model'\n",
    "    ].coef_[0],\n",
    "    X_train.columns,\n",
    ").map(abs).sort_values(ascending=False).head(20)\n",
    "\n",
    "if True or DRAW_PLOTS:\n",
    "    fig = px.bar(\n",
    "        top_coefficients,\n",
    "        color=top_coefficients.values,\n",
    "        title=\"Top 20 variables importance\",\n",
    "        labels={\n",
    "            \"index\": \"Variable name\",\n",
    "            \"value\": \"Coefficient\",\n",
    "            \"color\": \"Coefficient\",\n",
    "        },\n",
    "        width=1200,\n",
    "        height=800,\n",
    "    )\n",
    "    fig.show()"
   ],
   "outputs": [
    {
     "output_type": "display_data",
     "data": {
      "application/vnd.plotly.v1+json": {
       "config": {
        "plotlyServerURL": "https://plot.ly"
       },
       "data": [
        {
         "alignmentgroup": "True",
         "hovertemplate": "Variable name=%{x}<br>Coefficient=%{marker.color}<extra></extra>",
         "legendgroup": "",
         "marker": {
          "color": [
           0.5464863595106095,
           0.3357558452938676,
           0.3012678447599428,
           0.29885754568994305,
           0.24919820900592987,
           0.1581201300856926,
           0.13364700641853478,
           0.12436175579632473,
           0.11928156681595992,
           0.11076101742961532,
           0.09964073926727962,
           0.09561093218798204,
           0.09216675933511455,
           0.0858404165565379,
           0.08318301197309963,
           0.07732829695126844,
           0.07391214381629113,
           0.06372463116775075,
           0.06306152700118348,
           0.061218187074329335
          ],
          "coloraxis": "coloraxis"
         },
         "name": "",
         "offsetgroup": "",
         "orientation": "v",
         "showlegend": false,
         "textposition": "auto",
         "type": "bar",
         "x": [
          "EXT_SOURCE_3",
          "EXT_SOURCE_1",
          "AMT_GOODS_PRICE",
          "EXT_SOURCE_2",
          "AMT_ANNUITY",
          "ANNUITY_CREDIT_RATIO",
          "DAYS_EMPLOYED",
          "DAYS_BIRTH",
          "FLAG_OWN_CAR",
          "CREDIT_PRICE_RATIO",
          "FLAG_DOCUMENT_3",
          "CODE_GENDER_M",
          "x0 x2",
          "x0 x1",
          "NAME_EDUCATION_TYPE_Secondary / secondary special",
          "REGION_RATING_CLIENT_W_CITY",
          "FLAG_WORK_PHONE",
          "NAME_FAMILY_STATUS_Married",
          "ANNUITY_INCOME_RATIO",
          "DEF_30_CNT_SOCIAL_CIRCLE"
         ],
         "xaxis": "x",
         "y": [
          0.5464863595106095,
          0.3357558452938676,
          0.3012678447599428,
          0.29885754568994305,
          0.24919820900592987,
          0.1581201300856926,
          0.13364700641853478,
          0.12436175579632473,
          0.11928156681595992,
          0.11076101742961532,
          0.09964073926727962,
          0.09561093218798204,
          0.09216675933511455,
          0.0858404165565379,
          0.08318301197309963,
          0.07732829695126844,
          0.07391214381629113,
          0.06372463116775075,
          0.06306152700118348,
          0.061218187074329335
         ],
         "yaxis": "y"
        }
       ],
       "layout": {
        "barmode": "relative",
        "coloraxis": {
         "colorbar": {
          "title": {
           "text": "Coefficient"
          }
         },
         "colorscale": [
          [
           0,
           "#0d0887"
          ],
          [
           0.1111111111111111,
           "#46039f"
          ],
          [
           0.2222222222222222,
           "#7201a8"
          ],
          [
           0.3333333333333333,
           "#9c179e"
          ],
          [
           0.4444444444444444,
           "#bd3786"
          ],
          [
           0.5555555555555556,
           "#d8576b"
          ],
          [
           0.6666666666666666,
           "#ed7953"
          ],
          [
           0.7777777777777778,
           "#fb9f3a"
          ],
          [
           0.8888888888888888,
           "#fdca26"
          ],
          [
           1,
           "#f0f921"
          ]
         ]
        },
        "height": 800,
        "legend": {
         "tracegroupgap": 0
        },
        "template": {
         "data": {
          "bar": [
           {
            "error_x": {
             "color": "#2a3f5f"
            },
            "error_y": {
             "color": "#2a3f5f"
            },
            "marker": {
             "line": {
              "color": "#E5ECF6",
              "width": 0.5
             }
            },
            "type": "bar"
           }
          ],
          "barpolar": [
           {
            "marker": {
             "line": {
              "color": "#E5ECF6",
              "width": 0.5
             }
            },
            "type": "barpolar"
           }
          ],
          "carpet": [
           {
            "aaxis": {
             "endlinecolor": "#2a3f5f",
             "gridcolor": "white",
             "linecolor": "white",
             "minorgridcolor": "white",
             "startlinecolor": "#2a3f5f"
            },
            "baxis": {
             "endlinecolor": "#2a3f5f",
             "gridcolor": "white",
             "linecolor": "white",
             "minorgridcolor": "white",
             "startlinecolor": "#2a3f5f"
            },
            "type": "carpet"
           }
          ],
          "choropleth": [
           {
            "colorbar": {
             "outlinewidth": 0,
             "ticks": ""
            },
            "type": "choropleth"
           }
          ],
          "contour": [
           {
            "colorbar": {
             "outlinewidth": 0,
             "ticks": ""
            },
            "colorscale": [
             [
              0,
              "#0d0887"
             ],
             [
              0.1111111111111111,
              "#46039f"
             ],
             [
              0.2222222222222222,
              "#7201a8"
             ],
             [
              0.3333333333333333,
              "#9c179e"
             ],
             [
              0.4444444444444444,
              "#bd3786"
             ],
             [
              0.5555555555555556,
              "#d8576b"
             ],
             [
              0.6666666666666666,
              "#ed7953"
             ],
             [
              0.7777777777777778,
              "#fb9f3a"
             ],
             [
              0.8888888888888888,
              "#fdca26"
             ],
             [
              1,
              "#f0f921"
             ]
            ],
            "type": "contour"
           }
          ],
          "contourcarpet": [
           {
            "colorbar": {
             "outlinewidth": 0,
             "ticks": ""
            },
            "type": "contourcarpet"
           }
          ],
          "heatmap": [
           {
            "colorbar": {
             "outlinewidth": 0,
             "ticks": ""
            },
            "colorscale": [
             [
              0,
              "#0d0887"
             ],
             [
              0.1111111111111111,
              "#46039f"
             ],
             [
              0.2222222222222222,
              "#7201a8"
             ],
             [
              0.3333333333333333,
              "#9c179e"
             ],
             [
              0.4444444444444444,
              "#bd3786"
             ],
             [
              0.5555555555555556,
              "#d8576b"
             ],
             [
              0.6666666666666666,
              "#ed7953"
             ],
             [
              0.7777777777777778,
              "#fb9f3a"
             ],
             [
              0.8888888888888888,
              "#fdca26"
             ],
             [
              1,
              "#f0f921"
             ]
            ],
            "type": "heatmap"
           }
          ],
          "heatmapgl": [
           {
            "colorbar": {
             "outlinewidth": 0,
             "ticks": ""
            },
            "colorscale": [
             [
              0,
              "#0d0887"
             ],
             [
              0.1111111111111111,
              "#46039f"
             ],
             [
              0.2222222222222222,
              "#7201a8"
             ],
             [
              0.3333333333333333,
              "#9c179e"
             ],
             [
              0.4444444444444444,
              "#bd3786"
             ],
             [
              0.5555555555555556,
              "#d8576b"
             ],
             [
              0.6666666666666666,
              "#ed7953"
             ],
             [
              0.7777777777777778,
              "#fb9f3a"
             ],
             [
              0.8888888888888888,
              "#fdca26"
             ],
             [
              1,
              "#f0f921"
             ]
            ],
            "type": "heatmapgl"
           }
          ],
          "histogram": [
           {
            "marker": {
             "colorbar": {
              "outlinewidth": 0,
              "ticks": ""
             }
            },
            "type": "histogram"
           }
          ],
          "histogram2d": [
           {
            "colorbar": {
             "outlinewidth": 0,
             "ticks": ""
            },
            "colorscale": [
             [
              0,
              "#0d0887"
             ],
             [
              0.1111111111111111,
              "#46039f"
             ],
             [
              0.2222222222222222,
              "#7201a8"
             ],
             [
              0.3333333333333333,
              "#9c179e"
             ],
             [
              0.4444444444444444,
              "#bd3786"
             ],
             [
              0.5555555555555556,
              "#d8576b"
             ],
             [
              0.6666666666666666,
              "#ed7953"
             ],
             [
              0.7777777777777778,
              "#fb9f3a"
             ],
             [
              0.8888888888888888,
              "#fdca26"
             ],
             [
              1,
              "#f0f921"
             ]
            ],
            "type": "histogram2d"
           }
          ],
          "histogram2dcontour": [
           {
            "colorbar": {
             "outlinewidth": 0,
             "ticks": ""
            },
            "colorscale": [
             [
              0,
              "#0d0887"
             ],
             [
              0.1111111111111111,
              "#46039f"
             ],
             [
              0.2222222222222222,
              "#7201a8"
             ],
             [
              0.3333333333333333,
              "#9c179e"
             ],
             [
              0.4444444444444444,
              "#bd3786"
             ],
             [
              0.5555555555555556,
              "#d8576b"
             ],
             [
              0.6666666666666666,
              "#ed7953"
             ],
             [
              0.7777777777777778,
              "#fb9f3a"
             ],
             [
              0.8888888888888888,
              "#fdca26"
             ],
             [
              1,
              "#f0f921"
             ]
            ],
            "type": "histogram2dcontour"
           }
          ],
          "mesh3d": [
           {
            "colorbar": {
             "outlinewidth": 0,
             "ticks": ""
            },
            "type": "mesh3d"
           }
          ],
          "parcoords": [
           {
            "line": {
             "colorbar": {
              "outlinewidth": 0,
              "ticks": ""
             }
            },
            "type": "parcoords"
           }
          ],
          "pie": [
           {
            "automargin": true,
            "type": "pie"
           }
          ],
          "scatter": [
           {
            "marker": {
             "colorbar": {
              "outlinewidth": 0,
              "ticks": ""
             }
            },
            "type": "scatter"
           }
          ],
          "scatter3d": [
           {
            "line": {
             "colorbar": {
              "outlinewidth": 0,
              "ticks": ""
             }
            },
            "marker": {
             "colorbar": {
              "outlinewidth": 0,
              "ticks": ""
             }
            },
            "type": "scatter3d"
           }
          ],
          "scattercarpet": [
           {
            "marker": {
             "colorbar": {
              "outlinewidth": 0,
              "ticks": ""
             }
            },
            "type": "scattercarpet"
           }
          ],
          "scattergeo": [
           {
            "marker": {
             "colorbar": {
              "outlinewidth": 0,
              "ticks": ""
             }
            },
            "type": "scattergeo"
           }
          ],
          "scattergl": [
           {
            "marker": {
             "colorbar": {
              "outlinewidth": 0,
              "ticks": ""
             }
            },
            "type": "scattergl"
           }
          ],
          "scattermapbox": [
           {
            "marker": {
             "colorbar": {
              "outlinewidth": 0,
              "ticks": ""
             }
            },
            "type": "scattermapbox"
           }
          ],
          "scatterpolar": [
           {
            "marker": {
             "colorbar": {
              "outlinewidth": 0,
              "ticks": ""
             }
            },
            "type": "scatterpolar"
           }
          ],
          "scatterpolargl": [
           {
            "marker": {
             "colorbar": {
              "outlinewidth": 0,
              "ticks": ""
             }
            },
            "type": "scatterpolargl"
           }
          ],
          "scatterternary": [
           {
            "marker": {
             "colorbar": {
              "outlinewidth": 0,
              "ticks": ""
             }
            },
            "type": "scatterternary"
           }
          ],
          "surface": [
           {
            "colorbar": {
             "outlinewidth": 0,
             "ticks": ""
            },
            "colorscale": [
             [
              0,
              "#0d0887"
             ],
             [
              0.1111111111111111,
              "#46039f"
             ],
             [
              0.2222222222222222,
              "#7201a8"
             ],
             [
              0.3333333333333333,
              "#9c179e"
             ],
             [
              0.4444444444444444,
              "#bd3786"
             ],
             [
              0.5555555555555556,
              "#d8576b"
             ],
             [
              0.6666666666666666,
              "#ed7953"
             ],
             [
              0.7777777777777778,
              "#fb9f3a"
             ],
             [
              0.8888888888888888,
              "#fdca26"
             ],
             [
              1,
              "#f0f921"
             ]
            ],
            "type": "surface"
           }
          ],
          "table": [
           {
            "cells": {
             "fill": {
              "color": "#EBF0F8"
             },
             "line": {
              "color": "white"
             }
            },
            "header": {
             "fill": {
              "color": "#C8D4E3"
             },
             "line": {
              "color": "white"
             }
            },
            "type": "table"
           }
          ]
         },
         "layout": {
          "annotationdefaults": {
           "arrowcolor": "#2a3f5f",
           "arrowhead": 0,
           "arrowwidth": 1
          },
          "autotypenumbers": "strict",
          "coloraxis": {
           "colorbar": {
            "outlinewidth": 0,
            "ticks": ""
           }
          },
          "colorscale": {
           "diverging": [
            [
             0,
             "#8e0152"
            ],
            [
             0.1,
             "#c51b7d"
            ],
            [
             0.2,
             "#de77ae"
            ],
            [
             0.3,
             "#f1b6da"
            ],
            [
             0.4,
             "#fde0ef"
            ],
            [
             0.5,
             "#f7f7f7"
            ],
            [
             0.6,
             "#e6f5d0"
            ],
            [
             0.7,
             "#b8e186"
            ],
            [
             0.8,
             "#7fbc41"
            ],
            [
             0.9,
             "#4d9221"
            ],
            [
             1,
             "#276419"
            ]
           ],
           "sequential": [
            [
             0,
             "#0d0887"
            ],
            [
             0.1111111111111111,
             "#46039f"
            ],
            [
             0.2222222222222222,
             "#7201a8"
            ],
            [
             0.3333333333333333,
             "#9c179e"
            ],
            [
             0.4444444444444444,
             "#bd3786"
            ],
            [
             0.5555555555555556,
             "#d8576b"
            ],
            [
             0.6666666666666666,
             "#ed7953"
            ],
            [
             0.7777777777777778,
             "#fb9f3a"
            ],
            [
             0.8888888888888888,
             "#fdca26"
            ],
            [
             1,
             "#f0f921"
            ]
           ],
           "sequentialminus": [
            [
             0,
             "#0d0887"
            ],
            [
             0.1111111111111111,
             "#46039f"
            ],
            [
             0.2222222222222222,
             "#7201a8"
            ],
            [
             0.3333333333333333,
             "#9c179e"
            ],
            [
             0.4444444444444444,
             "#bd3786"
            ],
            [
             0.5555555555555556,
             "#d8576b"
            ],
            [
             0.6666666666666666,
             "#ed7953"
            ],
            [
             0.7777777777777778,
             "#fb9f3a"
            ],
            [
             0.8888888888888888,
             "#fdca26"
            ],
            [
             1,
             "#f0f921"
            ]
           ]
          },
          "colorway": [
           "#636efa",
           "#EF553B",
           "#00cc96",
           "#ab63fa",
           "#FFA15A",
           "#19d3f3",
           "#FF6692",
           "#B6E880",
           "#FF97FF",
           "#FECB52"
          ],
          "font": {
           "color": "#2a3f5f"
          },
          "geo": {
           "bgcolor": "white",
           "lakecolor": "white",
           "landcolor": "#E5ECF6",
           "showlakes": true,
           "showland": true,
           "subunitcolor": "white"
          },
          "hoverlabel": {
           "align": "left"
          },
          "hovermode": "closest",
          "mapbox": {
           "style": "light"
          },
          "paper_bgcolor": "white",
          "plot_bgcolor": "#E5ECF6",
          "polar": {
           "angularaxis": {
            "gridcolor": "white",
            "linecolor": "white",
            "ticks": ""
           },
           "bgcolor": "#E5ECF6",
           "radialaxis": {
            "gridcolor": "white",
            "linecolor": "white",
            "ticks": ""
           }
          },
          "scene": {
           "xaxis": {
            "backgroundcolor": "#E5ECF6",
            "gridcolor": "white",
            "gridwidth": 2,
            "linecolor": "white",
            "showbackground": true,
            "ticks": "",
            "zerolinecolor": "white"
           },
           "yaxis": {
            "backgroundcolor": "#E5ECF6",
            "gridcolor": "white",
            "gridwidth": 2,
            "linecolor": "white",
            "showbackground": true,
            "ticks": "",
            "zerolinecolor": "white"
           },
           "zaxis": {
            "backgroundcolor": "#E5ECF6",
            "gridcolor": "white",
            "gridwidth": 2,
            "linecolor": "white",
            "showbackground": true,
            "ticks": "",
            "zerolinecolor": "white"
           }
          },
          "shapedefaults": {
           "line": {
            "color": "#2a3f5f"
           }
          },
          "ternary": {
           "aaxis": {
            "gridcolor": "white",
            "linecolor": "white",
            "ticks": ""
           },
           "baxis": {
            "gridcolor": "white",
            "linecolor": "white",
            "ticks": ""
           },
           "bgcolor": "#E5ECF6",
           "caxis": {
            "gridcolor": "white",
            "linecolor": "white",
            "ticks": ""
           }
          },
          "title": {
           "x": 0.05
          },
          "xaxis": {
           "automargin": true,
           "gridcolor": "white",
           "linecolor": "white",
           "ticks": "",
           "title": {
            "standoff": 15
           },
           "zerolinecolor": "white",
           "zerolinewidth": 2
          },
          "yaxis": {
           "automargin": true,
           "gridcolor": "white",
           "linecolor": "white",
           "ticks": "",
           "title": {
            "standoff": 15
           },
           "zerolinecolor": "white",
           "zerolinewidth": 2
          }
         }
        },
        "title": {
         "text": "Top 20 variables importance"
        },
        "width": 1200,
        "xaxis": {
         "anchor": "y",
         "domain": [
          0,
          1
         ],
         "title": {
          "text": "Variable name"
         }
        },
        "yaxis": {
         "anchor": "x",
         "domain": [
          0,
          1
         ],
         "title": {
          "text": "Coefficient"
         }
        }
       }
      }
     },
     "metadata": {}
    }
   ],
   "metadata": {}
  },
  {
   "cell_type": "code",
   "execution_count": 28,
   "source": [
    "from sklearn.metrics import mean_squared_error\n",
    "\n",
    "c_range = np.logspace(-8, 1, 20)\n",
    "l1_ratio = best_model_score['params']['l1_ratio']\n",
    "\n",
    "coefficients = pd.DataFrame(index=X_train.columns, columns=c_range)\n",
    "errors = []\n",
    "for c in c_range:\n",
    "    logistic = LogisticRegression(C=c, l1_ratio=l1_ratio)\n",
    "    logistic.fit(X_train, y_train)\n",
    "    coefficients.loc[:, c] = logistic.coef_[0]\n",
    "    errors.append(mean_squared_error(y_test, logistic.predict(X_test)))\n",
    "\n",
    "\n",
    "fig = go.Figure()\n",
    "for col in coefficients.index:\n",
    "    fig.add_trace(go.Scatter(x=c_range, y=coefficients.loc[col, :], name=col,))\n",
    "\n",
    "fig.update_xaxes(type=\"log\", autorange=\"reversed\")\n",
    "fig.update_layout(\n",
    "    title=\"Logistic regression coefficients as a function of the regularization\",\n",
    "    xaxis_title=\"log(C)\",\n",
    "    yaxis_title=\"coefficient\",\n",
    "    width=1200,\n",
    "    height=800,\n",
    ")\n",
    "fig.show()\n",
    "\n",
    "fig = go.Figure()\n",
    "fig.add_trace(go.Scatter(x=c_range, y=errors, name=\"MSE\"))\n",
    "fig.update_xaxes(type=\"log\", autorange=\"reversed\")\n",
    "fig.update_layout(\n",
    "    title=\"Logistic regression MSE as a function of the regularization\",\n",
    "    xaxis_title=\"log(C)\",\n",
    "    yaxis_title=\"MSE\",\n",
    "    width=1200,\n",
    "    height=800,\n",
    ")\n",
    "fig.show()\n"
   ],
   "outputs": [
    {
     "output_type": "display_data",
     "data": {
      "application/vnd.plotly.v1+json": {
       "config": {
        "plotlyServerURL": "https://plot.ly"
       },
       "data": [
        {
         "name": "FLAG_OWN_CAR",
         "type": "scatter",
         "x": [
          1e-8,
          2.976351441631319e-8,
          8.858667904100832e-8,
          2.6366508987303554e-7,
          7.847599703514607e-7,
          0.000002335721469090121,
          0.000006951927961775606,
          0.0000206913808111479,
          0.00006158482110660255,
          0.00018329807108324338,
          0.0005455594781168515,
          0.001623776739188721,
          0.004832930238571752,
          0.01438449888287663,
          0.04281332398719387,
          0.1274274985703132,
          0.3792690190732246,
          1.1288378916846884,
          3.359818286283774,
          10
         ],
         "y": [
          -0.000017879203317279146,
          -0.00005319033855058707,
          -0.0001580211374351989,
          -0.00046795544067455716,
          -0.0013724258449541438,
          -0.003920625082640075,
          -0.010518745719264177,
          -0.025091604310072766,
          -0.05025313125961834,
          -0.0799934661995847,
          -0.10196566665700185,
          -0.11290837566757385,
          -0.11714442182709522,
          -0.11858493108348268,
          -0.11904450441300705,
          -0.11919570416848216,
          -0.11929351540716744,
          -0.11926806497031646,
          -0.1192794195413481,
          -0.11926880669696405
         ]
        },
        {
         "name": "AMT_ANNUITY",
         "type": "scatter",
         "x": [
          1e-8,
          2.976351441631319e-8,
          8.858667904100832e-8,
          2.6366508987303554e-7,
          7.847599703514607e-7,
          0.000002335721469090121,
          0.000006951927961775606,
          0.0000206913808111479,
          0.00006158482110660255,
          0.00018329807108324338,
          0.0005455594781168515,
          0.001623776739188721,
          0.004832930238571752,
          0.01438449888287663,
          0.04281332398719387,
          0.1274274985703132,
          0.3792690190732246,
          1.1288378916846884,
          3.359818286283774,
          10
         ],
         "y": [
          -0.000011657739269754124,
          -0.000034585506591542026,
          -0.00010180207320911624,
          -0.0002934212336300583,
          -0.000794173312764974,
          -0.001783892531384415,
          -0.0021565708629405433,
          0.003129923219385036,
          0.019707561108530985,
          0.049176906239449134,
          0.09587563909499244,
          0.15575259547895987,
          0.2054125180711588,
          0.23224752263346035,
          0.24319287711466847,
          0.24722050167433296,
          0.2485745201542952,
          0.24901501317382357,
          0.24917842985365937,
          0.24921016270854052
         ]
        },
        {
         "name": "AMT_GOODS_PRICE",
         "type": "scatter",
         "x": [
          1e-8,
          2.976351441631319e-8,
          8.858667904100832e-8,
          2.6366508987303554e-7,
          7.847599703514607e-7,
          0.000002335721469090121,
          0.000006951927961775606,
          0.0000206913808111479,
          0.00006158482110660255,
          0.00018329807108324338,
          0.0005455594781168515,
          0.001623776739188721,
          0.004832930238571752,
          0.01438449888287663,
          0.04281332398719387,
          0.1274274985703132,
          0.3792690190732246,
          1.1288378916846884,
          3.359818286283774,
          10
         ],
         "y": [
          -0.00002839732580026608,
          -0.00008434693330011434,
          -0.0002496382551113523,
          -0.0007304687046543419,
          -0.0020696804223467036,
          -0.005379769295647813,
          -0.011537450410172333,
          -0.018696573658929284,
          -0.027179589433869437,
          -0.04930288046581255,
          -0.10009873617523189,
          -0.1747114936012266,
          -0.24057947388172657,
          -0.2774226528856979,
          -0.2928095283107438,
          -0.2985036247132788,
          -0.30039827148232545,
          -0.3010446270989976,
          -0.30126655727502,
          -0.30130061550170617
         ]
        },
        {
         "name": "REGION_POPULATION_RELATIVE",
         "type": "scatter",
         "x": [
          1e-8,
          2.976351441631319e-8,
          8.858667904100832e-8,
          2.6366508987303554e-7,
          7.847599703514607e-7,
          0.000002335721469090121,
          0.000006951927961775606,
          0.0000206913808111479,
          0.00006158482110660255,
          0.00018329807108324338,
          0.0005455594781168515,
          0.001623776739188721,
          0.004832930238571752,
          0.01438449888287663,
          0.04281332398719387,
          0.1274274985703132,
          0.3792690190732246,
          1.1288378916846884,
          3.359818286283774,
          10
         ],
         "y": [
          -0.000022869719992662926,
          -0.00006796301226296137,
          -0.0002008800088672682,
          -0.0005867357974539332,
          -0.0016535831179588993,
          -0.004230801604713513,
          -0.008626955633632066,
          -0.011453500971230553,
          -0.006782470131619584,
          0.004931854081071205,
          0.016471893648629592,
          0.023344300073275568,
          0.02641313903628134,
          0.02758286394256894,
          0.027990424112252128,
          0.028122375817133508,
          0.028149960582787056,
          0.02818240172677823,
          0.02819027777990039,
          0.02819945329591433
         ]
        },
        {
         "name": "DAYS_BIRTH",
         "type": "scatter",
         "x": [
          1e-8,
          2.976351441631319e-8,
          8.858667904100832e-8,
          2.6366508987303554e-7,
          7.847599703514607e-7,
          0.000002335721469090121,
          0.000006951927961775606,
          0.0000206913808111479,
          0.00006158482110660255,
          0.00018329807108324338,
          0.0005455594781168515,
          0.001623776739188721,
          0.004832930238571752,
          0.01438449888287663,
          0.04281332398719387,
          0.1274274985703132,
          0.3792690190732246,
          1.1288378916846884,
          3.359818286283774,
          10
         ],
         "y": [
          0.000036501754271933386,
          0.00010843358717820208,
          0.0003209641240722592,
          0.0009396857347209648,
          0.002664967604932021,
          0.006913045710740744,
          0.014288801257809985,
          0.017752058625185793,
          0.002245277100500544,
          -0.034117177537045365,
          -0.07201672876281827,
          -0.09722110268157604,
          -0.11178259470834954,
          -0.11936245684870589,
          -0.12255880621917419,
          -0.12367243285265363,
          -0.1240871896081817,
          -0.12421870072631738,
          -0.1242718966793088,
          -0.12430909767687222
         ]
        },
        {
         "name": "DAYS_EMPLOYED",
         "type": "scatter",
         "x": [
          1e-8,
          2.976351441631319e-8,
          8.858667904100832e-8,
          2.6366508987303554e-7,
          7.847599703514607e-7,
          0.000002335721469090121,
          0.000006951927961775606,
          0.0000206913808111479,
          0.00006158482110660255,
          0.00018329807108324338,
          0.0005455594781168515,
          0.001623776739188721,
          0.004832930238571752,
          0.01438449888287663,
          0.04281332398719387,
          0.1274274985703132,
          0.3792690190732246,
          1.1288378916846884,
          3.359818286283774,
          10
         ],
         "y": [
          0.0000423516872570954,
          0.00012585769234889555,
          0.00037316641312338134,
          0.0010975602835415588,
          0.0031562684249713197,
          0.008545676301831305,
          0.02022442445386544,
          0.038920309916098385,
          0.06201481665421496,
          0.08633226477641409,
          0.1058700720304135,
          0.11827908829367512,
          0.1261346974725375,
          0.13056736734271265,
          0.13249354187776918,
          0.1332782388253526,
          0.1335401343763302,
          0.13364245814894604,
          0.13366339569033994,
          0.13366405334584724
         ]
        },
        {
         "name": "DAYS_REGISTRATION",
         "type": "scatter",
         "x": [
          1e-8,
          2.976351441631319e-8,
          8.858667904100832e-8,
          2.6366508987303554e-7,
          7.847599703514607e-7,
          0.000002335721469090121,
          0.000006951927961775606,
          0.0000206913808111479,
          0.00006158482110660255,
          0.00018329807108324338,
          0.0005455594781168515,
          0.001623776739188721,
          0.004832930238571752,
          0.01438449888287663,
          0.04281332398719387,
          0.1274274985703132,
          0.3792690190732246,
          1.1288378916846884,
          3.359818286283774,
          10
         ],
         "y": [
          0.000020152831227174124,
          0.00005987754032293229,
          0.00017741021560767283,
          0.0005207634082768095,
          0.0014887370434797846,
          0.003961560730536794,
          0.008931944508957958,
          0.015300288339006903,
          0.02008433613896586,
          0.023491393602397815,
          0.026532642637133105,
          0.028406274453508525,
          0.029095477307073403,
          0.02926256034217132,
          0.02930454627527575,
          0.029320122933348937,
          0.029323141367716167,
          0.029322735450003145,
          0.029323301776281226,
          0.029324823188501152
         ]
        },
        {
         "name": "DAYS_ID_PUBLISH",
         "type": "scatter",
         "x": [
          1e-8,
          2.976351441631319e-8,
          8.858667904100832e-8,
          2.6366508987303554e-7,
          7.847599703514607e-7,
          0.000002335721469090121,
          0.000006951927961775606,
          0.0000206913808111479,
          0.00006158482110660255,
          0.00018329807108324338,
          0.0005455594781168515,
          0.001623776739188721,
          0.004832930238571752,
          0.01438449888287663,
          0.04281332398719387,
          0.1274274985703132,
          0.3792690190732246,
          1.1288378916846884,
          3.359818286283774,
          10
         ],
         "y": [
          0.000022396788506663277,
          0.00006658291888521752,
          0.00019750778443712678,
          0.0005819898364462111,
          0.0016822881952725432,
          0.004613236344672984,
          0.011161811970576776,
          0.02171120665597517,
          0.03310380234962645,
          0.04176530542432292,
          0.04668202106335667,
          0.04873870560177491,
          0.04924475366112847,
          0.04925085316574709,
          0.049196696725943775,
          0.049168855941488926,
          0.04915664602447832,
          0.04915664133899004,
          0.049155708140801,
          0.04915259595461654
         ]
        },
        {
         "name": "OWN_CAR_AGE",
         "type": "scatter",
         "x": [
          1e-8,
          2.976351441631319e-8,
          8.858667904100832e-8,
          2.6366508987303554e-7,
          7.847599703514607e-7,
          0.000002335721469090121,
          0.000006951927961775606,
          0.0000206913808111479,
          0.00006158482110660255,
          0.00018329807108324338,
          0.0005455594781168515,
          0.001623776739188721,
          0.004832930238571752,
          0.01438449888287663,
          0.04281332398719387,
          0.1274274985703132,
          0.3792690190732246,
          1.1288378916846884,
          3.359818286283774,
          10
         ],
         "y": [
          0.000009441548710458218,
          0.000028065320912008315,
          0.00008320540308853029,
          0.00024481816881825977,
          0.0007049134693494801,
          0.0019170737291680342,
          0.004608341252293763,
          0.00930015195614099,
          0.016545538685114845,
          0.027047454069694284,
          0.03775389376065535,
          0.044528607528120275,
          0.047629332714630435,
          0.04878256362769573,
          0.04930642508786588,
          0.04946452865067928,
          0.04950193923767754,
          0.04953431019041793,
          0.04953148227311052,
          0.049536739147248265
         ]
        },
        {
         "name": "FLAG_WORK_PHONE",
         "type": "scatter",
         "x": [
          1e-8,
          2.976351441631319e-8,
          8.858667904100832e-8,
          2.6366508987303554e-7,
          7.847599703514607e-7,
          0.000002335721469090121,
          0.000006951927961775606,
          0.0000206913808111479,
          0.00006158482110660255,
          0.00018329807108324338,
          0.0005455594781168515,
          0.001623776739188721,
          0.004832930238571752,
          0.01438449888287663,
          0.04281332398719387,
          0.1274274985703132,
          0.3792690190732246,
          1.1288378916846884,
          3.359818286283774,
          10
         ],
         "y": [
          0.00001136470802849018,
          0.000033795149811889454,
          0.00010034352200326494,
          0.00029649165373915983,
          0.0008641661481587427,
          0.002430460284774015,
          0.006335645908789354,
          0.01470788897151019,
          0.029212205196026016,
          0.046638007251597884,
          0.06020103751230176,
          0.06791837596783101,
          0.07157259134710434,
          0.07306592984325785,
          0.07362987305307558,
          0.07379424889279623,
          0.07386101825732166,
          0.07388260802702674,
          0.07389318596441072,
          0.07390094438012854
         ]
        },
        {
         "name": "FLAG_PHONE",
         "type": "scatter",
         "x": [
          1e-8,
          2.976351441631319e-8,
          8.858667904100832e-8,
          2.6366508987303554e-7,
          7.847599703514607e-7,
          0.000002335721469090121,
          0.000006951927961775606,
          0.0000206913808111479,
          0.00006158482110660255,
          0.00018329807108324338,
          0.0005455594781168515,
          0.001623776739188721,
          0.004832930238571752,
          0.01438449888287663,
          0.04281332398719387,
          0.1274274985703132,
          0.3792690190732246,
          1.1288378916846884,
          3.359818286283774,
          10
         ],
         "y": [
          -0.000013356968070190768,
          -0.00003968977444619783,
          -0.0001175233600460577,
          -0.00034457092558205885,
          -0.0009818942894282187,
          -0.0025925201023595168,
          -0.005766526614619147,
          -0.009846776593540186,
          -0.013749774584123242,
          -0.01807383527133615,
          -0.021599304765379433,
          -0.023123159388582393,
          -0.02350138694559446,
          -0.023572096318260228,
          -0.023598271351704538,
          -0.023582778839388068,
          -0.023592927418086437,
          -0.023586591994167627,
          -0.023590078733863155,
          -0.023593310933005252
         ]
        },
        {
         "name": "REGION_RATING_CLIENT_W_CITY",
         "type": "scatter",
         "x": [
          1e-8,
          2.976351441631319e-8,
          8.858667904100832e-8,
          2.6366508987303554e-7,
          7.847599703514607e-7,
          0.000002335721469090121,
          0.000006951927961775606,
          0.0000206913808111479,
          0.00006158482110660255,
          0.00018329807108324338,
          0.0005455594781168515,
          0.001623776739188721,
          0.004832930238571752,
          0.01438449888287663,
          0.04281332398719387,
          0.1274274985703132,
          0.3792690190732246,
          1.1288378916846884,
          3.359818286283774,
          10
         ],
         "y": [
          0.000038586784546532,
          0.00011470126925749853,
          0.00033975514369795606,
          0.0009977377354797236,
          0.0028564031596772983,
          0.007639804605732994,
          0.01752532361848405,
          0.031425385291563045,
          0.04483540681867392,
          0.05708370434263293,
          0.06716889307103031,
          0.07312831800862916,
          0.07580014724336372,
          0.07680887806679648,
          0.07714544613185519,
          0.07724956896911543,
          0.07730449984285857,
          0.07730709489374758,
          0.07731771613849975,
          0.07731327168535189
         ]
        },
        {
         "name": "HOUR_APPR_PROCESS_START",
         "type": "scatter",
         "x": [
          1e-8,
          2.976351441631319e-8,
          8.858667904100832e-8,
          2.6366508987303554e-7,
          7.847599703514607e-7,
          0.000002335721469090121,
          0.000006951927961775606,
          0.0000206913808111479,
          0.00006158482110660255,
          0.00018329807108324338,
          0.0005455594781168515,
          0.001623776739188721,
          0.004832930238571752,
          0.01438449888287663,
          0.04281332398719387,
          0.1274274985703132,
          0.3792690190732246,
          1.1288378916846884,
          3.359818286283774,
          10
         ],
         "y": [
          -0.000017683296765830565,
          -0.000052563470523197375,
          -0.00015563319685748018,
          -0.00045659541209922856,
          -0.0013032971646563614,
          -0.0034530743643568815,
          -0.007676237727322434,
          -0.012440879442988847,
          -0.013696197077727663,
          -0.011151494323222906,
          -0.00798656201911966,
          -0.006018796790754192,
          -0.005107947060361292,
          -0.004749846235556464,
          -0.004630653286321334,
          -0.004585605780215547,
          -0.004582297399664196,
          -0.004571624117022443,
          -0.004570413310393616,
          -0.004567617103533262
         ]
        },
        {
         "name": "REG_CITY_NOT_LIVE_CITY",
         "type": "scatter",
         "x": [
          1e-8,
          2.976351441631319e-8,
          8.858667904100832e-8,
          2.6366508987303554e-7,
          7.847599703514607e-7,
          0.000002335721469090121,
          0.000006951927961775606,
          0.0000206913808111479,
          0.00006158482110660255,
          0.00018329807108324338,
          0.0005455594781168515,
          0.001623776739188721,
          0.004832930238571752,
          0.01438449888287663,
          0.04281332398719387,
          0.1274274985703132,
          0.3792690190732246,
          1.1288378916846884,
          3.359818286283774,
          10
         ],
         "y": [
          0.000023315980713891616,
          0.00006928744429021817,
          0.00020527563720872165,
          0.000602646173875625,
          0.0017231873338539856,
          0.00458074303064646,
          0.010217923370210295,
          0.01689447420328841,
          0.021340619424289834,
          0.02485114773473289,
          0.02980988051140143,
          0.03535448883310311,
          0.03915594969225166,
          0.040822300114997115,
          0.041487602415147755,
          0.04173503315539766,
          0.04183683750403926,
          0.041853664398820725,
          0.04186152651410507,
          0.04184985545642465
         ]
        },
        {
         "name": "REG_CITY_NOT_WORK_CITY",
         "type": "scatter",
         "x": [
          1e-8,
          2.976351441631319e-8,
          8.858667904100832e-8,
          2.6366508987303554e-7,
          7.847599703514607e-7,
          0.000002335721469090121,
          0.000006951927961775606,
          0.0000206913808111479,
          0.00006158482110660255,
          0.00018329807108324338,
          0.0005455594781168515,
          0.001623776739188721,
          0.004832930238571752,
          0.01438449888287663,
          0.04281332398719387,
          0.1274274985703132,
          0.3792690190732246,
          1.1288378916846884,
          3.359818286283774,
          10
         ],
         "y": [
          0.000024512008137806836,
          0.00007282182485748863,
          0.0002154602640835419,
          0.0006302862904836049,
          0.001783494675145668,
          0.004602137188520453,
          0.009470893725986508,
          0.012679583099409322,
          0.009070491855159974,
          -0.00021575945976782724,
          -0.013014535880295585,
          -0.026371051822739605,
          -0.03568595246732736,
          -0.039976551245394246,
          -0.04168064261833676,
          -0.042367873384694235,
          -0.04262375644260763,
          -0.042685214209320255,
          -0.042690322973949466,
          -0.0426646398831072
         ]
        },
        {
         "name": "LIVE_CITY_NOT_WORK_CITY",
         "type": "scatter",
         "x": [
          1e-8,
          2.976351441631319e-8,
          8.858667904100832e-8,
          2.6366508987303554e-7,
          7.847599703514607e-7,
          0.000002335721469090121,
          0.000006951927961775606,
          0.0000206913808111479,
          0.00006158482110660255,
          0.00018329807108324338,
          0.0005455594781168515,
          0.001623776739188721,
          0.004832930238571752,
          0.01438449888287663,
          0.04281332398719387,
          0.1274274985703132,
          0.3792690190732246,
          1.1288378916846884,
          3.359818286283774,
          10
         ],
         "y": [
          0.000014383704209174881,
          0.0000427218377072278,
          0.00012629045341994583,
          0.0003685075043080394,
          0.0010351098860378305,
          0.00261564569048071,
          0.005088390061154047,
          0.005915134468703355,
          0.0031783862852007854,
          0.0016609205699641852,
          0.006282964011918128,
          0.014760290810789816,
          0.021498566964392167,
          0.024678602679804252,
          0.0259788573838611,
          0.02647264789344269,
          0.026683713275293917,
          0.02671360085524574,
          0.02672928723640629,
          0.026711046846668623
         ]
        },
        {
         "name": "EXT_SOURCE_1",
         "type": "scatter",
         "x": [
          1e-8,
          2.976351441631319e-8,
          8.858667904100832e-8,
          2.6366508987303554e-7,
          7.847599703514607e-7,
          0.000002335721469090121,
          0.000006951927961775606,
          0.0000206913808111479,
          0.00006158482110660255,
          0.00018329807108324338,
          0.0005455594781168515,
          0.001623776739188721,
          0.004832930238571752,
          0.01438449888287663,
          0.04281332398719387,
          0.1274274985703132,
          0.3792690190732246,
          1.1288378916846884,
          3.359818286283774,
          10
         ],
         "y": [
          -0.00005830368376525224,
          -0.00017327589350500796,
          -0.0005137263498429517,
          -0.0015109562907292,
          -0.004344540314014925,
          -0.011749583868769979,
          -0.027592107951553937,
          -0.05144784426851294,
          -0.07759169601962923,
          -0.10929523805770525,
          -0.1574002381654972,
          -0.22086012286769388,
          -0.2794352762934614,
          -0.3135838275095062,
          -0.3279606003542207,
          -0.3330117002552433,
          -0.33477425590108006,
          -0.33547945220694475,
          -0.33568541759124004,
          -0.3357906351420263
         ]
        },
        {
         "name": "EXT_SOURCE_2",
         "type": "scatter",
         "x": [
          1e-8,
          2.976351441631319e-8,
          8.858667904100832e-8,
          2.6366508987303554e-7,
          7.847599703514607e-7,
          0.000002335721469090121,
          0.000006951927961775606,
          0.0000206913808111479,
          0.00006158482110660255,
          0.00018329807108324338,
          0.0005455594781168515,
          0.001623776739188721,
          0.004832930238571752,
          0.01438449888287663,
          0.04281332398719387,
          0.1274274985703132,
          0.3792690190732246,
          1.1288378916846884,
          3.359818286283774,
          10
         ],
         "y": [
          -0.00009638894089034629,
          -0.00028653499995151825,
          -0.0008498796470412436,
          -0.0025034212051069935,
          -0.007228569210540407,
          -0.019755631613333456,
          -0.04724132806993066,
          -0.0881126737961675,
          -0.12085064848856077,
          -0.13258159870275915,
          -0.1404438281664036,
          -0.16835936362138956,
          -0.21778536173244298,
          -0.26101089898174257,
          -0.2842591431623146,
          -0.29382407789200965,
          -0.2971452368625695,
          -0.298285078153686,
          -0.2986816499206264,
          -0.29885954481650057
         ]
        },
        {
         "name": "EXT_SOURCE_3",
         "type": "scatter",
         "x": [
          1e-8,
          2.976351441631319e-8,
          8.858667904100832e-8,
          2.6366508987303554e-7,
          7.847599703514607e-7,
          0.000002335721469090121,
          0.000006951927961775606,
          0.0000206913808111479,
          0.00006158482110660255,
          0.00018329807108324338,
          0.0005455594781168515,
          0.001623776739188721,
          0.004832930238571752,
          0.01438449888287663,
          0.04281332398719387,
          0.1274274985703132,
          0.3792690190732246,
          1.1288378916846884,
          3.359818286283774,
          10
         ],
         "y": [
          -0.00008757660402308527,
          -0.0002604044866958798,
          -0.0007731983865618404,
          -0.0022842796971579505,
          -0.006653313512171829,
          -0.01864526254927948,
          -0.04773417969174476,
          -0.10421508336157823,
          -0.1857351742390616,
          -0.2698736308447,
          -0.340020344850524,
          -0.40376477590694815,
          -0.46486701240962364,
          -0.5092125545987495,
          -0.5320947464339141,
          -0.5414974131082841,
          -0.5448225057283028,
          -0.5458451855663679,
          -0.5462291167794755,
          -0.5464206579715276
         ]
        },
        {
         "name": "BASEMENTAREA_AVG",
         "type": "scatter",
         "x": [
          1e-8,
          2.976351441631319e-8,
          8.858667904100832e-8,
          2.6366508987303554e-7,
          7.847599703514607e-7,
          0.000002335721469090121,
          0.000006951927961775606,
          0.0000206913808111479,
          0.00006158482110660255,
          0.00018329807108324338,
          0.0005455594781168515,
          0.001623776739188721,
          0.004832930238571752,
          0.01438449888287663,
          0.04281332398719387,
          0.1274274985703132,
          0.3792690190732246,
          1.1288378916846884,
          3.359818286283774,
          10
         ],
         "y": [
          -0.000009363304317941645,
          -0.000027807550565833836,
          -0.00008226614123768549,
          -0.0002404398512199352,
          -0.0006791275419281152,
          -0.0017530109599308305,
          -0.003716523743993027,
          -0.005779479703869541,
          -0.006480842109823967,
          -0.005834789420658418,
          -0.00515251012146906,
          -0.005125679495881968,
          -0.005255201622510887,
          -0.0050880688502963805,
          -0.005079531049498734,
          -0.005190815364265457,
          -0.005261137169054849,
          -0.005222918353024283,
          -0.005209494166081227,
          -0.00514602439834512
         ]
        },
        {
         "name": "ELEVATORS_AVG",
         "type": "scatter",
         "x": [
          1e-8,
          2.976351441631319e-8,
          8.858667904100832e-8,
          2.6366508987303554e-7,
          7.847599703514607e-7,
          0.000002335721469090121,
          0.000006951927961775606,
          0.0000206913808111479,
          0.00006158482110660255,
          0.00018329807108324338,
          0.0005455594781168515,
          0.001623776739188721,
          0.004832930238571752,
          0.01438449888287663,
          0.04281332398719387,
          0.1274274985703132,
          0.3792690190732246,
          1.1288378916846884,
          3.359818286283774,
          10
         ],
         "y": [
          -0.000013416455657138328,
          -0.00003986021790894039,
          -0.00011785258206650465,
          -0.0003442954406757152,
          -0.0009712227799619259,
          -0.002498190326564675,
          -0.005249773414791255,
          -0.00797407001733934,
          -0.008138978382633425,
          -0.004524572453474641,
          0.0012063699031992212,
          0.004291579855264666,
          0.003277973721482809,
          0.001716079778167091,
          0.0007907703652315334,
          0.0004607836089221233,
          0.0004237088150388209,
          0.0003161054228249833,
          0.0002942954533562365,
          0.0002962023952249106
         ]
        },
        {
         "name": "ENTRANCES_AVG",
         "type": "scatter",
         "x": [
          1e-8,
          2.976351441631319e-8,
          8.858667904100832e-8,
          2.6366508987303554e-7,
          7.847599703514607e-7,
          0.000002335721469090121,
          0.000006951927961775606,
          0.0000206913808111479,
          0.00006158482110660255,
          0.00018329807108324338,
          0.0005455594781168515,
          0.001623776739188721,
          0.004832930238571752,
          0.01438449888287663,
          0.04281332398719387,
          0.1274274985703132,
          0.3792690190732246,
          1.1288378916846884,
          3.359818286283774,
          10
         ],
         "y": [
          -0.000007307113560185702,
          -0.000021699032761571278,
          -0.00006423369316419464,
          -0.00018792288427897126,
          -0.0005323726769503397,
          -0.001385143300618328,
          -0.0029907995300975094,
          -0.004848509909463826,
          -0.006175099986813485,
          -0.00827061060083781,
          -0.013799333762014008,
          -0.021731887373301995,
          -0.028290179327873866,
          -0.031728206324303614,
          -0.03319909034913979,
          -0.03371885303848375,
          -0.033859885159843714,
          -0.033947351275835445,
          -0.033970706591205393,
          -0.03399599490635914
         ]
        },
        {
         "name": "FLOORSMAX_AVG",
         "type": "scatter",
         "x": [
          1e-8,
          2.976351441631319e-8,
          8.858667904100832e-8,
          2.6366508987303554e-7,
          7.847599703514607e-7,
          0.000002335721469090121,
          0.000006951927961775606,
          0.0000206913808111479,
          0.00006158482110660255,
          0.00018329807108324338,
          0.0005455594781168515,
          0.001623776739188721,
          0.004832930238571752,
          0.01438449888287663,
          0.04281332398719387,
          0.1274274985703132,
          0.3792690190732246,
          1.1288378916846884,
          3.359818286283774,
          10
         ],
         "y": [
          -0.000015287261245806917,
          -0.00004540239365894812,
          -0.00013442899686461225,
          -0.0003935801720984551,
          -0.001117578388306145,
          -0.0029293671116485073,
          -0.006478278314802088,
          -0.011206809418905995,
          -0.01572654770830376,
          -0.01998205284010159,
          -0.024646579353242038,
          -0.029808390191807626,
          -0.03403710957723873,
          -0.03590623891176877,
          -0.036667173052957434,
          -0.03681077720830155,
          -0.03690853905429856,
          -0.03699206739570866,
          -0.03699871345951341,
          -0.037061675176033364
         ]
        },
        {
         "name": "FLOORSMIN_AVG",
         "type": "scatter",
         "x": [
          1e-8,
          2.976351441631319e-8,
          8.858667904100832e-8,
          2.6366508987303554e-7,
          7.847599703514607e-7,
          0.000002335721469090121,
          0.000006951927961775606,
          0.0000206913808111479,
          0.00006158482110660255,
          0.00018329807108324338,
          0.0005455594781168515,
          0.001623776739188721,
          0.004832930238571752,
          0.01438449888287663,
          0.04281332398719387,
          0.1274274985703132,
          0.3792690190732246,
          1.1288378916846884,
          3.359818286283774,
          10
         ],
         "y": [
          -0.000012202741126929591,
          -0.00003625803699363714,
          -0.00010731068880946116,
          -0.00031428259789767916,
          -0.0008930429333224578,
          -0.0023458493959775564,
          -0.005221659631777331,
          -0.009203485872102433,
          -0.013568747809766685,
          -0.01898597308776269,
          -0.02575346146640014,
          -0.03120344815002747,
          -0.033621188470446706,
          -0.0345520039768429,
          -0.03486624094774648,
          -0.03505084619841479,
          -0.0350600625015853,
          -0.03507513069361074,
          -0.035080068463272364,
          -0.035017703411224343
         ]
        },
        {
         "name": "LIVINGAREA_AVG",
         "type": "scatter",
         "x": [
          1e-8,
          2.976351441631319e-8,
          8.858667904100832e-8,
          2.6366508987303554e-7,
          7.847599703514607e-7,
          0.000002335721469090121,
          0.000006951927961775606,
          0.0000206913808111479,
          0.00006158482110660255,
          0.00018329807108324338,
          0.0005455594781168515,
          0.001623776739188721,
          0.004832930238571752,
          0.01438449888287663,
          0.04281332398719387,
          0.1274274985703132,
          0.3792690190732246,
          1.1288378916846884,
          3.359818286283774,
          10
         ],
         "y": [
          -0.000012530799296973876,
          -0.00003719765090636878,
          -0.00011009329519194312,
          -0.0003216680794227389,
          -0.0009080073587719062,
          -0.0023397476661228844,
          -0.004933504278991995,
          -0.007492032279833388,
          -0.007354810296974645,
          -0.002606929399375827,
          0.007157072090422393,
          0.020699782611236093,
          0.032997262318192014,
          0.03959281884312028,
          0.0426032772236942,
          0.04379809213862194,
          0.04412492445302692,
          0.044317523784656386,
          0.04435058633883586,
          0.0443163360789279
         ]
        },
        {
         "name": "NONLIVINGAREA_AVG",
         "type": "scatter",
         "x": [
          1e-8,
          2.976351441631319e-8,
          8.858667904100832e-8,
          2.6366508987303554e-7,
          7.847599703514607e-7,
          0.000002335721469090121,
          0.000006951927961775606,
          0.0000206913808111479,
          0.00006158482110660255,
          0.00018329807108324338,
          0.0005455594781168515,
          0.001623776739188721,
          0.004832930238571752,
          0.01438449888287663,
          0.04281332398719387,
          0.1274274985703132,
          0.3792690190732246,
          1.1288378916846884,
          3.359818286283774,
          10
         ],
         "y": [
          -0.0000044083264164913874,
          -0.000013101942044283618,
          -0.000038742304524320206,
          -0.0001132669791186043,
          -0.00032039540076517453,
          -0.0008316577326889799,
          -0.0018003364553440316,
          -0.0029863283275325015,
          -0.003886152872153412,
          -0.004788603552594685,
          -0.00598869494692614,
          -0.007220415805514178,
          -0.007737673996269338,
          -0.007982595610346142,
          -0.00806329910251037,
          -0.008061861383934431,
          -0.008167206581887717,
          -0.008098439717149247,
          -0.008101425220000947,
          -0.008098107407070222
         ]
        },
        {
         "name": "YEARS_BEGINEXPLUATATION_MEDI",
         "type": "scatter",
         "x": [
          1e-8,
          2.976351441631319e-8,
          8.858667904100832e-8,
          2.6366508987303554e-7,
          7.847599703514607e-7,
          0.000002335721469090121,
          0.000006951927961775606,
          0.0000206913808111479,
          0.00006158482110660255,
          0.00018329807108324338,
          0.0005455594781168515,
          0.001623776739188721,
          0.004832930238571752,
          0.01438449888287663,
          0.04281332398719387,
          0.1274274985703132,
          0.3792690190732246,
          1.1288378916846884,
          3.359818286283774,
          10
         ],
         "y": [
          -0.000003906008720399899,
          -0.000011609964189027265,
          -0.0000344579002846653,
          -0.00010161386917371234,
          -0.00029454221282113486,
          -0.0008167193811132865,
          -0.0020649565786070795,
          -0.004569699293281744,
          -0.008707270595270142,
          -0.013714014841036497,
          -0.017719068336667206,
          -0.02009596654774978,
          -0.0211985380018804,
          -0.021638706718139472,
          -0.021808836711697057,
          -0.021820433967633012,
          -0.02183306797890998,
          -0.021845673546950085,
          -0.021850476888254637,
          -0.021859851280335525
         ]
        },
        {
         "name": "YEARS_BUILD_MEDI",
         "type": "scatter",
         "x": [
          1e-8,
          2.976351441631319e-8,
          8.858667904100832e-8,
          2.6366508987303554e-7,
          7.847599703514607e-7,
          0.000002335721469090121,
          0.000006951927961775606,
          0.0000206913808111479,
          0.00006158482110660255,
          0.00018329807108324338,
          0.0005455594781168515,
          0.001623776739188721,
          0.004832930238571752,
          0.01438449888287663,
          0.04281332398719387,
          0.1274274985703132,
          0.3792690190732246,
          1.1288378916846884,
          3.359818286283774,
          10
         ],
         "y": [
          -0.000006551028383100419,
          -0.000019466638811185688,
          -0.00005765757068288257,
          -0.00016919873456133907,
          -0.0004835648398769126,
          -0.0012925263954117114,
          -0.003022447339671863,
          -0.0059368621807716635,
          -0.009962248894057505,
          -0.014025479530173243,
          -0.016285664221810308,
          -0.016454608323459366,
          -0.015747238749149378,
          -0.01530337089415383,
          -0.015097726523603737,
          -0.01513979759522995,
          -0.015133189347380793,
          -0.015075036893207126,
          -0.01507494744991523,
          -0.015052516808499514
         ]
        },
        {
         "name": "COMMONAREA_MEDI",
         "type": "scatter",
         "x": [
          1e-8,
          2.976351441631319e-8,
          8.858667904100832e-8,
          2.6366508987303554e-7,
          7.847599703514607e-7,
          0.000002335721469090121,
          0.000006951927961775606,
          0.0000206913808111479,
          0.00006158482110660255,
          0.00018329807108324338,
          0.0005455594781168515,
          0.001623776739188721,
          0.004832930238571752,
          0.01438449888287663,
          0.04281332398719387,
          0.1274274985703132,
          0.3792690190732246,
          1.1288378916846884,
          3.359818286283774,
          10
         ],
         "y": [
          -0.000008117455497982706,
          -0.000024108809694037147,
          -0.00007135134691505985,
          -0.00020873869441477317,
          -0.0005913565737546414,
          -0.0015411285492276305,
          -0.0033723616714822495,
          -0.0057864582939829426,
          -0.008378305904894408,
          -0.012183682552743208,
          -0.018177907495545792,
          -0.0242508681809185,
          -0.027682753171264014,
          -0.02923726847338,
          -0.02979587853820587,
          -0.02997883474956668,
          -0.030025115735922824,
          -0.03006297533591047,
          -0.030075795212934332,
          -0.03007090216026539
         ]
        },
        {
         "name": "LANDAREA_MEDI",
         "type": "scatter",
         "x": [
          1e-8,
          2.976351441631319e-8,
          8.858667904100832e-8,
          2.6366508987303554e-7,
          7.847599703514607e-7,
          0.000002335721469090121,
          0.000006951927961775606,
          0.0000206913808111479,
          0.00006158482110660255,
          0.00018329807108324338,
          0.0005455594781168515,
          0.001623776739188721,
          0.004832930238571752,
          0.01438449888287663,
          0.04281332398719387,
          0.1274274985703132,
          0.3792690190732246,
          1.1288378916846884,
          3.359818286283774,
          10
         ],
         "y": [
          -0.000004611873942638271,
          -0.000013688665654309607,
          -0.0000405070654647879,
          -0.00011827847858300013,
          -0.00033316415828913765,
          -0.0008519406360896957,
          -0.0017405474755159476,
          -0.0023020916157905414,
          -0.0009525807860063422,
          0.0031895341588272503,
          0.00861192116244209,
          0.012785600824358903,
          0.01470308009627639,
          0.015413698347254179,
          0.01561021339070112,
          0.015692352728406925,
          0.015756848352609484,
          0.015714466095686854,
          0.01572008877308099,
          0.015729989249779634
         ]
        },
        {
         "name": "OBS_30_CNT_SOCIAL_CIRCLE",
         "type": "scatter",
         "x": [
          1e-8,
          2.976351441631319e-8,
          8.858667904100832e-8,
          2.6366508987303554e-7,
          7.847599703514607e-7,
          0.000002335721469090121,
          0.000006951927961775606,
          0.0000206913808111479,
          0.00006158482110660255,
          0.00018329807108324338,
          0.0005455594781168515,
          0.001623776739188721,
          0.004832930238571752,
          0.01438449888287663,
          0.04281332398719387,
          0.1274274985703132,
          0.3792690190732246,
          1.1288378916846884,
          3.359818286283774,
          10
         ],
         "y": [
          0.000006044210300440436,
          0.000017959997443846056,
          0.000053151333618893457,
          0.0001556469699696378,
          0.0004418503025627247,
          0.0011519403981753436,
          0.0024411078600125586,
          0.003415946281137058,
          0.002442454943547087,
          0.0004614313416662635,
          -0.0007128449558775823,
          -0.0010815696617318942,
          -0.0010798752050728416,
          -0.0010252230929396686,
          -0.0009997104274734167,
          -0.0009770262145047893,
          -0.0009559204523022737,
          -0.0009620560306076055,
          -0.000963084165034329,
          -0.0009674509635230511
         ]
        },
        {
         "name": "DEF_30_CNT_SOCIAL_CIRCLE",
         "type": "scatter",
         "x": [
          1e-8,
          2.976351441631319e-8,
          8.858667904100832e-8,
          2.6366508987303554e-7,
          7.847599703514607e-7,
          0.000002335721469090121,
          0.000006951927961775606,
          0.0000206913808111479,
          0.00006158482110660255,
          0.00018329807108324338,
          0.0005455594781168515,
          0.001623776739188721,
          0.004832930238571752,
          0.01438449888287663,
          0.04281332398719387,
          0.1274274985703132,
          0.3792690190732246,
          1.1288378916846884,
          3.359818286283774,
          10
         ],
         "y": [
          0.00002131695492268005,
          0.00006338421104326755,
          0.0001880845026318959,
          0.000554879494876505,
          0.001609321419922095,
          0.004452004581225605,
          0.010960627673457483,
          0.021662053175964775,
          0.03312809118085386,
          0.04291200656671369,
          0.05127601992440513,
          0.05703364050739912,
          0.05968679216277622,
          0.060755532664543185,
          0.06104412614064581,
          0.061119148381236756,
          0.061163654015083134,
          0.06116975648752987,
          0.0611793716629699,
          0.061201630575487165
         ]
        },
        {
         "name": "DEF_60_CNT_SOCIAL_CIRCLE",
         "type": "scatter",
         "x": [
          1e-8,
          2.976351441631319e-8,
          8.858667904100832e-8,
          2.6366508987303554e-7,
          7.847599703514607e-7,
          0.000002335721469090121,
          0.000006951927961775606,
          0.0000206913808111479,
          0.00006158482110660255,
          0.00018329807108324338,
          0.0005455594781168515,
          0.001623776739188721,
          0.004832930238571752,
          0.01438449888287663,
          0.04281332398719387,
          0.1274274985703132,
          0.3792690190732246,
          1.1288378916846884,
          3.359818286283774,
          10
         ],
         "y": [
          0.00002051859825004131,
          0.00006101038742729823,
          0.00018100886942695388,
          0.0005337974214904503,
          0.0015463721463195386,
          0.004262759081018924,
          0.010381017741110953,
          0.019843869280117207,
          0.027671978959765225,
          0.02926757257470092,
          0.02587699403500383,
          0.021964601099843734,
          0.019966839729830377,
          0.019161046517372556,
          0.01891023822073796,
          0.018898368280062507,
          0.018900674547496332,
          0.018891068118518626,
          0.018876743224931856,
          0.018845532337382603
         ]
        },
        {
         "name": "DAYS_LAST_PHONE_CHANGE",
         "type": "scatter",
         "x": [
          1e-8,
          2.976351441631319e-8,
          8.858667904100832e-8,
          2.6366508987303554e-7,
          7.847599703514607e-7,
          0.000002335721469090121,
          0.000006951927961775606,
          0.0000206913808111479,
          0.00006158482110660255,
          0.00018329807108324338,
          0.0005455594781168515,
          0.001623776739188721,
          0.004832930238571752,
          0.01438449888287663,
          0.04281332398719387,
          0.1274274985703132,
          0.3792690190732246,
          1.1288378916846884,
          3.359818286283774,
          10
         ],
         "y": [
          0.00003343975202438577,
          0.00009939097408501126,
          0.0002946688822134329,
          0.0008668403314254121,
          0.002493563719795396,
          0.006746776032668531,
          0.015789877515248178,
          0.028704278472933702,
          0.03962274668331018,
          0.04568535339659801,
          0.04844702459701061,
          0.049330410473557455,
          0.0493176572126557,
          0.04915906084425651,
          0.04906336999805788,
          0.0490115827012014,
          0.04901179265405505,
          0.048993003927717584,
          0.04899587084891512,
          0.04899188984494212
         ]
        },
        {
         "name": "FLAG_DOCUMENT_3",
         "type": "scatter",
         "x": [
          1e-8,
          2.976351441631319e-8,
          8.858667904100832e-8,
          2.6366508987303554e-7,
          7.847599703514607e-7,
          0.000002335721469090121,
          0.000006951927961775606,
          0.0000206913808111479,
          0.00006158482110660255,
          0.00018329807108324338,
          0.0005455594781168515,
          0.001623776739188721,
          0.004832930238571752,
          0.01438449888287663,
          0.04281332398719387,
          0.1274274985703132,
          0.3792690190732246,
          1.1288378916846884,
          3.359818286283774,
          10
         ],
         "y": [
          0.000022802707495010683,
          0.00006783274606856783,
          0.0002012469014959838,
          0.0005940931395307254,
          0.0017265135853156426,
          0.004808087161715082,
          0.012088824958224343,
          0.02506446087958843,
          0.0405918463079298,
          0.0550930408569666,
          0.07055500031819183,
          0.0851901868049827,
          0.09387124878553606,
          0.09749630201497098,
          0.09886201646293324,
          0.09936748890521455,
          0.09955435260858775,
          0.0996137953255275,
          0.09962502060565162,
          0.09959158835593021
         ]
        },
        {
         "name": "FLAG_DOCUMENT_8",
         "type": "scatter",
         "x": [
          1e-8,
          2.976351441631319e-8,
          8.858667904100832e-8,
          2.6366508987303554e-7,
          7.847599703514607e-7,
          0.000002335721469090121,
          0.000006951927961775606,
          0.0000206913808111479,
          0.00006158482110660255,
          0.00018329807108324338,
          0.0005455594781168515,
          0.001623776739188721,
          0.004832930238571752,
          0.01438449888287663,
          0.04281332398719387,
          0.1274274985703132,
          0.3792690190732246,
          1.1288378916846884,
          3.359818286283774,
          10
         ],
         "y": [
          -0.00000782926075762467,
          -0.00002328661955052463,
          -0.00006893425255890094,
          -0.00020243176545713462,
          -0.0005795446526684462,
          -0.0015509020778315197,
          -0.003560584379706549,
          -0.006253362967177375,
          -0.007628413120781859,
          -0.005024857030679398,
          0.003044580520007646,
          0.01292219334702392,
          0.01919101681205537,
          0.021885226028439963,
          0.022894264543601495,
          0.023309389166049722,
          0.02345175089653485,
          0.023489524920459356,
          0.023498700601653783,
          0.02347234005678957
         ]
        },
        {
         "name": "FLAG_DOCUMENT_13",
         "type": "scatter",
         "x": [
          1e-8,
          2.976351441631319e-8,
          8.858667904100832e-8,
          2.6366508987303554e-7,
          7.847599703514607e-7,
          0.000002335721469090121,
          0.000006951927961775606,
          0.0000206913808111479,
          0.00006158482110660255,
          0.00018329807108324338,
          0.0005455594781168515,
          0.001623776739188721,
          0.004832930238571752,
          0.01438449888287663,
          0.04281332398719387,
          0.1274274985703132,
          0.3792690190732246,
          1.1288378916846884,
          3.359818286283774,
          10
         ],
         "y": [
          -0.000007191244670647996,
          -0.000021387171649245697,
          -0.00006342418777961226,
          -0.00018695315170082916,
          -0.0005412009294202156,
          -0.0014954689670275878,
          -0.0037520634062914756,
          -0.008198406349739824,
          -0.015443242082863894,
          -0.02441293190205903,
          -0.03182735378481129,
          -0.035859240108843844,
          -0.03743140727227962,
          -0.03795333774365485,
          -0.03811476982949675,
          -0.03816605700372677,
          -0.03817935667881663,
          -0.038191243594403436,
          -0.03819528197718603,
          -0.03819706848389202
         ]
        },
        {
         "name": "FLAG_DOCUMENT_14",
         "type": "scatter",
         "x": [
          1e-8,
          2.976351441631319e-8,
          8.858667904100832e-8,
          2.6366508987303554e-7,
          7.847599703514607e-7,
          0.000002335721469090121,
          0.000006951927961775606,
          0.0000206913808111479,
          0.00006158482110660255,
          0.00018329807108324338,
          0.0005455594781168515,
          0.001623776739188721,
          0.004832930238571752,
          0.01438449888287663,
          0.04281332398719387,
          0.1274274985703132,
          0.3792690190732246,
          1.1288378916846884,
          3.359818286283774,
          10
         ],
         "y": [
          -0.000006840372535578546,
          -0.00002034131505199311,
          -0.000060313615156814576,
          -0.00017767949025487368,
          -0.0005135319675247731,
          -0.0014137067880915664,
          -0.003526127039418421,
          -0.007684814697990467,
          -0.014628250858320691,
          -0.023777306417118147,
          -0.03209034249577501,
          -0.037193711103728634,
          -0.039490321542071105,
          -0.04031108609075131,
          -0.04063313424716567,
          -0.04073010963676132,
          -0.04075054515299358,
          -0.04077278571877933,
          -0.04077333553885729,
          -0.0407763881148401
         ]
        },
        {
         "name": "FLAG_DOCUMENT_16",
         "type": "scatter",
         "x": [
          1e-8,
          2.976351441631319e-8,
          8.858667904100832e-8,
          2.6366508987303554e-7,
          7.847599703514607e-7,
          0.000002335721469090121,
          0.000006951927961775606,
          0.0000206913808111479,
          0.00006158482110660255,
          0.00018329807108324338,
          0.0005455594781168515,
          0.001623776739188721,
          0.004832930238571752,
          0.01438449888287663,
          0.04281332398719387,
          0.1274274985703132,
          0.3792690190732246,
          1.1288378916846884,
          3.359818286283774,
          10
         ],
         "y": [
          -0.000008668453678110122,
          -0.000025780843997553063,
          -0.00007656750591454602,
          -0.00022643612933080282,
          -0.000661589435102059,
          -0.0018721623593497866,
          -0.004938125447778082,
          -0.011635163105550465,
          -0.023552123619804754,
          -0.038607133568498354,
          -0.05062782430709698,
          -0.05686662675604387,
          -0.05927928584149312,
          -0.060046593412996965,
          -0.06034942713966579,
          -0.06039019806687895,
          -0.06038912077077614,
          -0.06042759707034418,
          -0.06042838119149056,
          -0.060446549943963375
         ]
        },
        {
         "name": "FLAG_DOCUMENT_18",
         "type": "scatter",
         "x": [
          1e-8,
          2.976351441631319e-8,
          8.858667904100832e-8,
          2.6366508987303554e-7,
          7.847599703514607e-7,
          0.000002335721469090121,
          0.000006951927961775606,
          0.0000206913808111479,
          0.00006158482110660255,
          0.00018329807108324338,
          0.0005455594781168515,
          0.001623776739188721,
          0.004832930238571752,
          0.01438449888287663,
          0.04281332398719387,
          0.1274274985703132,
          0.3792690190732246,
          1.1288378916846884,
          3.359818286283774,
          10
         ],
         "y": [
          -0.0000056344209101134495,
          -0.00001676494381370628,
          -0.000049843297721812424,
          -0.00014789831458161687,
          -0.00043630160803033175,
          -0.0012671105806491905,
          -0.00353907735834279,
          -0.009025098538823129,
          -0.01922360579366432,
          -0.031773269340485355,
          -0.041330792573277174,
          -0.046206066925712996,
          -0.048216720599300274,
          -0.04898995752760695,
          -0.04927569077769445,
          -0.0493439142735095,
          -0.049398515753160475,
          -0.04938828480312256,
          -0.04939966183977331,
          -0.049404413648135984
         ]
        },
        {
         "name": "AMT_REQ_CREDIT_BUREAU_MON",
         "type": "scatter",
         "x": [
          1e-8,
          2.976351441631319e-8,
          8.858667904100832e-8,
          2.6366508987303554e-7,
          7.847599703514607e-7,
          0.000002335721469090121,
          0.000006951927961775606,
          0.0000206913808111479,
          0.00006158482110660255,
          0.00018329807108324338,
          0.0005455594781168515,
          0.001623776739188721,
          0.004832930238571752,
          0.01438449888287663,
          0.04281332398719387,
          0.1274274985703132,
          0.3792690190732246,
          1.1288378916846884,
          3.359818286283774,
          10
         ],
         "y": [
          -0.000008897630228698723,
          -0.000026443631522695636,
          -0.00007830667166271784,
          -0.00022972186136176791,
          -0.0006558184326334391,
          -0.0017425378104348745,
          -0.00396327465775832,
          -0.007204848248196966,
          -0.011067743104310681,
          -0.015497784724423936,
          -0.019060263814825645,
          -0.020716509983812473,
          -0.021194858484358366,
          -0.021293244862332476,
          -0.02134058238441606,
          -0.02133618375710788,
          -0.021329336681454432,
          -0.021341259337736996,
          -0.021339971195354367,
          -0.02134574755114941
         ]
        },
        {
         "name": "AMT_REQ_CREDIT_BUREAU_YEAR",
         "type": "scatter",
         "x": [
          1e-8,
          2.976351441631319e-8,
          8.858667904100832e-8,
          2.6366508987303554e-7,
          7.847599703514607e-7,
          0.000002335721469090121,
          0.000006951927961775606,
          0.0000206913808111479,
          0.00006158482110660255,
          0.00018329807108324338,
          0.0005455594781168515,
          0.001623776739188721,
          0.004832930238571752,
          0.01438449888287663,
          0.04281332398719387,
          0.1274274985703132,
          0.3792690190732246,
          1.1288378916846884,
          3.359818286283774,
          10
         ],
         "y": [
          0.00001257393623604299,
          0.000037396110298003626,
          0.0001109524046926664,
          0.0003273990858864434,
          0.0009503365777384819,
          0.0026383773664106925,
          0.006591627770251,
          0.013496381446502528,
          0.020773362164864716,
          0.024087937718306654,
          0.023880441347583152,
          0.022777736050840717,
          0.021891988984326847,
          0.021402807847416355,
          0.02120150902532609,
          0.021117525102383298,
          0.021081747224817485,
          0.021084042583365242,
          0.02107961031736903,
          0.02107889617191866
         ]
        },
        {
         "name": "NAME_CONTRACT_TYPE_Cash loans",
         "type": "scatter",
         "x": [
          1e-8,
          2.976351441631319e-8,
          8.858667904100832e-8,
          2.6366508987303554e-7,
          7.847599703514607e-7,
          0.000002335721469090121,
          0.000006951927961775606,
          0.0000206913808111479,
          0.00006158482110660255,
          0.00018329807108324338,
          0.0005455594781168515,
          0.001623776739188721,
          0.004832930238571752,
          0.01438449888287663,
          0.04281332398719387,
          0.1274274985703132,
          0.3792690190732246,
          1.1288378916846884,
          3.359818286283774,
          10
         ],
         "y": [
          0.000020270510152000583,
          0.0000603147856635682,
          0.00017907250207408384,
          0.0005297674713335388,
          0.001548697118370494,
          0.00437485845793477,
          0.011270305696965415,
          0.023673129513697534,
          0.03613994141625143,
          0.039241254595917076,
          0.033581020528539555,
          0.028009950810018405,
          0.02651724379392879,
          0.02670903391220354,
          0.0269358895917119,
          0.02700294100399578,
          0.027019131554704937,
          0.02702362501970658,
          0.027035577598986053,
          0.027060705562262477
         ]
        },
        {
         "name": "CODE_GENDER_M",
         "type": "scatter",
         "x": [
          1e-8,
          2.976351441631319e-8,
          8.858667904100832e-8,
          2.6366508987303554e-7,
          7.847599703514607e-7,
          0.000002335721469090121,
          0.000006951927961775606,
          0.0000206913808111479,
          0.00006158482110660255,
          0.00018329807108324338,
          0.0005455594781168515,
          0.001623776739188721,
          0.004832930238571752,
          0.01438449888287663,
          0.04281332398719387,
          0.1274274985703132,
          0.3792690190732246,
          1.1288378916846884,
          3.359818286283774,
          10
         ],
         "y": [
          0.000027978452308999715,
          0.00008316646126930363,
          0.00024682827769476485,
          0.0007279723079322222,
          0.0021099649896010575,
          0.005834792294609384,
          0.014487754720720936,
          0.03016262592670446,
          0.05205651277428262,
          0.07554633764395675,
          0.09192410452331026,
          0.09798852670800753,
          0.09797661555561167,
          0.09676448621697518,
          0.09601176689070094,
          0.09577877431604478,
          0.09571336632217214,
          0.09565376315805522,
          0.09564614172753833,
          0.09562545510360303
         ]
        },
        {
         "name": "NAME_TYPE_SUITE_Unaccompanied",
         "type": "scatter",
         "x": [
          1e-8,
          2.976351441631319e-8,
          8.858667904100832e-8,
          2.6366508987303554e-7,
          7.847599703514607e-7,
          0.000002335721469090121,
          0.000006951927961775606,
          0.0000206913808111479,
          0.00006158482110660255,
          0.00018329807108324338,
          0.0005455594781168515,
          0.001623776739188721,
          0.004832930238571752,
          0.01438449888287663,
          0.04281332398719387,
          0.1274274985703132,
          0.3792690190732246,
          1.1288378916846884,
          3.359818286283774,
          10
         ],
         "y": [
          0.0000059757187390699434,
          0.000017774777925192907,
          0.00005283685468658086,
          0.00015660582646791527,
          0.0004602843467878667,
          0.0013192288071980978,
          0.0035260023675534055,
          0.008098222757112698,
          0.014636321344277161,
          0.02008309261809761,
          0.022616366360492034,
          0.023332741132732322,
          0.02345907761441219,
          0.02346657249742082,
          0.023463960245461945,
          0.023467394980266964,
          0.023465422797776254,
          0.023466920397254183,
          0.023465774399900594,
          0.023463701201432416
         ]
        },
        {
         "name": "NAME_INCOME_TYPE_Commercial associate",
         "type": "scatter",
         "x": [
          1e-8,
          2.976351441631319e-8,
          8.858667904100832e-8,
          2.6366508987303554e-7,
          7.847599703514607e-7,
          0.000002335721469090121,
          0.000006951927961775606,
          0.0000206913808111479,
          0.00006158482110660255,
          0.00018329807108324338,
          0.0005455594781168515,
          0.001623776739188721,
          0.004832930238571752,
          0.01438449888287663,
          0.04281332398719387,
          0.1274274985703132,
          0.3792690190732246,
          1.1288378916846884,
          3.359818286283774,
          10
         ],
         "y": [
          -0.000014426995570866986,
          -0.0000428733537182095,
          -0.00012683391988616065,
          -0.0003711902087875106,
          -0.0010521177501124177,
          -0.0027364628385022852,
          -0.0058437534232336,
          -0.008974210282339433,
          -0.009939014865835236,
          -0.009847177593432977,
          -0.010163816913161134,
          -0.010796763178638695,
          -0.011767707000346057,
          -0.012966658061455758,
          -0.013796194509252421,
          -0.014285319691000593,
          -0.014498080306793731,
          -0.014465925915617827,
          -0.014477774242048817,
          -0.014422561264679936
         ]
        },
        {
         "name": "NAME_INCOME_TYPE_State servant",
         "type": "scatter",
         "x": [
          1e-8,
          2.976351441631319e-8,
          8.858667904100832e-8,
          2.6366508987303554e-7,
          7.847599703514607e-7,
          0.000002335721469090121,
          0.000006951927961775606,
          0.0000206913808111479,
          0.00006158482110660255,
          0.00018329807108324338,
          0.0005455594781168515,
          0.001623776739188721,
          0.004832930238571752,
          0.01438449888287663,
          0.04281332398719387,
          0.1274274985703132,
          0.3792690190732246,
          1.1288378916846884,
          3.359818286283774,
          10
         ],
         "y": [
          -0.000018009414756399533,
          -0.00005351653252341097,
          -0.0001586117935620448,
          -0.00046604973741720885,
          -0.00133642471358349,
          -0.0035905202826793012,
          -0.00832730611037907,
          -0.01512527020435936,
          -0.02057650716516309,
          -0.021646790686133666,
          -0.020065688093864022,
          -0.01878307340305654,
          -0.018515249520556918,
          -0.018903066997470023,
          -0.01924806951622913,
          -0.019495715744732113,
          -0.019617807173627353,
          -0.01958029284503133,
          -0.019592263934498654,
          -0.019553114549688454
         ]
        },
        {
         "name": "NAME_INCOME_TYPE_Working",
         "type": "scatter",
         "x": [
          1e-8,
          2.976351441631319e-8,
          8.858667904100832e-8,
          2.6366508987303554e-7,
          7.847599703514607e-7,
          0.000002335721469090121,
          0.000006951927961775606,
          0.0000206913808111479,
          0.00006158482110660255,
          0.00018329807108324338,
          0.0005455594781168515,
          0.001623776739188721,
          0.004832930238571752,
          0.01438449888287663,
          0.04281332398719387,
          0.1274274985703132,
          0.3792690190732246,
          1.1288378916846884,
          3.359818286283774,
          10
         ],
         "y": [
          0.00002394436797786124,
          0.00007115491038120028,
          0.0002106693239619729,
          0.0006176183844356457,
          0.0017595435667985852,
          0.004642778878134846,
          0.010296534117707841,
          0.01716231617964457,
          0.02119743379993978,
          0.021627652979270523,
          0.020701440240559657,
          0.019747896680943375,
          0.01869594060679158,
          0.017452893868008263,
          0.01660427075675657,
          0.016076514618147714,
          0.015868905603962893,
          0.015904677932808666,
          0.01589220696555339,
          0.015945020431242823
         ]
        },
        {
         "name": "NAME_EDUCATION_TYPE_Higher education",
         "type": "scatter",
         "x": [
          1e-8,
          2.976351441631319e-8,
          8.858667904100832e-8,
          2.6366508987303554e-7,
          7.847599703514607e-7,
          0.000002335721469090121,
          0.000006951927961775606,
          0.0000206913808111479,
          0.00006158482110660255,
          0.00018329807108324338,
          0.0005455594781168515,
          0.001623776739188721,
          0.004832930238571752,
          0.01438449888287663,
          0.04281332398719387,
          0.1274274985703132,
          0.3792690190732246,
          1.1288378916846884,
          3.359818286283774,
          10
         ],
         "y": [
          -0.000037594741549481704,
          -0.00011175746583912805,
          -0.0003311116994296943,
          -0.0009729730074639672,
          -0.0027906768097728575,
          -0.007503945931767448,
          -0.01745172847318233,
          -0.031948761817921216,
          -0.044453400012415295,
          -0.0484508334238706,
          -0.04394418173891656,
          -0.03615985908142774,
          -0.03035564275362627,
          -0.027619471656425566,
          -0.02656905180138185,
          -0.026200456997531464,
          -0.026071337460835325,
          -0.026037848311205657,
          -0.02602380334110511,
          -0.026016218260997013
         ]
        },
        {
         "name": "NAME_EDUCATION_TYPE_Lower secondary",
         "type": "scatter",
         "x": [
          1e-8,
          2.976351441631319e-8,
          8.858667904100832e-8,
          2.6366508987303554e-7,
          7.847599703514607e-7,
          0.000002335721469090121,
          0.000006951927961775606,
          0.0000206913808111479,
          0.00006158482110660255,
          0.00018329807108324338,
          0.0005455594781168515,
          0.001623776739188721,
          0.004832930238571752,
          0.01438449888287663,
          0.04281332398719387,
          0.1274274985703132,
          0.3792690190732246,
          1.1288378916846884,
          3.359818286283774,
          10
         ],
         "y": [
          0.000009118504294012412,
          0.000027114175114420037,
          0.00008044955036667128,
          0.00023730414707510186,
          0.0006880566145293722,
          0.0019037799746086032,
          0.004717947731812188,
          0.009642347849868463,
          0.015649968075726516,
          0.020722168978349872,
          0.02419808625566733,
          0.026569113159505324,
          0.027933494241090415,
          0.028533421257854515,
          0.028756855751953487,
          0.028841339314790913,
          0.028868276379387558,
          0.028878975973098957,
          0.028881676593224385,
          0.02888030344695359
         ]
        },
        {
         "name": "NAME_EDUCATION_TYPE_Secondary / secondary special",
         "type": "scatter",
         "x": [
          1e-8,
          2.976351441631319e-8,
          8.858667904100832e-8,
          2.6366508987303554e-7,
          7.847599703514607e-7,
          0.000002335721469090121,
          0.000006951927961775606,
          0.0000206913808111479,
          0.00006158482110660255,
          0.00018329807108324338,
          0.0005455594781168515,
          0.001623776739188721,
          0.004832930238571752,
          0.01438449888287663,
          0.04281332398719387,
          0.1274274985703132,
          0.3792690190732246,
          1.1288378916846884,
          3.359818286283774,
          10
         ],
         "y": [
          0.00003413570324167873,
          0.00010147865913458148,
          0.00030070874263623556,
          0.0008840433170914841,
          0.0025391376752157153,
          0.006856407850071564,
          0.01614404512810292,
          0.03050757714327673,
          0.04551362936682653,
          0.05724511016076966,
          0.06672328124465254,
          0.07480439957430636,
          0.07982749578437283,
          0.08197774780653325,
          0.0827563417186467,
          0.0830356357141151,
          0.0831422458057285,
          0.08317319722677796,
          0.08318089635720906,
          0.0831737701870981
         ]
        },
        {
         "name": "NAME_FAMILY_STATUS_Civil marriage",
         "type": "scatter",
         "x": [
          1e-8,
          2.976351441631319e-8,
          8.858667904100832e-8,
          2.6366508987303554e-7,
          7.847599703514607e-7,
          0.000002335721469090121,
          0.000006951927961775606,
          0.0000206913808111479,
          0.00006158482110660255,
          0.00018329807108324338,
          0.0005455594781168515,
          0.001623776739188721,
          0.004832930238571752,
          0.01438449888287663,
          0.04281332398719387,
          0.1274274985703132,
          0.3792690190732246,
          1.1288378916846884,
          3.359818286283774,
          10
         ],
         "y": [
          0.000012042232074530504,
          0.000035801890744383396,
          0.0001061562811970989,
          0.0003125529109162462,
          0.0009013773238125259,
          0.002456782268973796,
          0.005861140301441212,
          0.011052042418906085,
          0.01557406985411662,
          0.016071088721557138,
          0.011485130276302623,
          0.005184568278472563,
          0.0011010267966805065,
          -0.0008207534274364254,
          -0.0015271262150686347,
          -0.0017440759624295582,
          -0.0018014614304739723,
          -0.0018507066419225823,
          -0.00186620705574088,
          -0.0018858952307510008
         ]
        },
        {
         "name": "NAME_FAMILY_STATUS_Married",
         "type": "scatter",
         "x": [
          1e-8,
          2.976351441631319e-8,
          8.858667904100832e-8,
          2.6366508987303554e-7,
          7.847599703514607e-7,
          0.000002335721469090121,
          0.000006951927961775606,
          0.0000206913808111479,
          0.00006158482110660255,
          0.00018329807108324338,
          0.0005455594781168515,
          0.001623776739188721,
          0.004832930238571752,
          0.01438449888287663,
          0.04281332398719387,
          0.1274274985703132,
          0.3792690190732246,
          1.1288378916846884,
          3.359818286283774,
          10
         ],
         "y": [
          -0.000016782077871700664,
          -0.000049881389792343137,
          -0.00014791586305450745,
          -0.00043533288929933233,
          -0.0012538317065758564,
          -0.0034012645600241397,
          -0.007987342319367187,
          -0.0146995124363015,
          -0.021954186503584654,
          -0.030960235826087232,
          -0.04279053424636924,
          -0.05371135293075091,
          -0.05979443346308778,
          -0.062400505713036354,
          -0.06332063046334707,
          -0.06359588980504818,
          -0.06366060493132591,
          -0.0637310184385455,
          -0.06374659752677816,
          -0.06376306891832573
         ]
        },
        {
         "name": "NAME_FAMILY_STATUS_Single / not married",
         "type": "scatter",
         "x": [
          1e-8,
          2.976351441631319e-8,
          8.858667904100832e-8,
          2.6366508987303554e-7,
          7.847599703514607e-7,
          0.000002335721469090121,
          0.000006951927961775606,
          0.0000206913808111479,
          0.00006158482110660255,
          0.00018329807108324338,
          0.0005455594781168515,
          0.001623776739188721,
          0.004832930238571752,
          0.01438449888287663,
          0.04281332398719387,
          0.1274274985703132,
          0.3792690190732246,
          1.1288378916846884,
          3.359818286283774,
          10
         ],
         "y": [
          0.000015697274802173034,
          0.0000466394035239749,
          0.00013822223855010132,
          0.00040593019408083635,
          0.0011616497848174658,
          0.003090684479986914,
          0.00685020920875517,
          0.010753544434960176,
          0.011151692696972573,
          0.0074060548159593665,
          0.0003062263712425993,
          -0.007263749771509884,
          -0.011855914609630426,
          -0.013963856062852227,
          -0.01473475301954837,
          -0.014954463966607228,
          -0.01501806042186001,
          -0.015070858141402231,
          -0.015089907304292544,
          -0.015114296881386711
         ]
        },
        {
         "name": "NAME_FAMILY_STATUS_Widow",
         "type": "scatter",
         "x": [
          1e-8,
          2.976351441631319e-8,
          8.858667904100832e-8,
          2.6366508987303554e-7,
          7.847599703514607e-7,
          0.000002335721469090121,
          0.000006951927961775606,
          0.0000206913808111479,
          0.00006158482110660255,
          0.00018329807108324338,
          0.0005455594781168515,
          0.001623776739188721,
          0.004832930238571752,
          0.01438449888287663,
          0.04281332398719387,
          0.1274274985703132,
          0.3792690190732246,
          1.1288378916846884,
          3.359818286283774,
          10
         ],
         "y": [
          -0.000009277013860457694,
          -0.00002756167330688236,
          -0.00008177090058580517,
          -0.0002406982955520685,
          -0.0006937942332949704,
          -0.0018908639503821528,
          -0.004556192112954476,
          -0.009206862750983381,
          -0.01640917325208221,
          -0.026903380168866963,
          -0.03832468816497015,
          -0.04677891579638864,
          -0.051098398823720984,
          -0.05289024625560779,
          -0.05350722158158454,
          -0.05368556194826019,
          -0.05377111956938155,
          -0.053780163115189204,
          -0.05379666449838453,
          -0.053807779449486136
         ]
        },
        {
         "name": "NAME_HOUSING_TYPE_House / apartment",
         "type": "scatter",
         "x": [
          1e-8,
          2.976351441631319e-8,
          8.858667904100832e-8,
          2.6366508987303554e-7,
          7.847599703514607e-7,
          0.000002335721469090121,
          0.000006951927961775606,
          0.0000206913808111479,
          0.00006158482110660255,
          0.00018329807108324338,
          0.0005455594781168515,
          0.001623776739188721,
          0.004832930238571752,
          0.01438449888287663,
          0.04281332398719387,
          0.1274274985703132,
          0.3792690190732246,
          1.1288378916846884,
          3.359818286283774,
          10
         ],
         "y": [
          -0.000015938375449783753,
          -0.0000473390084804065,
          -0.00014019585468317687,
          -0.0004107395521747151,
          -0.001167161785870985,
          -0.003042874101579009,
          -0.006390019033350931,
          -0.009029264697374155,
          -0.009047701998857847,
          -0.009686774515084241,
          -0.011829772184653432,
          -0.013372091460223555,
          -0.013871357931024118,
          -0.013981327191719569,
          -0.013991900943780245,
          -0.01397651465640656,
          -0.013965656537728972,
          -0.013969990640695987,
          -0.01397087847817603,
          -0.013970547316865414
         ]
        },
        {
         "name": "NAME_HOUSING_TYPE_Rented apartment",
         "type": "scatter",
         "x": [
          1e-8,
          2.976351441631319e-8,
          8.858667904100832e-8,
          2.6366508987303554e-7,
          7.847599703514607e-7,
          0.000002335721469090121,
          0.000006951927961775606,
          0.0000206913808111479,
          0.00006158482110660255,
          0.00018329807108324338,
          0.0005455594781168515,
          0.001623776739188721,
          0.004832930238571752,
          0.01438449888287663,
          0.04281332398719387,
          0.1274274985703132,
          0.3792690190732246,
          1.1288378916846884,
          3.359818286283774,
          10
         ],
         "y": [
          0.00001081577763165693,
          0.000032133499813870995,
          0.00009516465148224715,
          0.0002789945280383905,
          0.000794334425195478,
          0.0020825963548625295,
          0.00443770580473695,
          0.006409008222355664,
          0.0059552023277186505,
          0.0039098758267774245,
          0.001922146585353346,
          0.0008545509241702936,
          0.0004822840048715004,
          0.00034819597566503193,
          0.0003084365450013211,
          0.0003002895302217341,
          0.0002981621404933484,
          0.00029237103305730856,
          0.00029278996206419584,
          0.0002880815516121734
         ]
        },
        {
         "name": "NAME_HOUSING_TYPE_With parents",
         "type": "scatter",
         "x": [
          1e-8,
          2.976351441631319e-8,
          8.858667904100832e-8,
          2.6366508987303554e-7,
          7.847599703514607e-7,
          0.000002335721469090121,
          0.000006951927961775606,
          0.0000206913808111479,
          0.00006158482110660255,
          0.00018329807108324338,
          0.0005455594781168515,
          0.001623776739188721,
          0.004832930238571752,
          0.01438449888287663,
          0.04281332398719387,
          0.1274274985703132,
          0.3792690190732246,
          1.1288378916846884,
          3.359818286283774,
          10
         ],
         "y": [
          0.000016387280347446044,
          0.000048671023558527764,
          0.00014410787993965083,
          0.0004219650692495807,
          0.0011970270016152015,
          0.003104397249066254,
          0.006400414803227221,
          0.008343275357328938,
          0.005780414351281214,
          0.0015229094125337977,
          -0.0015811109428049152,
          -0.003174728565449568,
          -0.0038210612983639787,
          -0.004103000641896971,
          -0.004216817255611148,
          -0.0042352817698285816,
          -0.004242873275180268,
          -0.004254544019013447,
          -0.004257718552655196,
          -0.004268190296270183
         ]
        },
        {
         "name": "OCCUPATION_TYPE_Accountants",
         "type": "scatter",
         "x": [
          1e-8,
          2.976351441631319e-8,
          8.858667904100832e-8,
          2.6366508987303554e-7,
          7.847599703514607e-7,
          0.000002335721469090121,
          0.000006951927961775606,
          0.0000206913808111479,
          0.00006158482110660255,
          0.00018329807108324338,
          0.0005455594781168515,
          0.001623776739188721,
          0.004832930238571752,
          0.01438449888287663,
          0.04281332398719387,
          0.1274274985703132,
          0.3792690190732246,
          1.1288378916846884,
          3.359818286283774,
          10
         ],
         "y": [
          -0.000015032733582706363,
          -0.00004468368748327642,
          -0.00013240706113973837,
          -0.0003891315133391109,
          -0.0011165944449512124,
          -0.0030071600523100153,
          -0.007041625967102706,
          -0.01325884591283067,
          -0.019854003357584745,
          -0.024141645437373897,
          -0.024987661095845298,
          -0.024231564560900535,
          -0.02346972252832351,
          -0.023028835488799446,
          -0.02287741268733294,
          -0.022747319001419374,
          -0.022729244672550598,
          -0.022716289751388077,
          -0.022718128427744483,
          -0.02273013979353838
         ]
        },
        {
         "name": "OCCUPATION_TYPE_Core staff",
         "type": "scatter",
         "x": [
          1e-8,
          2.976351441631319e-8,
          8.858667904100832e-8,
          2.6366508987303554e-7,
          7.847599703514607e-7,
          0.000002335721469090121,
          0.000006951927961775606,
          0.0000206913808111479,
          0.00006158482110660255,
          0.00018329807108324338,
          0.0005455594781168515,
          0.001623776739188721,
          0.004832930238571752,
          0.01438449888287663,
          0.04281332398719387,
          0.1274274985703132,
          0.3792690190732246,
          1.1288378916846884,
          3.359818286283774,
          10
         ],
         "y": [
          -0.000016265837094602315,
          -0.00004835619614082601,
          -0.00014341159584200063,
          -0.0004224069544375484,
          -0.0012197202305141844,
          -0.003339443512634834,
          -0.008092430594821934,
          -0.015846186703105468,
          -0.02349736650366672,
          -0.02631518248554027,
          -0.024654404314830763,
          -0.022302941415464683,
          -0.020851192153109432,
          -0.020201131634466428,
          -0.019924556678756148,
          -0.019839272463626437,
          -0.0198229645713796,
          -0.019800281398439562,
          -0.01979718335556656,
          -0.019789996329137676
         ]
        },
        {
         "name": "OCCUPATION_TYPE_Drivers",
         "type": "scatter",
         "x": [
          1e-8,
          2.976351441631319e-8,
          8.858667904100832e-8,
          2.6366508987303554e-7,
          7.847599703514607e-7,
          0.000002335721469090121,
          0.000006951927961775606,
          0.0000206913808111479,
          0.00006158482110660255,
          0.00018329807108324338,
          0.0005455594781168515,
          0.001623776739188721,
          0.004832930238571752,
          0.01438449888287663,
          0.04281332398719387,
          0.1274274985703132,
          0.3792690190732246,
          1.1288378916846884,
          3.359818286283774,
          10
         ],
         "y": [
          0.000014962590231071944,
          0.000044485166123096695,
          0.0001320091214734512,
          0.0003893954030103149,
          0.0011292770587225803,
          0.0031303198359491267,
          0.007836270274754604,
          0.016418506089771145,
          0.026788302970630007,
          0.03334588018368282,
          0.03467929711369,
          0.03404845779596681,
          0.03338331397419885,
          0.033024068025021426,
          0.03286838663529208,
          0.03282257943788534,
          0.03281263382337374,
          0.03279850453305212,
          0.032799265894553675,
          0.032798985046923745
         ]
        },
        {
         "name": "OCCUPATION_TYPE_High skill tech staff",
         "type": "scatter",
         "x": [
          1e-8,
          2.976351441631319e-8,
          8.858667904100832e-8,
          2.6366508987303554e-7,
          7.847599703514607e-7,
          0.000002335721469090121,
          0.000006951927961775606,
          0.0000206913808111479,
          0.00006158482110660255,
          0.00018329807108324338,
          0.0005455594781168515,
          0.001623776739188721,
          0.004832930238571752,
          0.01438449888287663,
          0.04281332398719387,
          0.1274274985703132,
          0.3792690190732246,
          1.1288378916846884,
          3.359818286283774,
          10
         ],
         "y": [
          -0.000010609047054638114,
          -0.00003154223873979862,
          -0.00009352406256313919,
          -0.0002753801010213375,
          -0.0007944493186210004,
          -0.0021698358875230847,
          -0.005234916604643234,
          -0.010290725288867498,
          -0.015980788070459124,
          -0.01995513558301182,
          -0.021499412718094562,
          -0.02184198106812593,
          -0.02187687810979806,
          -0.02186642651674421,
          -0.02184943188617572,
          -0.02183682682928166,
          -0.02184024215400478,
          -0.021834326191950044,
          -0.021835328035318624,
          -0.021834268314160386
         ]
        },
        {
         "name": "OCCUPATION_TYPE_Laborers",
         "type": "scatter",
         "x": [
          1e-8,
          2.976351441631319e-8,
          8.858667904100832e-8,
          2.6366508987303554e-7,
          7.847599703514607e-7,
          0.000002335721469090121,
          0.000006951927961775606,
          0.0000206913808111479,
          0.00006158482110660255,
          0.00018329807108324338,
          0.0005455594781168515,
          0.001623776739188721,
          0.004832930238571752,
          0.01438449888287663,
          0.04281332398719387,
          0.1274274985703132,
          0.3792690190732246,
          1.1288378916846884,
          3.359818286283774,
          10
         ],
         "y": [
          0.000019877622750614158,
          0.00005907963637386378,
          0.00017510153039852172,
          0.000514730387765184,
          0.0014777864645295626,
          0.003981152963430454,
          0.009267155643081212,
          0.016873853505094766,
          0.023333771071149503,
          0.025839049119180373,
          0.02520587165360348,
          0.02384284865426255,
          0.02284686897356073,
          0.02233334273854928,
          0.022126293361300828,
          0.022051779784009014,
          0.02203345178414882,
          0.022022706978097783,
          0.02202009776791523,
          0.02201669673374592
         ]
        },
        {
         "name": "OCCUPATION_TYPE_Low-skill Laborers",
         "type": "scatter",
         "x": [
          1e-8,
          2.976351441631319e-8,
          8.858667904100832e-8,
          2.6366508987303554e-7,
          7.847599703514607e-7,
          0.000002335721469090121,
          0.000006951927961775606,
          0.0000206913808111479,
          0.00006158482110660255,
          0.00018329807108324338,
          0.0005455594781168515,
          0.001623776739188721,
          0.004832930238571752,
          0.01438449888287663,
          0.04281332398719387,
          0.1274274985703132,
          0.3792690190732246,
          1.1288378916846884,
          3.359818286283774,
          10
         ],
         "y": [
          0.000016633929803518767,
          0.00004946007660421619,
          0.0001467605180809884,
          0.00043292358029137457,
          0.0012550779438754967,
          0.0034643141268657493,
          0.008427426109935453,
          0.015855449160348544,
          0.02132066340379055,
          0.02238594724198438,
          0.021502182767045998,
          0.020825084397664607,
          0.02057447176481132,
          0.020504504237874775,
          0.02049295501239013,
          0.02048400560251052,
          0.020485016109687067,
          0.020487139957983,
          0.02048689217157501,
          0.020484471005358627
         ]
        },
        {
         "name": "OCCUPATION_TYPE_Managers",
         "type": "scatter",
         "x": [
          1e-8,
          2.976351441631319e-8,
          8.858667904100832e-8,
          2.6366508987303554e-7,
          7.847599703514607e-7,
          0.000002335721469090121,
          0.000006951927961775606,
          0.0000206913808111479,
          0.00006158482110660255,
          0.00018329807108324338,
          0.0005455594781168515,
          0.001623776739188721,
          0.004832930238571752,
          0.01438449888287663,
          0.04281332398719387,
          0.1274274985703132,
          0.3792690190732246,
          1.1288378916846884,
          3.359818286283774,
          10
         ],
         "y": [
          -0.000015006315635443944,
          -0.000044585274773847285,
          -0.00013191679608407024,
          -0.00038599864824342213,
          -0.0010934240517628468,
          -0.0028363795852071674,
          -0.005979934024084792,
          -0.008595539996590889,
          -0.006902848523160042,
          -0.0013720160473931645,
          0.003549694459353796,
          0.006054935107925273,
          0.00702784507100952,
          0.007369331253495613,
          0.007501058787404894,
          0.007567165414429846,
          0.007576495811077167,
          0.007584518866548963,
          0.007584191868751066,
          0.007585217259792278
         ]
        },
        {
         "name": "OCCUPATION_TYPE_Medicine staff",
         "type": "scatter",
         "x": [
          1e-8,
          2.976351441631319e-8,
          8.858667904100832e-8,
          2.6366508987303554e-7,
          7.847599703514607e-7,
          0.000002335721469090121,
          0.000006951927961775606,
          0.0000206913808111479,
          0.00006158482110660255,
          0.00018329807108324338,
          0.0005455594781168515,
          0.001623776739188721,
          0.004832930238571752,
          0.01438449888287663,
          0.04281332398719387,
          0.1274274985703132,
          0.3792690190732246,
          1.1288378916846884,
          3.359818286283774,
          10
         ],
         "y": [
          -0.000007647513111472495,
          -0.000022723756557938207,
          -0.00006743962742079543,
          -0.00019871432333914507,
          -0.0005743034893487602,
          -0.0015736036936546112,
          -0.003796346543052977,
          -0.00732077599965545,
          -0.010861093847514281,
          -0.013019159788910668,
          -0.013838270051978272,
          -0.014081319294034904,
          -0.014228831689911162,
          -0.014345305554513074,
          -0.014402082158535806,
          -0.014425680568949144,
          -0.014428565596964376,
          -0.014436417393636977,
          -0.014438472584685207,
          -0.014440652050213458
         ]
        },
        {
         "name": "OCCUPATION_TYPE_Sales staff",
         "type": "scatter",
         "x": [
          1e-8,
          2.976351441631319e-8,
          8.858667904100832e-8,
          2.6366508987303554e-7,
          7.847599703514607e-7,
          0.000002335721469090121,
          0.000006951927961775606,
          0.0000206913808111479,
          0.00006158482110660255,
          0.00018329807108324338,
          0.0005455594781168515,
          0.001623776739188721,
          0.004832930238571752,
          0.01438449888287663,
          0.04281332398719387,
          0.1274274985703132,
          0.3792690190732246,
          1.1288378916846884,
          3.359818286283774,
          10
         ],
         "y": [
          0.000007836379132327994,
          0.000023274244294469437,
          0.00006885007274573071,
          0.0002012153699320021,
          0.0005679907333743772,
          0.0014596177919420589,
          0.0030197426745813155,
          0.0043572366916224655,
          0.004552566693992781,
          0.004898504871262359,
          0.006222839941777767,
          0.007467737797710356,
          0.008100230030752525,
          0.008344261331401537,
          0.00842449259838679,
          0.008455234040058468,
          0.008476698006051721,
          0.008470507011366285,
          0.008472981278387907,
          0.008467238190524804
         ]
        },
        {
         "name": "OCCUPATION_TYPE_Security staff",
         "type": "scatter",
         "x": [
          1e-8,
          2.976351441631319e-8,
          8.858667904100832e-8,
          2.6366508987303554e-7,
          7.847599703514607e-7,
          0.000002335721469090121,
          0.000006951927961775606,
          0.0000206913808111479,
          0.00006158482110660255,
          0.00018329807108324338,
          0.0005455594781168515,
          0.001623776739188721,
          0.004832930238571752,
          0.01438449888287663,
          0.04281332398719387,
          0.1274274985703132,
          0.3792690190732246,
          1.1288378916846884,
          3.359818286283774,
          10
         ],
         "y": [
          0.000006196399033531567,
          0.00001842592315298952,
          0.0000546243063821668,
          0.00016084288843261238,
          0.00046410953609067276,
          0.0012695701563793873,
          0.0030877252255160285,
          0.006181368213061725,
          0.009496107320817978,
          0.01066288859137694,
          0.009668381515395386,
          0.008647711849146852,
          0.008226324885733018,
          0.008098633574596802,
          0.008077858964322988,
          0.008067264331585848,
          0.00805959864997613,
          0.008063737752357985,
          0.00806315193990365,
          0.008064121909525108
         ]
        },
        {
         "name": "ORGANIZATION_TYPE_Bank",
         "type": "scatter",
         "x": [
          1e-8,
          2.976351441631319e-8,
          8.858667904100832e-8,
          2.6366508987303554e-7,
          7.847599703514607e-7,
          0.000002335721469090121,
          0.000006951927961775606,
          0.0000206913808111479,
          0.00006158482110660255,
          0.00018329807108324338,
          0.0005455594781168515,
          0.001623776739188721,
          0.004832930238571752,
          0.01438449888287663,
          0.04281332398719387,
          0.1274274985703132,
          0.3792690190732246,
          1.1288378916846884,
          3.359818286283774,
          10
         ],
         "y": [
          -0.0000076237233109867295,
          -0.000022677687672599186,
          -0.00006728683551538357,
          -0.00019865463551453437,
          -0.0005776320133494601,
          -0.0016138964385570321,
          -0.004128508438383054,
          -0.009085922707950144,
          -0.016369920552085544,
          -0.023782047512644428,
          -0.028892252302307703,
          -0.031481464809218304,
          -0.03260519521196105,
          -0.03307656049473403,
          -0.03325762890297715,
          -0.03328991294466583,
          -0.033328338230587604,
          -0.033316262429108935,
          -0.03332805880927428,
          -0.03333135455220413
         ]
        },
        {
         "name": "ORGANIZATION_TYPE_Business Entity Type 3",
         "type": "scatter",
         "x": [
          1e-8,
          2.976351441631319e-8,
          8.858667904100832e-8,
          2.6366508987303554e-7,
          7.847599703514607e-7,
          0.000002335721469090121,
          0.000006951927961775606,
          0.0000206913808111479,
          0.00006158482110660255,
          0.00018329807108324338,
          0.0005455594781168515,
          0.001623776739188721,
          0.004832930238571752,
          0.01438449888287663,
          0.04281332398719387,
          0.1274274985703132,
          0.3792690190732246,
          1.1288378916846884,
          3.359818286283774,
          10
         ],
         "y": [
          0.000006891406011188969,
          0.000020476968661048737,
          0.00006086861090437269,
          0.00017998735448380594,
          0.0005254715486385262,
          0.001479585007922073,
          0.003806405541689412,
          0.008303835036585279,
          0.014849758247322861,
          0.021810771855655612,
          0.026674890494269098,
          0.028857855934545696,
          0.029597503526501562,
          0.02980853174277763,
          0.0298919049018253,
          0.029923089128474013,
          0.029922985109579085,
          0.029937112547349733,
          0.029933439101954225,
          0.029937444977085392
         ]
        },
        {
         "name": "ORGANIZATION_TYPE_Construction",
         "type": "scatter",
         "x": [
          1e-8,
          2.976351441631319e-8,
          8.858667904100832e-8,
          2.6366508987303554e-7,
          7.847599703514607e-7,
          0.000002335721469090121,
          0.000006951927961775606,
          0.0000206913808111479,
          0.00006158482110660255,
          0.00018329807108324338,
          0.0005455594781168515,
          0.001623776739188721,
          0.004832930238571752,
          0.01438449888287663,
          0.04281332398719387,
          0.1274274985703132,
          0.3792690190732246,
          1.1288378916846884,
          3.359818286283774,
          10
         ],
         "y": [
          0.000010214806196187634,
          0.000030376013839506823,
          0.00009022831609194224,
          0.0002668469432127519,
          0.0007795667018536714,
          0.0022016362460587423,
          0.005725469771340211,
          0.012717613794756354,
          0.022520460481295274,
          0.031138311019253833,
          0.035679800934819074,
          0.037138678705136256,
          0.037395272414676786,
          0.03738460819799334,
          0.037369086294062985,
          0.03735902176781167,
          0.03735334638661006,
          0.03735593838710565,
          0.03735486451189188,
          0.03735665017670483
         ]
        },
        {
         "name": "ORGANIZATION_TYPE_Government",
         "type": "scatter",
         "x": [
          1e-8,
          2.976351441631319e-8,
          8.858667904100832e-8,
          2.6366508987303554e-7,
          7.847599703514607e-7,
          0.000002335721469090121,
          0.000006951927961775606,
          0.0000206913808111479,
          0.00006158482110660255,
          0.00018329807108324338,
          0.0005455594781168515,
          0.001623776739188721,
          0.004832930238571752,
          0.01438449888287663,
          0.04281332398719387,
          0.1274274985703132,
          0.3792690190732246,
          1.1288378916846884,
          3.359818286283774,
          10
         ],
         "y": [
          -0.000006410617278126565,
          -0.000019046221217527444,
          -0.00005647608707865344,
          -0.00016604934039073918,
          -0.0004769298262885041,
          -0.0012852488208792982,
          -0.0029819252890420167,
          -0.005331232915055,
          -0.007046485415841839,
          -0.007460835652125551,
          -0.00737829090955381,
          -0.007332501372890968,
          -0.007288386156163303,
          -0.007239325359637917,
          -0.007219823366459338,
          -0.007210023675685728,
          -0.007203793760251207,
          -0.007205605635027595,
          -0.0072043309722980555,
          -0.007203938132653607
         ]
        },
        {
         "name": "ORGANIZATION_TYPE_Medicine",
         "type": "scatter",
         "x": [
          1e-8,
          2.976351441631319e-8,
          8.858667904100832e-8,
          2.6366508987303554e-7,
          7.847599703514607e-7,
          0.000002335721469090121,
          0.000006951927961775606,
          0.0000206913808111479,
          0.00006158482110660255,
          0.00018329807108324338,
          0.0005455594781168515,
          0.001623776739188721,
          0.004832930238571752,
          0.01438449888287663,
          0.04281332398719387,
          0.1274274985703132,
          0.3792690190732246,
          1.1288378916846884,
          3.359818286283774,
          10
         ],
         "y": [
          -0.000009096639957874364,
          -0.000027027304706237154,
          -0.00008013659116192962,
          -0.00023559426876967326,
          -0.0006765087318737438,
          -0.0018217460674113113,
          -0.004219028903244073,
          -0.007496468729467542,
          -0.009548633217385803,
          -0.008832978441183642,
          -0.006905043365038972,
          -0.0055994190972755,
          -0.004993482266058226,
          -0.004740323670533701,
          -0.004643581159656589,
          -0.004616005325967211,
          -0.0046100865625302336,
          -0.004601536958095631,
          -0.004598870970831666,
          -0.004595545449379828
         ]
        },
        {
         "name": "ORGANIZATION_TYPE_Military",
         "type": "scatter",
         "x": [
          1e-8,
          2.976351441631319e-8,
          8.858667904100832e-8,
          2.6366508987303554e-7,
          7.847599703514607e-7,
          0.000002335721469090121,
          0.000006951927961775606,
          0.0000206913808111479,
          0.00006158482110660255,
          0.00018329807108324338,
          0.0005455594781168515,
          0.001623776739188721,
          0.004832930238571752,
          0.01438449888287663,
          0.04281332398719387,
          0.1274274985703132,
          0.3792690190732246,
          1.1288378916846884,
          3.359818286283774,
          10
         ],
         "y": [
          -0.000007010883745442248,
          -0.000020854146745166346,
          -0.00006194634706835758,
          -0.00018333163376671376,
          -0.0005367584921543295,
          -0.0015268932917170794,
          -0.004061247330310175,
          -0.009511627664742188,
          -0.01838680500932951,
          -0.028390555267940064,
          -0.03593592684652967,
          -0.03994740183136545,
          -0.04164741166992065,
          -0.04228618969005832,
          -0.04251981246464883,
          -0.0425856028295339,
          -0.04262159032515126,
          -0.042622230766714966,
          -0.042627232557046334,
          -0.04262911563049001
         ]
        },
        {
         "name": "ORGANIZATION_TYPE_Police",
         "type": "scatter",
         "x": [
          1e-8,
          2.976351441631319e-8,
          8.858667904100832e-8,
          2.6366508987303554e-7,
          7.847599703514607e-7,
          0.000002335721469090121,
          0.000006951927961775606,
          0.0000206913808111479,
          0.00006158482110660255,
          0.00018329807108324338,
          0.0005455594781168515,
          0.001623776739188721,
          0.004832930238571752,
          0.01438449888287663,
          0.04281332398719387,
          0.1274274985703132,
          0.3792690190732246,
          1.1288378916846884,
          3.359818286283774,
          10
         ],
         "y": [
          -0.000007982675530702592,
          -0.000023736159990958224,
          -0.0000704253063785935,
          -0.00020772349123692865,
          -0.0006022908813117259,
          -0.0016687147036522785,
          -0.004175523000316098,
          -0.008827350446313628,
          -0.015306935606949585,
          -0.022015426701267226,
          -0.02707349319717921,
          -0.02991121931211121,
          -0.031223834430966154,
          -0.031754662683877215,
          -0.0319823399241018,
          -0.032071765372539536,
          -0.032087481640006764,
          -0.03211021326184289,
          -0.032107955196367194,
          -0.032109342889683624
         ]
        },
        {
         "name": "ORGANIZATION_TYPE_School",
         "type": "scatter",
         "x": [
          1e-8,
          2.976351441631319e-8,
          8.858667904100832e-8,
          2.6366508987303554e-7,
          7.847599703514607e-7,
          0.000002335721469090121,
          0.000006951927961775606,
          0.0000206913808111479,
          0.00006158482110660255,
          0.00018329807108324338,
          0.0005455594781168515,
          0.001623776739188721,
          0.004832930238571752,
          0.01438449888287663,
          0.04281332398719387,
          0.1274274985703132,
          0.3792690190732246,
          1.1288378916846884,
          3.359818286283774,
          10
         ],
         "y": [
          -0.000010223301877775502,
          -0.000030374902201819723,
          -0.00009006412710101126,
          -0.0002648046534414341,
          -0.0007607651258705973,
          -0.0020550211005739547,
          -0.004842361364926162,
          -0.009223704678021463,
          -0.014144218024843037,
          -0.018179087806555198,
          -0.020595053218011833,
          -0.02169789901754538,
          -0.02210570824406587,
          -0.022220083200173626,
          -0.02228371510812381,
          -0.022278595402215603,
          -0.022267898705386296,
          -0.022283256020597164,
          -0.02228281073674133,
          -0.022289278663995826
         ]
        },
        {
         "name": "ORGANIZATION_TYPE_Security Ministries",
         "type": "scatter",
         "x": [
          1e-8,
          2.976351441631319e-8,
          8.858667904100832e-8,
          2.6366508987303554e-7,
          7.847599703514607e-7,
          0.000002335721469090121,
          0.000006951927961775606,
          0.0000206913808111479,
          0.00006158482110660255,
          0.00018329807108324338,
          0.0005455594781168515,
          0.001623776739188721,
          0.004832930238571752,
          0.01438449888287663,
          0.04281332398719387,
          0.1274274985703132,
          0.3792690190732246,
          1.1288378916846884,
          3.359818286283774,
          10
         ],
         "y": [
          -0.0000062902305465391526,
          -0.000018702461101435098,
          -0.00005549337217449092,
          -0.0001636747369711638,
          -0.00047449804219187446,
          -0.0013135724959178398,
          -0.0032735016379669764,
          -0.006815887237769894,
          -0.011395454113482202,
          -0.01552570203610791,
          -0.01817645894554372,
          -0.019460646100933152,
          -0.01996698366402053,
          -0.020137478917022375,
          -0.0202119604730252,
          -0.020237938206853313,
          -0.020238690989080176,
          -0.020249755457298794,
          -0.020248011848290025,
          -0.020249122625803646
         ]
        },
        {
         "name": "ORGANIZATION_TYPE_Self-employed",
         "type": "scatter",
         "x": [
          1e-8,
          2.976351441631319e-8,
          8.858667904100832e-8,
          2.6366508987303554e-7,
          7.847599703514607e-7,
          0.000002335721469090121,
          0.000006951927961775606,
          0.0000206913808111479,
          0.00006158482110660255,
          0.00018329807108324338,
          0.0005455594781168515,
          0.001623776739188721,
          0.004832930238571752,
          0.01438449888287663,
          0.04281332398719387,
          0.1274274985703132,
          0.3792690190732246,
          1.1288378916846884,
          3.359818286283774,
          10
         ],
         "y": [
          0.000013595221532169983,
          0.000040414860313361684,
          0.00011985063930248108,
          0.00035291528675903474,
          0.0010185274059082148,
          0.0027897678524629525,
          0.006844592767370032,
          0.014355198155418372,
          0.02565627151390264,
          0.03803968843690669,
          0.046430534149062196,
          0.049981663721702214,
          0.05110996780600871,
          0.051429347736020925,
          0.051545067039819314,
          0.05157907428993299,
          0.05158773771272766,
          0.05159900423848715,
          0.051596272248162135,
          0.05159883242018614
         ]
        },
        {
         "name": "ORGANIZATION_TYPE_Transport: type 3",
         "type": "scatter",
         "x": [
          1e-8,
          2.976351441631319e-8,
          8.858667904100832e-8,
          2.6366508987303554e-7,
          7.847599703514607e-7,
          0.000002335721469090121,
          0.000006951927961775606,
          0.0000206913808111479,
          0.00006158482110660255,
          0.00018329807108324338,
          0.0005455594781168515,
          0.001623776739188721,
          0.004832930238571752,
          0.01438449888287663,
          0.04281332398719387,
          0.1274274985703132,
          0.3792690190732246,
          1.1288378916846884,
          3.359818286283774,
          10
         ],
         "y": [
          0.000011914821047465985,
          0.00003543996416606259,
          0.00010529696379330922,
          0.000311756599832393,
          0.0009137043390397799,
          0.002603516375505214,
          0.006905095105001814,
          0.015633198396112654,
          0.02712363939840099,
          0.035941675406733736,
          0.04042447134881914,
          0.04222511550641217,
          0.04285778907589225,
          0.04306877411152505,
          0.04312103777360241,
          0.04316131939043049,
          0.04317270217966868,
          0.0431744769546453,
          0.04317526738106934,
          0.04317377809391568
         ]
        },
        {
         "name": "FONDKAPREMONT_MODE_org spec account",
         "type": "scatter",
         "x": [
          1e-8,
          2.976351441631319e-8,
          8.858667904100832e-8,
          2.6366508987303554e-7,
          7.847599703514607e-7,
          0.000002335721469090121,
          0.000006951927961775606,
          0.0000206913808111479,
          0.00006158482110660255,
          0.00018329807108324338,
          0.0005455594781168515,
          0.001623776739188721,
          0.004832930238571752,
          0.01438449888287663,
          0.04281332398719387,
          0.1274274985703132,
          0.3792690190732246,
          1.1288378916846884,
          3.359818286283774,
          10
         ],
         "y": [
          -0.000007204338859593306,
          -0.00002142123163252225,
          -0.00006340354786465248,
          -0.00018599085564025223,
          -0.000530936982820783,
          -0.0014111031844401306,
          -0.0032187350895086482,
          -0.0059186948103786274,
          -0.00917694533793178,
          -0.012556879314046702,
          -0.015024586297937468,
          -0.016243536947050066,
          -0.016705134716883546,
          -0.01687182245684037,
          -0.016940674245325766,
          -0.016956039923677495,
          -0.016975455399893858,
          -0.016966751387474152,
          -0.016968495920557887,
          -0.016965819803282746
         ]
        },
        {
         "name": "FONDKAPREMONT_MODE_reg oper account",
         "type": "scatter",
         "x": [
          1e-8,
          2.976351441631319e-8,
          8.858667904100832e-8,
          2.6366508987303554e-7,
          7.847599703514607e-7,
          0.000002335721469090121,
          0.000006951927961775606,
          0.0000206913808111479,
          0.00006158482110660255,
          0.00018329807108324338,
          0.0005455594781168515,
          0.001623776739188721,
          0.004832930238571752,
          0.01438449888287663,
          0.04281332398719387,
          0.1274274985703132,
          0.3792690190732246,
          1.1288378916846884,
          3.359818286283774,
          10
         ],
         "y": [
          -0.000014105368089135144,
          -0.00004190159589890493,
          -0.00012388424628613704,
          -0.00036174471817398133,
          -0.0010186022186627927,
          -0.0025987391520814903,
          -0.005270330786098552,
          -0.00728102984175642,
          -0.007134489026527354,
          -0.006763305941741619,
          -0.007086142704432624,
          -0.007426626417001959,
          -0.007541086766205432,
          -0.007584893977967034,
          -0.007638476678096101,
          -0.0076233147766133725,
          -0.007646581093618019,
          -0.0076306958366195755,
          -0.007634570145528536,
          -0.007636800821561143
         ]
        },
        {
         "name": "FONDKAPREMONT_MODE_reg oper spec account",
         "type": "scatter",
         "x": [
          1e-8,
          2.976351441631319e-8,
          8.858667904100832e-8,
          2.6366508987303554e-7,
          7.847599703514607e-7,
          0.000002335721469090121,
          0.000006951927961775606,
          0.0000206913808111479,
          0.00006158482110660255,
          0.00018329807108324338,
          0.0005455594781168515,
          0.001623776739188721,
          0.004832930238571752,
          0.01438449888287663,
          0.04281332398719387,
          0.1274274985703132,
          0.3792690190732246,
          1.1288378916846884,
          3.359818286283774,
          10
         ],
         "y": [
          -0.0000055986300993959575,
          -0.00001664093444489367,
          -0.000049263956534327825,
          -0.00014445331785309314,
          -0.0004117733952026802,
          -0.0010882946074682925,
          -0.0024306437493196963,
          -0.004249922535185514,
          -0.006342906029223119,
          -0.008899743555469401,
          -0.011122123210332933,
          -0.012344970235860587,
          -0.01281048913362367,
          -0.012965173104175507,
          -0.013029072552344884,
          -0.01303801036741912,
          -0.013056786900421316,
          -0.013048021629715637,
          -0.013049203054389766,
          -0.013048485046115338
         ]
        },
        {
         "name": "WALLSMATERIAL_MODE_Monolithic",
         "type": "scatter",
         "x": [
          1e-8,
          2.976351441631319e-8,
          8.858667904100832e-8,
          2.6366508987303554e-7,
          7.847599703514607e-7,
          0.000002335721469090121,
          0.000006951927961775606,
          0.0000206913808111479,
          0.00006158482110660255,
          0.00018329807108324338,
          0.0005455594781168515,
          0.001623776739188721,
          0.004832930238571752,
          0.01438449888287663,
          0.04281332398719387,
          0.1274274985703132,
          0.3792690190732246,
          1.1288378916846884,
          3.359818286283774,
          10
         ],
         "y": [
          -0.000006779217983366992,
          -0.000020166708567154254,
          -0.00005963556992243564,
          -0.00017476589445598726,
          -0.0004976297234010783,
          -0.0013158255651146602,
          -0.0029897559390296737,
          -0.005562802489478966,
          -0.008866273799279829,
          -0.012265520699556623,
          -0.014247577947437699,
          -0.014579529407083661,
          -0.014578329825753435,
          -0.014528901164943419,
          -0.014552918571853523,
          -0.01456786041920064,
          -0.014557914685423229,
          -0.014567321976938457,
          -0.014561879465945617,
          -0.01456020953965259
         ]
        },
        {
         "name": "WALLSMATERIAL_MODE_Panel",
         "type": "scatter",
         "x": [
          1e-8,
          2.976351441631319e-8,
          8.858667904100832e-8,
          2.6366508987303554e-7,
          7.847599703514607e-7,
          0.000002335721469090121,
          0.000006951927961775606,
          0.0000206913808111479,
          0.00006158482110660255,
          0.00018329807108324338,
          0.0005455594781168515,
          0.001623776739188721,
          0.004832930238571752,
          0.01438449888287663,
          0.04281332398719387,
          0.1274274985703132,
          0.3792690190732246,
          1.1288378916846884,
          3.359818286283774,
          10
         ],
         "y": [
          -0.00002015967622773766,
          -0.000059937714220868624,
          -0.00017731081657939803,
          -0.0005193945470649587,
          -0.001476461691289641,
          -0.0038751419738801154,
          -0.00852567745108906,
          -0.014358517026691203,
          -0.018991545488007164,
          -0.020583831869317892,
          -0.017894021979651367,
          -0.012962152466787486,
          -0.009505725822889494,
          -0.007697879265693528,
          -0.006999718072826627,
          -0.00677387768703548,
          -0.006737140655815298,
          -0.0066590890731146185,
          -0.006648554160684784,
          -0.00663169286099451
         ]
        },
        {
         "name": "WALLSMATERIAL_MODE_Stone, brick",
         "type": "scatter",
         "x": [
          1e-8,
          2.976351441631319e-8,
          8.858667904100832e-8,
          2.6366508987303554e-7,
          7.847599703514607e-7,
          0.000002335721469090121,
          0.000006951927961775606,
          0.0000206913808111479,
          0.00006158482110660255,
          0.00018329807108324338,
          0.0005455594781168515,
          0.001623776739188721,
          0.004832930238571752,
          0.01438449888287663,
          0.04281332398719387,
          0.1274274985703132,
          0.3792690190732246,
          1.1288378916846884,
          3.359818286283774,
          10
         ],
         "y": [
          -0.00000725767093021412,
          -0.00002151587149200283,
          -0.00006368912420717384,
          -0.0001856261346613895,
          -0.0005192948560858408,
          -0.001290992485370276,
          -0.002319052197882425,
          -0.0014865839427716143,
          0.003839665150212054,
          0.012411734465062873,
          0.021345589574526667,
          0.028661488740609246,
          0.032714782073886985,
          0.03464426537977749,
          0.035371645142637166,
          0.03558840949309382,
          0.03565498935690694,
          0.035712580852439696,
          0.03572327647425275,
          0.03573504409020731
         ]
        },
        {
         "name": "EMERGENCYSTATE_MODE_No",
         "type": "scatter",
         "x": [
          1e-8,
          2.976351441631319e-8,
          8.858667904100832e-8,
          2.6366508987303554e-7,
          7.847599703514607e-7,
          0.000002335721469090121,
          0.000006951927961775606,
          0.0000206913808111479,
          0.00006158482110660255,
          0.00018329807108324338,
          0.0005455594781168515,
          0.001623776739188721,
          0.004832930238571752,
          0.01438449888287663,
          0.04281332398719387,
          0.1274274985703132,
          0.3792690190732246,
          1.1288378916846884,
          3.359818286283774,
          10
         ],
         "y": [
          -0.000025908790125707036,
          -0.00007698694155003946,
          -0.00022781450592042536,
          -0.0006669560692034508,
          -0.0018922743470175397,
          -0.004931897137574117,
          -0.010576310222005858,
          -0.0165661399110644,
          -0.019937036505225325,
          -0.02285440042538645,
          -0.027875962168716913,
          -0.034353053551086636,
          -0.03904895370968933,
          -0.041736388413710634,
          -0.042826339573782464,
          -0.043126714491673074,
          -0.04322952329056454,
          -0.04332187554226251,
          -0.043354820304676044,
          -0.04338279366109268
         ]
        },
        {
         "name": "CREDIT_PRICE_RATIO",
         "type": "scatter",
         "x": [
          1e-8,
          2.976351441631319e-8,
          8.858667904100832e-8,
          2.6366508987303554e-7,
          7.847599703514607e-7,
          0.000002335721469090121,
          0.000006951927961775606,
          0.0000206913808111479,
          0.00006158482110660255,
          0.00018329807108324338,
          0.0005455594781168515,
          0.001623776739188721,
          0.004832930238571752,
          0.01438449888287663,
          0.04281332398719387,
          0.1274274985703132,
          0.3792690190732246,
          1.1288378916846884,
          3.359818286283774,
          10
         ],
         "y": [
          0.000040427409656585426,
          0.00012023874879785838,
          0.00035702129432842503,
          0.00105538479284176,
          0.003079144602720468,
          0.008666466065748434,
          0.022359339816496872,
          0.04882825922950951,
          0.08431700432720805,
          0.11411086114404255,
          0.1266323192655087,
          0.124325798810787,
          0.11782816173703375,
          0.11359674841145499,
          0.11176861705676733,
          0.11107227085810359,
          0.11085493625159808,
          0.11078006171273126,
          0.11075330086414235,
          0.11074842848024416
         ]
        },
        {
         "name": "ANNUITY_CREDIT_RATIO",
         "type": "scatter",
         "x": [
          1e-8,
          2.976351441631319e-8,
          8.858667904100832e-8,
          2.6366508987303554e-7,
          7.847599703514607e-7,
          0.000002335721469090121,
          0.000006951927961775606,
          0.0000206913808111479,
          0.00006158482110660255,
          0.00018329807108324338,
          0.0005455594781168515,
          0.001623776739188721,
          0.004832930238571752,
          0.01438449888287663,
          0.04281332398719387,
          0.1274274985703132,
          0.3792690190732246,
          1.1288378916846884,
          3.359818286283774,
          10
         ],
         "y": [
          0.000011275288926821075,
          0.0000334669251063266,
          0.00009892512230859983,
          0.00028816800222187996,
          0.0008050749430809044,
          0.001995720614877909,
          0.0035632593855131228,
          0.002125209422094889,
          -0.007147363758081407,
          -0.025259655012046127,
          -0.05482845810908922,
          -0.09414622103006283,
          -0.12778390362045405,
          -0.14626976887156434,
          -0.15394335796247774,
          -0.15675734974144767,
          -0.15768674288628576,
          -0.15800750767719918,
          -0.15811847825667955,
          -0.15814153868547584
         ]
        },
        {
         "name": "ANNUITY_INCOME_RATIO",
         "type": "scatter",
         "x": [
          1e-8,
          2.976351441631319e-8,
          8.858667904100832e-8,
          2.6366508987303554e-7,
          7.847599703514607e-7,
          0.000002335721469090121,
          0.000006951927961775606,
          0.0000206913808111479,
          0.00006158482110660255,
          0.00018329807108324338,
          0.0005455594781168515,
          0.001623776739188721,
          0.004832930238571752,
          0.01438449888287663,
          0.04281332398719387,
          0.1274274985703132,
          0.3792690190732246,
          1.1288378916846884,
          3.359818286283774,
          10
         ],
         "y": [
          0.000011208788978677037,
          0.00003337610570127205,
          0.00009930294335397102,
          0.0002956340754903331,
          0.0008798272574164631,
          0.0026045238533779734,
          0.00743312232093417,
          0.01856172823596541,
          0.036242271589665254,
          0.05417445102286738,
          0.06458439670595223,
          0.06653395301916774,
          0.06513532268605624,
          0.06390185743570231,
          0.06339486514333884,
          0.06318296708485022,
          0.06310741164848709,
          0.06309394992744188,
          0.06308420925478472,
          0.0630892904255349
         ]
        },
        {
         "name": "x0 x1",
         "type": "scatter",
         "x": [
          1e-8,
          2.976351441631319e-8,
          8.858667904100832e-8,
          2.6366508987303554e-7,
          7.847599703514607e-7,
          0.000002335721469090121,
          0.000006951927961775606,
          0.0000206913808111479,
          0.00006158482110660255,
          0.00018329807108324338,
          0.0005455594781168515,
          0.001623776739188721,
          0.004832930238571752,
          0.01438449888287663,
          0.04281332398719387,
          0.1274274985703132,
          0.3792690190732246,
          1.1288378916846884,
          3.359818286283774,
          10
         ],
         "y": [
          -0.00008561750627621087,
          -0.00025451172554163417,
          -0.0007545219896615733,
          -0.002220105636509264,
          -0.0063907709657313825,
          -0.017331417337461526,
          -0.040863016172322374,
          -0.07554934547886386,
          -0.10674396467911962,
          -0.1270448808123687,
          -0.13897928182913213,
          -0.13492567178770443,
          -0.1153269697576753,
          -0.09832839686211807,
          -0.09024786231659086,
          -0.08727973081015264,
          -0.08637104038450064,
          -0.08586278780562058,
          -0.0857402798206883,
          -0.08570324726554483
         ]
        },
        {
         "name": "x0 x2",
         "type": "scatter",
         "x": [
          1e-8,
          2.976351441631319e-8,
          8.858667904100832e-8,
          2.6366508987303554e-7,
          7.847599703514607e-7,
          0.000002335721469090121,
          0.000006951927961775606,
          0.0000206913808111479,
          0.00006158482110660255,
          0.00018329807108324338,
          0.0005455594781168515,
          0.001623776739188721,
          0.004832930238571752,
          0.01438449888287663,
          0.04281332398719387,
          0.1274274985703132,
          0.3792690190732246,
          1.1288378916846884,
          3.359818286283774,
          10
         ],
         "y": [
          -0.00006305821153755424,
          -0.00018744846510390027,
          -0.000555728275198458,
          -0.0016352590891895375,
          -0.004708274250215941,
          -0.012781486108473244,
          -0.030290557039557388,
          -0.057058737914008624,
          -0.08221446342539039,
          -0.08877450864342425,
          -0.06117366435872554,
          -0.005452316137754224,
          0.04638854872944567,
          0.07449882805865271,
          0.08600763943594478,
          0.09005986458170456,
          0.09146000340027303,
          0.09201745956519729,
          0.09216021513959374,
          0.0922633906928889
         ]
        },
        {
         "name": "x1 x2",
         "type": "scatter",
         "x": [
          1e-8,
          2.976351441631319e-8,
          8.858667904100832e-8,
          2.6366508987303554e-7,
          7.847599703514607e-7,
          0.000002335721469090121,
          0.000006951927961775606,
          0.0000206913808111479,
          0.00006158482110660255,
          0.00018329807108324338,
          0.0005455594781168515,
          0.001623776739188721,
          0.004832930238571752,
          0.01438449888287663,
          0.04281332398719387,
          0.1274274985703132,
          0.3792690190732246,
          1.1288378916846884,
          3.359818286283774,
          10
         ],
         "y": [
          -0.00011196568355794025,
          -0.00033288793997503284,
          -0.000987663229071895,
          -0.0029122314882029337,
          -0.008434403223336414,
          -0.023260312140426852,
          -0.05711646386095452,
          -0.1140586594209959,
          -0.1770658966186879,
          -0.2183757710949318,
          -0.2222245364580489,
          -0.18688015173445696,
          -0.12420756154611486,
          -0.06815595830054443,
          -0.03689311889204801,
          -0.023691676158353648,
          -0.019071357787855257,
          -0.01763085573122565,
          -0.017082487501433225,
          -0.01678082610106225
         ]
        }
       ],
       "layout": {
        "height": 800,
        "template": {
         "data": {
          "bar": [
           {
            "error_x": {
             "color": "#2a3f5f"
            },
            "error_y": {
             "color": "#2a3f5f"
            },
            "marker": {
             "line": {
              "color": "#E5ECF6",
              "width": 0.5
             }
            },
            "type": "bar"
           }
          ],
          "barpolar": [
           {
            "marker": {
             "line": {
              "color": "#E5ECF6",
              "width": 0.5
             }
            },
            "type": "barpolar"
           }
          ],
          "carpet": [
           {
            "aaxis": {
             "endlinecolor": "#2a3f5f",
             "gridcolor": "white",
             "linecolor": "white",
             "minorgridcolor": "white",
             "startlinecolor": "#2a3f5f"
            },
            "baxis": {
             "endlinecolor": "#2a3f5f",
             "gridcolor": "white",
             "linecolor": "white",
             "minorgridcolor": "white",
             "startlinecolor": "#2a3f5f"
            },
            "type": "carpet"
           }
          ],
          "choropleth": [
           {
            "colorbar": {
             "outlinewidth": 0,
             "ticks": ""
            },
            "type": "choropleth"
           }
          ],
          "contour": [
           {
            "colorbar": {
             "outlinewidth": 0,
             "ticks": ""
            },
            "colorscale": [
             [
              0,
              "#0d0887"
             ],
             [
              0.1111111111111111,
              "#46039f"
             ],
             [
              0.2222222222222222,
              "#7201a8"
             ],
             [
              0.3333333333333333,
              "#9c179e"
             ],
             [
              0.4444444444444444,
              "#bd3786"
             ],
             [
              0.5555555555555556,
              "#d8576b"
             ],
             [
              0.6666666666666666,
              "#ed7953"
             ],
             [
              0.7777777777777778,
              "#fb9f3a"
             ],
             [
              0.8888888888888888,
              "#fdca26"
             ],
             [
              1,
              "#f0f921"
             ]
            ],
            "type": "contour"
           }
          ],
          "contourcarpet": [
           {
            "colorbar": {
             "outlinewidth": 0,
             "ticks": ""
            },
            "type": "contourcarpet"
           }
          ],
          "heatmap": [
           {
            "colorbar": {
             "outlinewidth": 0,
             "ticks": ""
            },
            "colorscale": [
             [
              0,
              "#0d0887"
             ],
             [
              0.1111111111111111,
              "#46039f"
             ],
             [
              0.2222222222222222,
              "#7201a8"
             ],
             [
              0.3333333333333333,
              "#9c179e"
             ],
             [
              0.4444444444444444,
              "#bd3786"
             ],
             [
              0.5555555555555556,
              "#d8576b"
             ],
             [
              0.6666666666666666,
              "#ed7953"
             ],
             [
              0.7777777777777778,
              "#fb9f3a"
             ],
             [
              0.8888888888888888,
              "#fdca26"
             ],
             [
              1,
              "#f0f921"
             ]
            ],
            "type": "heatmap"
           }
          ],
          "heatmapgl": [
           {
            "colorbar": {
             "outlinewidth": 0,
             "ticks": ""
            },
            "colorscale": [
             [
              0,
              "#0d0887"
             ],
             [
              0.1111111111111111,
              "#46039f"
             ],
             [
              0.2222222222222222,
              "#7201a8"
             ],
             [
              0.3333333333333333,
              "#9c179e"
             ],
             [
              0.4444444444444444,
              "#bd3786"
             ],
             [
              0.5555555555555556,
              "#d8576b"
             ],
             [
              0.6666666666666666,
              "#ed7953"
             ],
             [
              0.7777777777777778,
              "#fb9f3a"
             ],
             [
              0.8888888888888888,
              "#fdca26"
             ],
             [
              1,
              "#f0f921"
             ]
            ],
            "type": "heatmapgl"
           }
          ],
          "histogram": [
           {
            "marker": {
             "colorbar": {
              "outlinewidth": 0,
              "ticks": ""
             }
            },
            "type": "histogram"
           }
          ],
          "histogram2d": [
           {
            "colorbar": {
             "outlinewidth": 0,
             "ticks": ""
            },
            "colorscale": [
             [
              0,
              "#0d0887"
             ],
             [
              0.1111111111111111,
              "#46039f"
             ],
             [
              0.2222222222222222,
              "#7201a8"
             ],
             [
              0.3333333333333333,
              "#9c179e"
             ],
             [
              0.4444444444444444,
              "#bd3786"
             ],
             [
              0.5555555555555556,
              "#d8576b"
             ],
             [
              0.6666666666666666,
              "#ed7953"
             ],
             [
              0.7777777777777778,
              "#fb9f3a"
             ],
             [
              0.8888888888888888,
              "#fdca26"
             ],
             [
              1,
              "#f0f921"
             ]
            ],
            "type": "histogram2d"
           }
          ],
          "histogram2dcontour": [
           {
            "colorbar": {
             "outlinewidth": 0,
             "ticks": ""
            },
            "colorscale": [
             [
              0,
              "#0d0887"
             ],
             [
              0.1111111111111111,
              "#46039f"
             ],
             [
              0.2222222222222222,
              "#7201a8"
             ],
             [
              0.3333333333333333,
              "#9c179e"
             ],
             [
              0.4444444444444444,
              "#bd3786"
             ],
             [
              0.5555555555555556,
              "#d8576b"
             ],
             [
              0.6666666666666666,
              "#ed7953"
             ],
             [
              0.7777777777777778,
              "#fb9f3a"
             ],
             [
              0.8888888888888888,
              "#fdca26"
             ],
             [
              1,
              "#f0f921"
             ]
            ],
            "type": "histogram2dcontour"
           }
          ],
          "mesh3d": [
           {
            "colorbar": {
             "outlinewidth": 0,
             "ticks": ""
            },
            "type": "mesh3d"
           }
          ],
          "parcoords": [
           {
            "line": {
             "colorbar": {
              "outlinewidth": 0,
              "ticks": ""
             }
            },
            "type": "parcoords"
           }
          ],
          "pie": [
           {
            "automargin": true,
            "type": "pie"
           }
          ],
          "scatter": [
           {
            "marker": {
             "colorbar": {
              "outlinewidth": 0,
              "ticks": ""
             }
            },
            "type": "scatter"
           }
          ],
          "scatter3d": [
           {
            "line": {
             "colorbar": {
              "outlinewidth": 0,
              "ticks": ""
             }
            },
            "marker": {
             "colorbar": {
              "outlinewidth": 0,
              "ticks": ""
             }
            },
            "type": "scatter3d"
           }
          ],
          "scattercarpet": [
           {
            "marker": {
             "colorbar": {
              "outlinewidth": 0,
              "ticks": ""
             }
            },
            "type": "scattercarpet"
           }
          ],
          "scattergeo": [
           {
            "marker": {
             "colorbar": {
              "outlinewidth": 0,
              "ticks": ""
             }
            },
            "type": "scattergeo"
           }
          ],
          "scattergl": [
           {
            "marker": {
             "colorbar": {
              "outlinewidth": 0,
              "ticks": ""
             }
            },
            "type": "scattergl"
           }
          ],
          "scattermapbox": [
           {
            "marker": {
             "colorbar": {
              "outlinewidth": 0,
              "ticks": ""
             }
            },
            "type": "scattermapbox"
           }
          ],
          "scatterpolar": [
           {
            "marker": {
             "colorbar": {
              "outlinewidth": 0,
              "ticks": ""
             }
            },
            "type": "scatterpolar"
           }
          ],
          "scatterpolargl": [
           {
            "marker": {
             "colorbar": {
              "outlinewidth": 0,
              "ticks": ""
             }
            },
            "type": "scatterpolargl"
           }
          ],
          "scatterternary": [
           {
            "marker": {
             "colorbar": {
              "outlinewidth": 0,
              "ticks": ""
             }
            },
            "type": "scatterternary"
           }
          ],
          "surface": [
           {
            "colorbar": {
             "outlinewidth": 0,
             "ticks": ""
            },
            "colorscale": [
             [
              0,
              "#0d0887"
             ],
             [
              0.1111111111111111,
              "#46039f"
             ],
             [
              0.2222222222222222,
              "#7201a8"
             ],
             [
              0.3333333333333333,
              "#9c179e"
             ],
             [
              0.4444444444444444,
              "#bd3786"
             ],
             [
              0.5555555555555556,
              "#d8576b"
             ],
             [
              0.6666666666666666,
              "#ed7953"
             ],
             [
              0.7777777777777778,
              "#fb9f3a"
             ],
             [
              0.8888888888888888,
              "#fdca26"
             ],
             [
              1,
              "#f0f921"
             ]
            ],
            "type": "surface"
           }
          ],
          "table": [
           {
            "cells": {
             "fill": {
              "color": "#EBF0F8"
             },
             "line": {
              "color": "white"
             }
            },
            "header": {
             "fill": {
              "color": "#C8D4E3"
             },
             "line": {
              "color": "white"
             }
            },
            "type": "table"
           }
          ]
         },
         "layout": {
          "annotationdefaults": {
           "arrowcolor": "#2a3f5f",
           "arrowhead": 0,
           "arrowwidth": 1
          },
          "autotypenumbers": "strict",
          "coloraxis": {
           "colorbar": {
            "outlinewidth": 0,
            "ticks": ""
           }
          },
          "colorscale": {
           "diverging": [
            [
             0,
             "#8e0152"
            ],
            [
             0.1,
             "#c51b7d"
            ],
            [
             0.2,
             "#de77ae"
            ],
            [
             0.3,
             "#f1b6da"
            ],
            [
             0.4,
             "#fde0ef"
            ],
            [
             0.5,
             "#f7f7f7"
            ],
            [
             0.6,
             "#e6f5d0"
            ],
            [
             0.7,
             "#b8e186"
            ],
            [
             0.8,
             "#7fbc41"
            ],
            [
             0.9,
             "#4d9221"
            ],
            [
             1,
             "#276419"
            ]
           ],
           "sequential": [
            [
             0,
             "#0d0887"
            ],
            [
             0.1111111111111111,
             "#46039f"
            ],
            [
             0.2222222222222222,
             "#7201a8"
            ],
            [
             0.3333333333333333,
             "#9c179e"
            ],
            [
             0.4444444444444444,
             "#bd3786"
            ],
            [
             0.5555555555555556,
             "#d8576b"
            ],
            [
             0.6666666666666666,
             "#ed7953"
            ],
            [
             0.7777777777777778,
             "#fb9f3a"
            ],
            [
             0.8888888888888888,
             "#fdca26"
            ],
            [
             1,
             "#f0f921"
            ]
           ],
           "sequentialminus": [
            [
             0,
             "#0d0887"
            ],
            [
             0.1111111111111111,
             "#46039f"
            ],
            [
             0.2222222222222222,
             "#7201a8"
            ],
            [
             0.3333333333333333,
             "#9c179e"
            ],
            [
             0.4444444444444444,
             "#bd3786"
            ],
            [
             0.5555555555555556,
             "#d8576b"
            ],
            [
             0.6666666666666666,
             "#ed7953"
            ],
            [
             0.7777777777777778,
             "#fb9f3a"
            ],
            [
             0.8888888888888888,
             "#fdca26"
            ],
            [
             1,
             "#f0f921"
            ]
           ]
          },
          "colorway": [
           "#636efa",
           "#EF553B",
           "#00cc96",
           "#ab63fa",
           "#FFA15A",
           "#19d3f3",
           "#FF6692",
           "#B6E880",
           "#FF97FF",
           "#FECB52"
          ],
          "font": {
           "color": "#2a3f5f"
          },
          "geo": {
           "bgcolor": "white",
           "lakecolor": "white",
           "landcolor": "#E5ECF6",
           "showlakes": true,
           "showland": true,
           "subunitcolor": "white"
          },
          "hoverlabel": {
           "align": "left"
          },
          "hovermode": "closest",
          "mapbox": {
           "style": "light"
          },
          "paper_bgcolor": "white",
          "plot_bgcolor": "#E5ECF6",
          "polar": {
           "angularaxis": {
            "gridcolor": "white",
            "linecolor": "white",
            "ticks": ""
           },
           "bgcolor": "#E5ECF6",
           "radialaxis": {
            "gridcolor": "white",
            "linecolor": "white",
            "ticks": ""
           }
          },
          "scene": {
           "xaxis": {
            "backgroundcolor": "#E5ECF6",
            "gridcolor": "white",
            "gridwidth": 2,
            "linecolor": "white",
            "showbackground": true,
            "ticks": "",
            "zerolinecolor": "white"
           },
           "yaxis": {
            "backgroundcolor": "#E5ECF6",
            "gridcolor": "white",
            "gridwidth": 2,
            "linecolor": "white",
            "showbackground": true,
            "ticks": "",
            "zerolinecolor": "white"
           },
           "zaxis": {
            "backgroundcolor": "#E5ECF6",
            "gridcolor": "white",
            "gridwidth": 2,
            "linecolor": "white",
            "showbackground": true,
            "ticks": "",
            "zerolinecolor": "white"
           }
          },
          "shapedefaults": {
           "line": {
            "color": "#2a3f5f"
           }
          },
          "ternary": {
           "aaxis": {
            "gridcolor": "white",
            "linecolor": "white",
            "ticks": ""
           },
           "baxis": {
            "gridcolor": "white",
            "linecolor": "white",
            "ticks": ""
           },
           "bgcolor": "#E5ECF6",
           "caxis": {
            "gridcolor": "white",
            "linecolor": "white",
            "ticks": ""
           }
          },
          "title": {
           "x": 0.05
          },
          "xaxis": {
           "automargin": true,
           "gridcolor": "white",
           "linecolor": "white",
           "ticks": "",
           "title": {
            "standoff": 15
           },
           "zerolinecolor": "white",
           "zerolinewidth": 2
          },
          "yaxis": {
           "automargin": true,
           "gridcolor": "white",
           "linecolor": "white",
           "ticks": "",
           "title": {
            "standoff": 15
           },
           "zerolinecolor": "white",
           "zerolinewidth": 2
          }
         }
        },
        "title": {
         "text": "Logistic regression coefficients as a function of the regularization"
        },
        "width": 1200,
        "xaxis": {
         "autorange": "reversed",
         "title": {
          "text": "log(C)"
         },
         "type": "log"
        },
        "yaxis": {
         "title": {
          "text": "coefficient"
         }
        }
       }
      }
     },
     "metadata": {}
    },
    {
     "output_type": "display_data",
     "data": {
      "application/vnd.plotly.v1+json": {
       "config": {
        "plotlyServerURL": "https://plot.ly"
       },
       "data": [
        {
         "name": "MSE",
         "type": "scatter",
         "x": [
          1e-8,
          2.976351441631319e-8,
          8.858667904100832e-8,
          2.6366508987303554e-7,
          7.847599703514607e-7,
          0.000002335721469090121,
          0.000006951927961775606,
          0.0000206913808111479,
          0.00006158482110660255,
          0.00018329807108324338,
          0.0005455594781168515,
          0.001623776739188721,
          0.004832930238571752,
          0.01438449888287663,
          0.04281332398719387,
          0.1274274985703132,
          0.3792690190732246,
          1.1288378916846884,
          3.359818286283774,
          10
         ],
         "y": [
          0.0865987149996034,
          0.0865987149996034,
          0.0865987149996034,
          0.0865987149996034,
          0.0865987149996034,
          0.0865987149996034,
          0.0865987149996034,
          0.08661854525263743,
          0.0865987149996034,
          0.08657888474656937,
          0.08655905449353533,
          0.08636075196319505,
          0.08655905449353533,
          0.08665820575870548,
          0.0865987149996034,
          0.08657888474656937,
          0.08655905449353533,
          0.08655905449353533,
          0.08655905449353533,
          0.08655905449353533
         ]
        }
       ],
       "layout": {
        "height": 800,
        "template": {
         "data": {
          "bar": [
           {
            "error_x": {
             "color": "#2a3f5f"
            },
            "error_y": {
             "color": "#2a3f5f"
            },
            "marker": {
             "line": {
              "color": "#E5ECF6",
              "width": 0.5
             }
            },
            "type": "bar"
           }
          ],
          "barpolar": [
           {
            "marker": {
             "line": {
              "color": "#E5ECF6",
              "width": 0.5
             }
            },
            "type": "barpolar"
           }
          ],
          "carpet": [
           {
            "aaxis": {
             "endlinecolor": "#2a3f5f",
             "gridcolor": "white",
             "linecolor": "white",
             "minorgridcolor": "white",
             "startlinecolor": "#2a3f5f"
            },
            "baxis": {
             "endlinecolor": "#2a3f5f",
             "gridcolor": "white",
             "linecolor": "white",
             "minorgridcolor": "white",
             "startlinecolor": "#2a3f5f"
            },
            "type": "carpet"
           }
          ],
          "choropleth": [
           {
            "colorbar": {
             "outlinewidth": 0,
             "ticks": ""
            },
            "type": "choropleth"
           }
          ],
          "contour": [
           {
            "colorbar": {
             "outlinewidth": 0,
             "ticks": ""
            },
            "colorscale": [
             [
              0,
              "#0d0887"
             ],
             [
              0.1111111111111111,
              "#46039f"
             ],
             [
              0.2222222222222222,
              "#7201a8"
             ],
             [
              0.3333333333333333,
              "#9c179e"
             ],
             [
              0.4444444444444444,
              "#bd3786"
             ],
             [
              0.5555555555555556,
              "#d8576b"
             ],
             [
              0.6666666666666666,
              "#ed7953"
             ],
             [
              0.7777777777777778,
              "#fb9f3a"
             ],
             [
              0.8888888888888888,
              "#fdca26"
             ],
             [
              1,
              "#f0f921"
             ]
            ],
            "type": "contour"
           }
          ],
          "contourcarpet": [
           {
            "colorbar": {
             "outlinewidth": 0,
             "ticks": ""
            },
            "type": "contourcarpet"
           }
          ],
          "heatmap": [
           {
            "colorbar": {
             "outlinewidth": 0,
             "ticks": ""
            },
            "colorscale": [
             [
              0,
              "#0d0887"
             ],
             [
              0.1111111111111111,
              "#46039f"
             ],
             [
              0.2222222222222222,
              "#7201a8"
             ],
             [
              0.3333333333333333,
              "#9c179e"
             ],
             [
              0.4444444444444444,
              "#bd3786"
             ],
             [
              0.5555555555555556,
              "#d8576b"
             ],
             [
              0.6666666666666666,
              "#ed7953"
             ],
             [
              0.7777777777777778,
              "#fb9f3a"
             ],
             [
              0.8888888888888888,
              "#fdca26"
             ],
             [
              1,
              "#f0f921"
             ]
            ],
            "type": "heatmap"
           }
          ],
          "heatmapgl": [
           {
            "colorbar": {
             "outlinewidth": 0,
             "ticks": ""
            },
            "colorscale": [
             [
              0,
              "#0d0887"
             ],
             [
              0.1111111111111111,
              "#46039f"
             ],
             [
              0.2222222222222222,
              "#7201a8"
             ],
             [
              0.3333333333333333,
              "#9c179e"
             ],
             [
              0.4444444444444444,
              "#bd3786"
             ],
             [
              0.5555555555555556,
              "#d8576b"
             ],
             [
              0.6666666666666666,
              "#ed7953"
             ],
             [
              0.7777777777777778,
              "#fb9f3a"
             ],
             [
              0.8888888888888888,
              "#fdca26"
             ],
             [
              1,
              "#f0f921"
             ]
            ],
            "type": "heatmapgl"
           }
          ],
          "histogram": [
           {
            "marker": {
             "colorbar": {
              "outlinewidth": 0,
              "ticks": ""
             }
            },
            "type": "histogram"
           }
          ],
          "histogram2d": [
           {
            "colorbar": {
             "outlinewidth": 0,
             "ticks": ""
            },
            "colorscale": [
             [
              0,
              "#0d0887"
             ],
             [
              0.1111111111111111,
              "#46039f"
             ],
             [
              0.2222222222222222,
              "#7201a8"
             ],
             [
              0.3333333333333333,
              "#9c179e"
             ],
             [
              0.4444444444444444,
              "#bd3786"
             ],
             [
              0.5555555555555556,
              "#d8576b"
             ],
             [
              0.6666666666666666,
              "#ed7953"
             ],
             [
              0.7777777777777778,
              "#fb9f3a"
             ],
             [
              0.8888888888888888,
              "#fdca26"
             ],
             [
              1,
              "#f0f921"
             ]
            ],
            "type": "histogram2d"
           }
          ],
          "histogram2dcontour": [
           {
            "colorbar": {
             "outlinewidth": 0,
             "ticks": ""
            },
            "colorscale": [
             [
              0,
              "#0d0887"
             ],
             [
              0.1111111111111111,
              "#46039f"
             ],
             [
              0.2222222222222222,
              "#7201a8"
             ],
             [
              0.3333333333333333,
              "#9c179e"
             ],
             [
              0.4444444444444444,
              "#bd3786"
             ],
             [
              0.5555555555555556,
              "#d8576b"
             ],
             [
              0.6666666666666666,
              "#ed7953"
             ],
             [
              0.7777777777777778,
              "#fb9f3a"
             ],
             [
              0.8888888888888888,
              "#fdca26"
             ],
             [
              1,
              "#f0f921"
             ]
            ],
            "type": "histogram2dcontour"
           }
          ],
          "mesh3d": [
           {
            "colorbar": {
             "outlinewidth": 0,
             "ticks": ""
            },
            "type": "mesh3d"
           }
          ],
          "parcoords": [
           {
            "line": {
             "colorbar": {
              "outlinewidth": 0,
              "ticks": ""
             }
            },
            "type": "parcoords"
           }
          ],
          "pie": [
           {
            "automargin": true,
            "type": "pie"
           }
          ],
          "scatter": [
           {
            "marker": {
             "colorbar": {
              "outlinewidth": 0,
              "ticks": ""
             }
            },
            "type": "scatter"
           }
          ],
          "scatter3d": [
           {
            "line": {
             "colorbar": {
              "outlinewidth": 0,
              "ticks": ""
             }
            },
            "marker": {
             "colorbar": {
              "outlinewidth": 0,
              "ticks": ""
             }
            },
            "type": "scatter3d"
           }
          ],
          "scattercarpet": [
           {
            "marker": {
             "colorbar": {
              "outlinewidth": 0,
              "ticks": ""
             }
            },
            "type": "scattercarpet"
           }
          ],
          "scattergeo": [
           {
            "marker": {
             "colorbar": {
              "outlinewidth": 0,
              "ticks": ""
             }
            },
            "type": "scattergeo"
           }
          ],
          "scattergl": [
           {
            "marker": {
             "colorbar": {
              "outlinewidth": 0,
              "ticks": ""
             }
            },
            "type": "scattergl"
           }
          ],
          "scattermapbox": [
           {
            "marker": {
             "colorbar": {
              "outlinewidth": 0,
              "ticks": ""
             }
            },
            "type": "scattermapbox"
           }
          ],
          "scatterpolar": [
           {
            "marker": {
             "colorbar": {
              "outlinewidth": 0,
              "ticks": ""
             }
            },
            "type": "scatterpolar"
           }
          ],
          "scatterpolargl": [
           {
            "marker": {
             "colorbar": {
              "outlinewidth": 0,
              "ticks": ""
             }
            },
            "type": "scatterpolargl"
           }
          ],
          "scatterternary": [
           {
            "marker": {
             "colorbar": {
              "outlinewidth": 0,
              "ticks": ""
             }
            },
            "type": "scatterternary"
           }
          ],
          "surface": [
           {
            "colorbar": {
             "outlinewidth": 0,
             "ticks": ""
            },
            "colorscale": [
             [
              0,
              "#0d0887"
             ],
             [
              0.1111111111111111,
              "#46039f"
             ],
             [
              0.2222222222222222,
              "#7201a8"
             ],
             [
              0.3333333333333333,
              "#9c179e"
             ],
             [
              0.4444444444444444,
              "#bd3786"
             ],
             [
              0.5555555555555556,
              "#d8576b"
             ],
             [
              0.6666666666666666,
              "#ed7953"
             ],
             [
              0.7777777777777778,
              "#fb9f3a"
             ],
             [
              0.8888888888888888,
              "#fdca26"
             ],
             [
              1,
              "#f0f921"
             ]
            ],
            "type": "surface"
           }
          ],
          "table": [
           {
            "cells": {
             "fill": {
              "color": "#EBF0F8"
             },
             "line": {
              "color": "white"
             }
            },
            "header": {
             "fill": {
              "color": "#C8D4E3"
             },
             "line": {
              "color": "white"
             }
            },
            "type": "table"
           }
          ]
         },
         "layout": {
          "annotationdefaults": {
           "arrowcolor": "#2a3f5f",
           "arrowhead": 0,
           "arrowwidth": 1
          },
          "autotypenumbers": "strict",
          "coloraxis": {
           "colorbar": {
            "outlinewidth": 0,
            "ticks": ""
           }
          },
          "colorscale": {
           "diverging": [
            [
             0,
             "#8e0152"
            ],
            [
             0.1,
             "#c51b7d"
            ],
            [
             0.2,
             "#de77ae"
            ],
            [
             0.3,
             "#f1b6da"
            ],
            [
             0.4,
             "#fde0ef"
            ],
            [
             0.5,
             "#f7f7f7"
            ],
            [
             0.6,
             "#e6f5d0"
            ],
            [
             0.7,
             "#b8e186"
            ],
            [
             0.8,
             "#7fbc41"
            ],
            [
             0.9,
             "#4d9221"
            ],
            [
             1,
             "#276419"
            ]
           ],
           "sequential": [
            [
             0,
             "#0d0887"
            ],
            [
             0.1111111111111111,
             "#46039f"
            ],
            [
             0.2222222222222222,
             "#7201a8"
            ],
            [
             0.3333333333333333,
             "#9c179e"
            ],
            [
             0.4444444444444444,
             "#bd3786"
            ],
            [
             0.5555555555555556,
             "#d8576b"
            ],
            [
             0.6666666666666666,
             "#ed7953"
            ],
            [
             0.7777777777777778,
             "#fb9f3a"
            ],
            [
             0.8888888888888888,
             "#fdca26"
            ],
            [
             1,
             "#f0f921"
            ]
           ],
           "sequentialminus": [
            [
             0,
             "#0d0887"
            ],
            [
             0.1111111111111111,
             "#46039f"
            ],
            [
             0.2222222222222222,
             "#7201a8"
            ],
            [
             0.3333333333333333,
             "#9c179e"
            ],
            [
             0.4444444444444444,
             "#bd3786"
            ],
            [
             0.5555555555555556,
             "#d8576b"
            ],
            [
             0.6666666666666666,
             "#ed7953"
            ],
            [
             0.7777777777777778,
             "#fb9f3a"
            ],
            [
             0.8888888888888888,
             "#fdca26"
            ],
            [
             1,
             "#f0f921"
            ]
           ]
          },
          "colorway": [
           "#636efa",
           "#EF553B",
           "#00cc96",
           "#ab63fa",
           "#FFA15A",
           "#19d3f3",
           "#FF6692",
           "#B6E880",
           "#FF97FF",
           "#FECB52"
          ],
          "font": {
           "color": "#2a3f5f"
          },
          "geo": {
           "bgcolor": "white",
           "lakecolor": "white",
           "landcolor": "#E5ECF6",
           "showlakes": true,
           "showland": true,
           "subunitcolor": "white"
          },
          "hoverlabel": {
           "align": "left"
          },
          "hovermode": "closest",
          "mapbox": {
           "style": "light"
          },
          "paper_bgcolor": "white",
          "plot_bgcolor": "#E5ECF6",
          "polar": {
           "angularaxis": {
            "gridcolor": "white",
            "linecolor": "white",
            "ticks": ""
           },
           "bgcolor": "#E5ECF6",
           "radialaxis": {
            "gridcolor": "white",
            "linecolor": "white",
            "ticks": ""
           }
          },
          "scene": {
           "xaxis": {
            "backgroundcolor": "#E5ECF6",
            "gridcolor": "white",
            "gridwidth": 2,
            "linecolor": "white",
            "showbackground": true,
            "ticks": "",
            "zerolinecolor": "white"
           },
           "yaxis": {
            "backgroundcolor": "#E5ECF6",
            "gridcolor": "white",
            "gridwidth": 2,
            "linecolor": "white",
            "showbackground": true,
            "ticks": "",
            "zerolinecolor": "white"
           },
           "zaxis": {
            "backgroundcolor": "#E5ECF6",
            "gridcolor": "white",
            "gridwidth": 2,
            "linecolor": "white",
            "showbackground": true,
            "ticks": "",
            "zerolinecolor": "white"
           }
          },
          "shapedefaults": {
           "line": {
            "color": "#2a3f5f"
           }
          },
          "ternary": {
           "aaxis": {
            "gridcolor": "white",
            "linecolor": "white",
            "ticks": ""
           },
           "baxis": {
            "gridcolor": "white",
            "linecolor": "white",
            "ticks": ""
           },
           "bgcolor": "#E5ECF6",
           "caxis": {
            "gridcolor": "white",
            "linecolor": "white",
            "ticks": ""
           }
          },
          "title": {
           "x": 0.05
          },
          "xaxis": {
           "automargin": true,
           "gridcolor": "white",
           "linecolor": "white",
           "ticks": "",
           "title": {
            "standoff": 15
           },
           "zerolinecolor": "white",
           "zerolinewidth": 2
          },
          "yaxis": {
           "automargin": true,
           "gridcolor": "white",
           "linecolor": "white",
           "ticks": "",
           "title": {
            "standoff": 15
           },
           "zerolinecolor": "white",
           "zerolinewidth": 2
          }
         }
        },
        "title": {
         "text": "Logistic regression MSE as a function of the regularization"
        },
        "width": 1200,
        "xaxis": {
         "autorange": "reversed",
         "title": {
          "text": "log(C)"
         },
         "type": "log"
        },
        "yaxis": {
         "title": {
          "text": "MSE"
         }
        }
       }
      }
     },
     "metadata": {}
    }
   ],
   "metadata": {}
  },
  {
   "cell_type": "markdown",
   "source": [
    "### Modèle Support Vector Machine \n",
    "\n"
   ],
   "metadata": {}
  },
  {
   "cell_type": "code",
   "execution_count": 35,
   "source": [
    "# Support Vector Machine\n",
    "\n",
    "# Linear SVC\n",
    "# - Les SVM (Support Vector Machines), aussi appelées en français Machines à Vecteurs de Support et parfois Séparatrices à Vaste Marge, cherchent à séparer linéairement les données.\n",
    "# - La version primale résout un problème d'optimisation à p variables et est donc préférable si on a moins de variables que d'échantillons.\n",
    "# - À l'inverse, la version duale résout un problème d'optimisation à n variables et est donc préférable si on a moins d'échantillons que de variables.\n",
    "# - Les vecteurs de support sont les points du jeu de données qui sont les plus proches de l'hyperplan séparateur.\n",
    "# - La fonction de décision peut s'exprimer uniquement en fonction du produit scalaire du point à étiqueter avec les vecteurs de support.\n",
    "\n",
    "from sklearn.svm import SVC\n",
    "\n",
    "\n",
    "# Compute scores\n",
    "best_model_score = models_helpers.find_best_params_classifier(\n",
    "    X_train=X_train, y_train=y_train, X_test=X_test, y_test=y_test,\n",
    "    estimator=SVC(\n",
    "        cache_size=1000, \n",
    "        max_iter=1e4,\n",
    "        random_state=42\n",
    "    ),\n",
    "    params={\n",
    "        \"C\": np.logspace(-2, 2, 5),\n",
    "        \"gamma\": [\"scale\", \"auto\"] | np.logspace(-2, 2, 5),\n",
    "        \"degree\": range(2, 5),\n",
    "        \"kernel\": [\"linear\", \"poly\", \"rbf\"],\n",
    "    },\n",
    ")\n",
    "print({\n",
    "    \"params\": best_model_score['params'], \n",
    "    \"score\": best_model_score['score'],\n",
    "    \"time\": best_model_score['time'],\n",
    "})\n",
    "results = results.append(best_model_score, ignore_index=True)\n",
    "\n",
    "# Plot best model curves\n",
    "vis_helpers.plot_classifier_results(\n",
    "    classifier=best_model_score['model'],\n",
    "    X_test=X_test,\n",
    "    y_test=y_test,\n",
    ")\n"
   ],
   "outputs": [
    {
     "output_type": "stream",
     "name": "stdout",
     "text": [
      "n_iterations: 7\n",
      "n_required_iterations: 7\n",
      "n_possible_iterations: 8\n",
      "min_resources_: 40\n",
      "max_resources_: 201709\n",
      "aggressive_elimination: False\n",
      "factor: 3\n",
      "----------\n",
      "iter: 0\n",
      "n_candidates: 960\n",
      "n_resources: 40\n",
      "Fitting 10 folds for each of 960 candidates, totalling 9600 fits\n",
      "----------\n",
      "iter: 1\n",
      "n_candidates: 320\n",
      "n_resources: 120\n",
      "Fitting 10 folds for each of 320 candidates, totalling 3200 fits\n",
      "----------\n",
      "iter: 2\n",
      "n_candidates: 107\n",
      "n_resources: 360\n",
      "Fitting 10 folds for each of 107 candidates, totalling 1070 fits\n",
      "----------\n",
      "iter: 3\n",
      "n_candidates: 36\n",
      "n_resources: 1080\n",
      "Fitting 10 folds for each of 36 candidates, totalling 360 fits\n",
      "----------\n",
      "iter: 4\n",
      "n_candidates: 12\n",
      "n_resources: 3240\n",
      "Fitting 10 folds for each of 12 candidates, totalling 120 fits\n",
      "----------\n",
      "iter: 5\n",
      "n_candidates: 4\n",
      "n_resources: 9720\n",
      "Fitting 10 folds for each of 4 candidates, totalling 40 fits\n",
      "----------\n",
      "iter: 6\n",
      "n_candidates: 2\n",
      "n_resources: 29160\n",
      "Fitting 10 folds for each of 2 candidates, totalling 20 fits\n",
      "{'params': {'kernel': 'linear', 'gamma': 0.01, 'degree': 5, 'C': 1000}, 'score': 0.1377884914907558, 'time': 129.26375079154968}\n"
     ]
    },
    {
     "output_type": "display_data",
     "data": {
      "image/png": "[encoded data removed]",
      "text/plain": [
       "<Figure size 432x288 with 2 Axes>"
      ]
     },
     "metadata": {
      "needs_background": "light"
     }
    },
    {
     "output_type": "display_data",
     "data": {
      "image/png": "[encoded data removed]",
      "text/plain": [
       "<Figure size 432x288 with 1 Axes>"
      ]
     },
     "metadata": {
      "needs_background": "light"
     }
    },
    {
     "output_type": "display_data",
     "data": {
      "image/png": "[encoded data removed]",
      "text/plain": [
       "<Figure size 432x288 with 1 Axes>"
      ]
     },
     "metadata": {
      "needs_background": "light"
     }
    }
   ],
   "metadata": {}
  },
  {
   "cell_type": "code",
   "execution_count": 45,
   "source": [
    "# if the kernel is linear, we can use the coefficients to plot the decision boundary\n",
    "if best_model_score['params']['kernel'] == 'linear':\n",
    "    top_coefficients = pd.Series(\n",
    "        best_model_score['model'].coef_[0],\n",
    "        X_train.columns,\n",
    "    ).map(abs).sort_values(ascending=False).head(20)\n",
    "\n",
    "    if True or DRAW_PLOTS:\n",
    "        fig = px.bar(\n",
    "            top_coefficients,\n",
    "            color=top_coefficients.values,\n",
    "            title=\"Top 20 variables importance\",\n",
    "            labels={\n",
    "                \"index\": \"Variable name\",\n",
    "                \"value\": \"Coefficient\",\n",
    "                \"color\": \"Coefficient\",\n",
    "            },\n",
    "            width=1200,\n",
    "            height=800,\n",
    "        )\n",
    "        fig.show()\n",
    "else:\n",
    "    print(\"Kernel is not linear, impossible to estimate feature importances.\")\n"
   ],
   "outputs": [
    {
     "output_type": "error",
     "ename": "KeyError",
     "evalue": "'kernel'",
     "traceback": [
      "\u001b[0;31m---------------------------------------------------------------------------\u001b[0m",
      "\u001b[0;31mKeyError\u001b[0m                                  Traceback (most recent call last)",
      "\u001b[0;32m<ipython-input-45-7f303b87c5a8>\u001b[0m in \u001b[0;36m<module>\u001b[0;34m\u001b[0m\n\u001b[1;32m      1\u001b[0m \u001b[0;31m# if the kernel is linear, we can use the coefficients to plot the decision boundary\u001b[0m\u001b[0;34m\u001b[0m\u001b[0;34m\u001b[0m\u001b[0;34m\u001b[0m\u001b[0m\n\u001b[0;32m----> 2\u001b[0;31m \u001b[0;32mif\u001b[0m \u001b[0mbest_model_score\u001b[0m\u001b[0;34m[\u001b[0m\u001b[0;34m'params'\u001b[0m\u001b[0;34m]\u001b[0m\u001b[0;34m[\u001b[0m\u001b[0;34m'kernel'\u001b[0m\u001b[0;34m]\u001b[0m \u001b[0;34m==\u001b[0m \u001b[0;34m'linear'\u001b[0m\u001b[0;34m:\u001b[0m\u001b[0;34m\u001b[0m\u001b[0;34m\u001b[0m\u001b[0m\n\u001b[0m\u001b[1;32m      3\u001b[0m     top_coefficients = pd.Series(\n\u001b[1;32m      4\u001b[0m         \u001b[0mbest_model_score\u001b[0m\u001b[0;34m[\u001b[0m\u001b[0;34m'model'\u001b[0m\u001b[0;34m]\u001b[0m\u001b[0;34m.\u001b[0m\u001b[0mcoef_\u001b[0m\u001b[0;34m[\u001b[0m\u001b[0;36m0\u001b[0m\u001b[0;34m]\u001b[0m\u001b[0;34m,\u001b[0m\u001b[0;34m\u001b[0m\u001b[0;34m\u001b[0m\u001b[0m\n\u001b[1;32m      5\u001b[0m         \u001b[0mX_train\u001b[0m\u001b[0;34m.\u001b[0m\u001b[0mcolumns\u001b[0m\u001b[0;34m,\u001b[0m\u001b[0;34m\u001b[0m\u001b[0;34m\u001b[0m\u001b[0m\n",
      "\u001b[0;31mKeyError\u001b[0m: 'kernel'"
     ]
    }
   ],
   "metadata": {}
  },
  {
   "cell_type": "markdown",
   "source": [
    "### K nearest neighbours\n",
    "\n"
   ],
   "metadata": {}
  },
  {
   "cell_type": "code",
   "execution_count": 44,
   "source": [
    "## K-nearest-neighbours\n",
    "\n",
    "# Linear SVC\n",
    "# - Les SVM (Support Vector Machines), aussi appelées en français Machines à Vecteurs de Support et parfois Séparatrices à Vaste Marge, cherchent à séparer linéairement les données.\n",
    "# - La version primale résout un problème d'optimisation à p variables et est donc préférable si on a moins de variables que d'échantillons.\n",
    "# - À l'inverse, la version duale résout un problème d'optimisation à n variables et est donc préférable si on a moins d'échantillons que de variables.\n",
    "# - Les vecteurs de support sont les points du jeu de données qui sont les plus proches de l'hyperplan séparateur.\n",
    "# - La fonction de décision peut s'exprimer uniquement en fonction du produit scalaire du point à étiqueter avec les vecteurs de support.\n",
    "\n",
    "from sklearn.neighbors import KNeighborsClassifier\n",
    "\n",
    "\n",
    "# Compute scores\n",
    "best_model_score = models_helpers.find_best_params_classifier(\n",
    "    X_train=X_train, y_train=y_train, X_test=X_test, y_test=y_test,\n",
    "    estimator=KNeighborsClassifier(),\n",
    "    params={\n",
    "        \"n_neighbors\": range(2, 10),\n",
    "        \"weights\": [\"uniform\", \"distance\"],\n",
    "    },\n",
    ")\n",
    "print({\n",
    "    \"params\": best_model_score['params'], \n",
    "    \"score\": best_model_score['score'],\n",
    "    \"time\": best_model_score['time'],\n",
    "})\n",
    "results = results.append(best_model_score, ignore_index=True)\n",
    "\n",
    "# Plot best model curves\n",
    "vis_helpers.plot_classifier_results(\n",
    "    classifier=best_model_score['model'],\n",
    "    X_test=X_test,\n",
    "    y_test=y_test,\n",
    ")\n"
   ],
   "outputs": [
    {
     "output_type": "stream",
     "name": "stdout",
     "text": [
      "n_iterations: 2\n",
      "n_required_iterations: 2\n",
      "n_possible_iterations: 8\n",
      "min_resources_: 40\n",
      "max_resources_: 201709\n",
      "aggressive_elimination: False\n",
      "factor: 3\n",
      "----------\n",
      "iter: 0\n",
      "n_candidates: 8\n",
      "n_resources: 40\n",
      "Fitting 10 folds for each of 8 candidates, totalling 80 fits\n",
      "----------\n",
      "iter: 1\n",
      "n_candidates: 3\n",
      "n_resources: 120\n",
      "Fitting 10 folds for each of 3 candidates, totalling 30 fits\n",
      "{'params': {'weights': 'distance', 'n_neighbors': 2}, 'score': 0.03333333333333333, 'time': 0.025595903396606445}\n"
     ]
    },
    {
     "output_type": "display_data",
     "data": {
      "image/png": "[encoded data removed]",
      "text/plain": [
       "<Figure size 432x288 with 2 Axes>"
      ]
     },
     "metadata": {
      "needs_background": "light"
     }
    },
    {
     "output_type": "display_data",
     "data": {
      "image/png": "[encoded data removed]",
      "text/plain": [
       "<Figure size 432x288 with 1 Axes>"
      ]
     },
     "metadata": {
      "needs_background": "light"
     }
    },
    {
     "output_type": "display_data",
     "data": {
      "image/png": "[encoded data removed]",
      "text/plain": [
       "<Figure size 432x288 with 1 Axes>"
      ]
     },
     "metadata": {
      "needs_background": "light"
     }
    }
   ],
   "metadata": {}
  },
  {
   "cell_type": "markdown",
   "source": [
    "### Modèles ensemblistes"
   ],
   "metadata": {}
  },
  {
   "cell_type": "code",
   "execution_count": 47,
   "source": [
    "## Bagging\n",
    "\n",
    "# Linear SVC\n",
    "# - Les SVM (Support Vector Machines), aussi appelées en français Machines à Vecteurs de Support et parfois Séparatrices à Vaste Marge, cherchent à séparer linéairement les données.\n",
    "# - La version primale résout un problème d'optimisation à p variables et est donc préférable si on a moins de variables que d'échantillons.\n",
    "# - À l'inverse, la version duale résout un problème d'optimisation à n variables et est donc préférable si on a moins d'échantillons que de variables.\n",
    "# - Les vecteurs de support sont les points du jeu de données qui sont les plus proches de l'hyperplan séparateur.\n",
    "# - La fonction de décision peut s'exprimer uniquement en fonction du produit scalaire du point à étiqueter avec les vecteurs de support.\n",
    "\n",
    "from sklearn.tree import DecisionTreeClassifier\n",
    "from sklearn.linear_model import ElasticNet\n",
    "from sklearn.svm import SVC\n",
    "from sklearn.ensemble import BaggingClassifier\n",
    "\n",
    "\n",
    "# Compute scores\n",
    "best_model_score = models_helpers.find_best_params_classifier(\n",
    "    X_train=X_train, y_train=y_train, X_test=X_test, y_test=y_test,\n",
    "    estimator=BaggingClassifier(random_state=42),\n",
    "    params={\n",
    "        \"base_estimator\": [\n",
    "            DecisionTreeClassifier(),\n",
    "            DecisionTreeClassifier(max_depth=2),\n",
    "            DecisionTreeClassifier(max_depth=10),\n",
    "            ElasticNet(),\n",
    "            SVC(),\n",
    "        ],\n",
    "        \"n_estimators\": np.logspace(1, 3, 10).astype(int),\n",
    "        \"max_samples\": np.logspace(1, 4, 10).astype(int),\n",
    "        \"max_features\": np.linspace(5, int(len(X_train.columns)/2), 5).astype(int),\n",
    "    },\n",
    ")\n",
    "print({\n",
    "    \"params\": best_model_score['params'], \n",
    "    \"score\": best_model_score['score'],\n",
    "    \"time\": best_model_score['time'],\n",
    "})\n",
    "results = results.append(best_model_score, ignore_index=True)\n",
    "\n",
    "# Plot best model curves\n",
    "vis_helpers.plot_classifier_results(\n",
    "    classifier=best_model_score['model'],\n",
    "    X_test=X_test,\n",
    "    y_test=y_test,\n",
    ")\n"
   ],
   "outputs": [
    {
     "output_type": "stream",
     "name": "stdout",
     "text": [
      "n_iterations: 6\n",
      "n_required_iterations: 6\n",
      "n_possible_iterations: 8\n",
      "min_resources_: 40\n",
      "max_resources_: 201709\n",
      "aggressive_elimination: False\n",
      "factor: 3\n",
      "----------\n",
      "iter: 0\n",
      "n_candidates: 625\n",
      "n_resources: 40\n",
      "Fitting 10 folds for each of 625 candidates, totalling 6250 fits\n",
      "----------\n",
      "iter: 1\n",
      "n_candidates: 209\n",
      "n_resources: 120\n",
      "Fitting 10 folds for each of 209 candidates, totalling 2090 fits\n",
      "----------\n",
      "iter: 2\n",
      "n_candidates: 70\n",
      "n_resources: 360\n",
      "Fitting 10 folds for each of 70 candidates, totalling 700 fits\n",
      "----------\n",
      "iter: 3\n",
      "n_candidates: 24\n",
      "n_resources: 1080\n",
      "Fitting 10 folds for each of 24 candidates, totalling 240 fits\n",
      "----------\n",
      "iter: 4\n",
      "n_candidates: 8\n",
      "n_resources: 3240\n",
      "Fitting 10 folds for each of 8 candidates, totalling 80 fits\n",
      "----------\n",
      "iter: 5\n",
      "n_candidates: 3\n",
      "n_resources: 9720\n",
      "Fitting 10 folds for each of 3 candidates, totalling 30 fits\n",
      "{'params': {'n_estimators': 10, 'max_samples': 1000, 'max_features': 15, 'base_estimator': DecisionTreeClassifier(max_depth=2)}, 'score': 0.0, 'time': 0.21506094932556152}\n"
     ]
    },
    {
     "output_type": "display_data",
     "data": {
      "image/png": "[encoded data removed]",
      "text/plain": [
       "<Figure size 432x288 with 2 Axes>"
      ]
     },
     "metadata": {
      "needs_background": "light"
     }
    },
    {
     "output_type": "display_data",
     "data": {
      "image/png": "[encoded data removed]",
      "text/plain": [
       "<Figure size 432x288 with 1 Axes>"
      ]
     },
     "metadata": {
      "needs_background": "light"
     }
    },
    {
     "output_type": "display_data",
     "data": {
      "image/png": "[encoded data removed]",
      "text/plain": [
       "<Figure size 432x288 with 1 Axes>"
      ]
     },
     "metadata": {
      "needs_background": "light"
     }
    }
   ],
   "metadata": {}
  },
  {
   "cell_type": "markdown",
   "source": [
    "### Random Forest\n",
    "\n"
   ],
   "metadata": {}
  },
  {
   "cell_type": "code",
   "execution_count": 48,
   "source": [
    "## Random Forest\n",
    "\n",
    "\n",
    "from sklearn.ensemble import RandomForestClassifier\n",
    "\n",
    "\n",
    "# Compute scores\n",
    "best_model_score = models_helpers.find_best_params_classifier(\n",
    "    X_train=X_train, y_train=y_train, X_test=X_test, y_test=y_test,\n",
    "    estimator=RandomForestClassifier(random_state=42),\n",
    "    params={\n",
    "        \"n_estimators\": np.logspace(1, 3, 10).astype(int),\n",
    "        \"max_depth\": [None, 2, 10],\n",
    "        \"max_features\": [\"auto\", \"sqrt\", \"log2\"],\n",
    "    },\n",
    ")\n",
    "print({\n",
    "    \"params\": best_model_score['params'], \n",
    "    \"score\": best_model_score['score'],\n",
    "    \"time\": best_model_score['time'],\n",
    "})\n",
    "results = results.append(best_model_score, ignore_index=True)\n",
    "\n",
    "# Plot best model curves\n",
    "vis_helpers.plot_classifier_results(\n",
    "    classifier=best_model_score['model'],\n",
    "    X_test=X_test,\n",
    "    y_test=y_test,\n",
    ")\n"
   ],
   "outputs": [
    {
     "output_type": "stream",
     "name": "stdout",
     "text": [
      "n_iterations: 4\n",
      "n_required_iterations: 4\n",
      "n_possible_iterations: 8\n",
      "min_resources_: 40\n",
      "max_resources_: 201709\n",
      "aggressive_elimination: False\n",
      "factor: 3\n",
      "----------\n",
      "iter: 0\n",
      "n_candidates: 60\n",
      "n_resources: 40\n",
      "Fitting 10 folds for each of 60 candidates, totalling 600 fits\n",
      "----------\n",
      "iter: 1\n",
      "n_candidates: 20\n",
      "n_resources: 120\n",
      "Fitting 10 folds for each of 20 candidates, totalling 200 fits\n",
      "----------\n",
      "iter: 2\n",
      "n_candidates: 7\n",
      "n_resources: 360\n",
      "Fitting 10 folds for each of 7 candidates, totalling 70 fits\n",
      "----------\n",
      "iter: 3\n",
      "n_candidates: 3\n",
      "n_resources: 1080\n",
      "Fitting 10 folds for each of 3 candidates, totalling 30 fits\n",
      "{'params': {'n_estimators': 16, 'max_features': 'sqrt', 'max_depth': None}, 'score': 0.02222222222222222, 'time': 16.810848712921143}\n"
     ]
    },
    {
     "output_type": "display_data",
     "data": {
      "image/png": "[encoded data removed]",
      "text/plain": [
       "<Figure size 432x288 with 2 Axes>"
      ]
     },
     "metadata": {
      "needs_background": "light"
     }
    },
    {
     "output_type": "display_data",
     "data": {
      "image/png": "[encoded data removed]",
      "text/plain": [
       "<Figure size 432x288 with 1 Axes>"
      ]
     },
     "metadata": {
      "needs_background": "light"
     }
    },
    {
     "output_type": "display_data",
     "data": {
      "image/png": "[encoded data removed]",
      "text/plain": [
       "<Figure size 432x288 with 1 Axes>"
      ]
     },
     "metadata": {
      "needs_background": "light"
     }
    }
   ],
   "metadata": {}
  },
  {
   "cell_type": "markdown",
   "source": [
    "### XGBoost\n",
    "\n"
   ],
   "metadata": {}
  },
  {
   "cell_type": "code",
   "execution_count": 50,
   "source": [
    "## XGBoost\n",
    "\n",
    "from xgboost import XGBClassifier\n",
    "\n",
    "\n",
    "# Compute scores\n",
    "best_model_score = models_helpers.find_best_params_classifier(\n",
    "    X_train=X_train, y_train=y_train, X_test=X_test, y_test=y_test,\n",
    "    estimator=XGBClassifier(random_state=42),\n",
    "    params={\n",
    "        \"n_estimators\": np.logspace(1, 3, 5).astype(int),\n",
    "        \"learning_rate\": np.linspace(0.01, 0.5, 5),\n",
    "    },\n",
    ")\n",
    "print({\n",
    "    \"params\": best_model_score['params'], \n",
    "    \"score\": best_model_score['score'],\n",
    "    \"time\": best_model_score['time'],\n",
    "})\n",
    "results = results.append(best_model_score, ignore_index=True)\n",
    "\n",
    "# Plot best model curves\n",
    "vis_helpers.plot_classifier_results(\n",
    "    classifier=best_model_score['model'],\n",
    "    X_test=X_test,\n",
    "    y_test=y_test,\n",
    ")\n"
   ],
   "outputs": [
    {
     "output_type": "stream",
     "name": "stdout",
     "text": [
      "n_iterations: 3\n",
      "n_required_iterations: 3\n",
      "n_possible_iterations: 8\n",
      "min_resources_: 40\n",
      "max_resources_: 201709\n",
      "aggressive_elimination: False\n",
      "factor: 3\n",
      "----------\n",
      "iter: 0\n",
      "n_candidates: 25\n",
      "n_resources: 40\n",
      "Fitting 10 folds for each of 25 candidates, totalling 250 fits\n",
      "----------\n",
      "iter: 1\n",
      "n_candidates: 9\n",
      "n_resources: 120\n",
      "Fitting 10 folds for each of 9 candidates, totalling 90 fits\n",
      "----------\n",
      "iter: 2\n",
      "n_candidates: 3\n",
      "n_resources: 360\n",
      "Fitting 10 folds for each of 3 candidates, totalling 30 fits\n",
      "[19:58:13] WARNING: /tmp/build/80754af9/xgboost-split_1619724447847/work/src/learner.cc:1061: Starting in XGBoost 1.3.0, the default evaluation metric used with the objective 'binary:logistic' was changed from 'error' to 'logloss'. Explicitly set eval_metric if you'd like to restore the old behavior.\n",
      "{'params': {'n_estimators': 31, 'learning_rate': 0.01}, 'score': 0.10666666666666666, 'time': 13.98434066772461}\n"
     ]
    },
    {
     "output_type": "display_data",
     "data": {
      "image/png": "[encoded data removed]",
      "text/plain": [
       "<Figure size 432x288 with 2 Axes>"
      ]
     },
     "metadata": {
      "needs_background": "light"
     }
    },
    {
     "output_type": "display_data",
     "data": {
      "image/png": "[encoded data removed]",
      "text/plain": [
       "<Figure size 432x288 with 1 Axes>"
      ]
     },
     "metadata": {
      "needs_background": "light"
     }
    },
    {
     "output_type": "display_data",
     "data": {
      "image/png": "[encoded data removed]",
      "text/plain": [
       "<Figure size 432x288 with 1 Axes>"
      ]
     },
     "metadata": {
      "needs_background": "light"
     }
    }
   ],
   "metadata": {}
  },
  {
   "cell_type": "markdown",
   "source": [
    "### LGBMClassifier\n",
    "\n"
   ],
   "metadata": {}
  },
  {
   "cell_type": "code",
   "execution_count": 53,
   "source": [
    "## LGBMClassifier\n",
    "\n",
    "\n",
    "from lightgbm import LGBMClassifier\n",
    "import re\n",
    "\n",
    "\n",
    "X_train = X_train.rename(columns = lambda x:re.sub('[^A-Za-z0-9_]+', '', x))\n",
    "X_test = X_test.rename(columns = lambda x:re.sub('[^A-Za-z0-9_]+', '', x))\n",
    "\n",
    "\n",
    "# Compute scores\n",
    "best_model_score = models_helpers.find_best_params_classifier(\n",
    "    X_train=X_train, y_train=y_train, X_test=X_test, y_test=y_test,\n",
    "    estimator=LGBMClassifier(random_state=42),\n",
    "    params={\n",
    "        \"n_estimators\": np.logspace(1, 3, 5).astype(int),\n",
    "        \"learning_rate\": np.linspace(0.01, 0.5, 5),\n",
    "    },\n",
    ")\n",
    "print({\n",
    "    \"params\": best_model_score['params'], \n",
    "    \"score\": best_model_score['score'],\n",
    "    \"time\": best_model_score['time'],\n",
    "})\n",
    "results = results.append(best_model_score, ignore_index=True)\n",
    "\n",
    "# Plot best model curves\n",
    "vis_helpers.plot_classifier_results(\n",
    "    classifier=best_model_score['model'],\n",
    "    X_test=X_test,\n",
    "    y_test=y_test,\n",
    ")\n"
   ],
   "outputs": [
    {
     "output_type": "stream",
     "name": "stdout",
     "text": [
      "n_iterations: 3\n",
      "n_required_iterations: 3\n",
      "n_possible_iterations: 8\n",
      "min_resources_: 40\n",
      "max_resources_: 201709\n",
      "aggressive_elimination: False\n",
      "factor: 3\n",
      "----------\n",
      "iter: 0\n",
      "n_candidates: 25\n",
      "n_resources: 40\n",
      "Fitting 10 folds for each of 25 candidates, totalling 250 fits\n",
      "----------\n",
      "iter: 1\n",
      "n_candidates: 9\n",
      "n_resources: 120\n",
      "Fitting 10 folds for each of 9 candidates, totalling 90 fits\n",
      "----------\n",
      "iter: 2\n",
      "n_candidates: 3\n",
      "n_resources: 360\n",
      "Fitting 10 folds for each of 3 candidates, totalling 30 fits\n",
      "{'params': {'n_estimators': 31, 'learning_rate': 0.255}, 'score': 0.05, 'time': 1.853083610534668}\n"
     ]
    },
    {
     "output_type": "display_data",
     "data": {
      "image/png": "[encoded data removed]",
      "text/plain": [
       "<Figure size 432x288 with 2 Axes>"
      ]
     },
     "metadata": {
      "needs_background": "light"
     }
    },
    {
     "output_type": "display_data",
     "data": {
      "image/png": "[encoded data removed]",
      "text/plain": [
       "<Figure size 432x288 with 1 Axes>"
      ]
     },
     "metadata": {
      "needs_background": "light"
     }
    },
    {
     "output_type": "display_data",
     "data": {
      "image/png": "[encoded data removed]",
      "text/plain": [
       "<Figure size 432x288 with 1 Axes>"
      ]
     },
     "metadata": {
      "needs_background": "light"
     }
    }
   ],
   "metadata": {}
  },
  {
   "cell_type": "markdown",
   "source": [
    "### MLPClassifier\n",
    "\n"
   ],
   "metadata": {}
  },
  {
   "cell_type": "code",
   "execution_count": 54,
   "source": [
    "from sklearn.neural_network import MLPClassifier\n",
    "\n",
    "\n",
    "# Compute scores\n",
    "best_model_score = models_helpers.find_best_params_classifier(\n",
    "    X_train=X_train, y_train=y_train, X_test=X_test, y_test=y_test,\n",
    "    estimator=MLPClassifier(random_state=42),\n",
    "    params={\n",
    "        \"hidden_layer_sizes\": [(2,), (2,3,), (2,3,5,), (2,5,3,), (3,), (3,5,), (5,3,), (5,), (10,), (20,)],\n",
    "        \"alpha\": np.logspace(-5, 1, 5),\n",
    "    },\n",
    ")\n",
    "print({\n",
    "    \"params\": best_model_score['params'], \n",
    "    \"score\": best_model_score['score'],\n",
    "    \"time\": best_model_score['time'],\n",
    "})\n",
    "results = results.append(best_model_score, ignore_index=True)\n",
    "\n",
    "# Plot best model curves\n",
    "vis_helpers.plot_classifier_results(\n",
    "    classifier=best_model_score['model'],\n",
    "    X_test=X_test,\n",
    "    y_test=y_test,\n",
    ")\n"
   ],
   "outputs": [
    {
     "output_type": "stream",
     "name": "stdout",
     "text": [
      "n_iterations: 4\n",
      "n_required_iterations: 4\n",
      "n_possible_iterations: 8\n",
      "min_resources_: 40\n",
      "max_resources_: 201709\n",
      "aggressive_elimination: False\n",
      "factor: 3\n",
      "----------\n",
      "iter: 0\n",
      "n_candidates: 50\n",
      "n_resources: 40\n",
      "Fitting 10 folds for each of 50 candidates, totalling 500 fits\n",
      "----------\n",
      "iter: 1\n",
      "n_candidates: 17\n",
      "n_resources: 120\n",
      "Fitting 10 folds for each of 17 candidates, totalling 170 fits\n",
      "----------\n",
      "iter: 2\n",
      "n_candidates: 6\n",
      "n_resources: 360\n",
      "Fitting 10 folds for each of 6 candidates, totalling 60 fits\n",
      "----------\n",
      "iter: 3\n",
      "n_candidates: 2\n",
      "n_resources: 1080\n",
      "Fitting 10 folds for each of 2 candidates, totalling 20 fits\n",
      "{'params': {'hidden_layer_sizes': (2, 3), 'alpha': 0.00031622776601683794}, 'score': 0.032467532467532464, 'time': 14.590997457504272}\n"
     ]
    },
    {
     "output_type": "display_data",
     "data": {
      "image/png": "[encoded data removed]",
      "text/plain": [
       "<Figure size 432x288 with 2 Axes>"
      ]
     },
     "metadata": {
      "needs_background": "light"
     }
    },
    {
     "output_type": "display_data",
     "data": {
      "image/png": "[encoded data removed]",
      "text/plain": [
       "<Figure size 432x288 with 1 Axes>"
      ]
     },
     "metadata": {
      "needs_background": "light"
     }
    },
    {
     "output_type": "display_data",
     "data": {
      "image/png": "[encoded data removed]",
      "text/plain": [
       "<Figure size 432x288 with 1 Axes>"
      ]
     },
     "metadata": {
      "needs_background": "light"
     }
    }
   ],
   "metadata": {}
  },
  {
   "cell_type": "code",
   "execution_count": 55,
   "source": [
    "## AutoML with FLAML\n",
    "\n",
    "from flaml import AutoML\n",
    "\n",
    "\n",
    "# Initialize an AutoML instance\n",
    "automl = AutoML()\n",
    "# Specify automl goal and constraint\n",
    "automl_settings = {\n",
    "    \"time_budget\": 600,  # in seconds\n",
    "    \"metric\": 'f1',\n",
    "    \"task\": 'classification',\n",
    "}\n",
    "X_train, y_train = load_boston(return_X_y=True)\n",
    "# Train with labeled input data\n",
    "automl.fit(X_train=X_train, y_train=y_train,\n",
    "           **automl_settings)\n",
    "# Predict\n",
    "print(automl.predict(X_train))\n",
    "# Export the best model\n",
    "print(automl.model)\n",
    "\n",
    "\n",
    "automl = AutoML()\n",
    "automl.fit(X_train, y_train, task=\"classification\")\n",
    "\n",
    "\n",
    "\n",
    "# Compute scores\n",
    "best_model_score = models_helpers.find_best_params_classifier(\n",
    "    X_train=X_train, y_train=y_train, X_test=X_test, y_test=y_test,\n",
    "    estimator=AutoML(task=\"classification\", random_state=42),\n",
    "    params={},\n",
    ")\n",
    "print({\n",
    "    \"params\": best_model_score['params'], \n",
    "    \"score\": best_model_score['score'],\n",
    "    \"time\": best_model_score['time'],\n",
    "})\n",
    "results = results.append(best_model_score, ignore_index=True)\n",
    "\n",
    "# Plot best model curves\n",
    "vis_helpers.plot_classifier_results(\n",
    "    classifier=best_model_score['model'],\n",
    "    X_test=X_test,\n",
    "    y_test=y_test,\n",
    ")\n"
   ],
   "outputs": [
    {
     "output_type": "error",
     "ename": "ModuleNotFoundError",
     "evalue": "No module named 'flaml'",
     "traceback": [
      "\u001b[0;31m---------------------------------------------------------------------------\u001b[0m",
      "\u001b[0;31mModuleNotFoundError\u001b[0m                       Traceback (most recent call last)",
      "\u001b[0;32m<ipython-input-55-723104ff40c7>\u001b[0m in \u001b[0;36m<module>\u001b[0;34m\u001b[0m\n\u001b[1;32m      1\u001b[0m \u001b[0;31m## AutoML with FLAML\u001b[0m\u001b[0;34m\u001b[0m\u001b[0;34m\u001b[0m\u001b[0;34m\u001b[0m\u001b[0m\n\u001b[1;32m      2\u001b[0m \u001b[0;34m\u001b[0m\u001b[0m\n\u001b[0;32m----> 3\u001b[0;31m \u001b[0;32mfrom\u001b[0m \u001b[0mflaml\u001b[0m \u001b[0;32mimport\u001b[0m \u001b[0mAutoML\u001b[0m\u001b[0;34m\u001b[0m\u001b[0;34m\u001b[0m\u001b[0m\n\u001b[0m\u001b[1;32m      4\u001b[0m \u001b[0;34m\u001b[0m\u001b[0m\n\u001b[1;32m      5\u001b[0m \u001b[0;34m\u001b[0m\u001b[0m\n",
      "\u001b[0;31mModuleNotFoundError\u001b[0m: No module named 'flaml'"
     ]
    }
   ],
   "metadata": {}
  },
  {
   "cell_type": "markdown",
   "source": [
    "\n",
    "---\n",
    "\n",
    "# Annexe\n",
    "\n",
    "Les Notebooks Kaggle [Introduction: Home Credit Default Risk Competition](https://www.kaggle.com/willkoehrsen/start-here-a-gentle-introduction) (et suivants) de [Will Koehrsen](https://www.kaggle.com/willkoehrsen) ont été d'une très grande aide dans l'exploration des données.\n",
    "\n",
    "Comment bien choisir la métrique de score d'un algorithme de classification ?\n",
    "\n",
    "![How to Choose a Metric for Imbalanced Classification](https://machinelearningmastery.com/wp-content/uploads/2019/12/How-to-Choose-a-Metric-for-Imbalanced-Classification-latest.png)"
   ],
   "metadata": {}
  }
 ],
 "metadata": {
  "interpreter": {
   "hash": "87142f5ce831c365860d10ab1d6251a6bfb068b987aa68f91a7996e4fcdedd96"
  },
  "kernelspec": {
   "name": "python3",
   "display_name": "Python 3.9.5 64-bit (conda)"
  },
  "language_info": {
   "codemirror_mode": {
    "name": "ipython",
    "version": 3
   },
   "file_extension": ".py",
   "mimetype": "text/x-python",
   "name": "python",
   "nbconvert_exporter": "python",
   "pygments_lexer": "ipython3",
   "version": "3.9.5"
  }
 },
 "nbformat": 4,
 "nbformat_minor": 4
}