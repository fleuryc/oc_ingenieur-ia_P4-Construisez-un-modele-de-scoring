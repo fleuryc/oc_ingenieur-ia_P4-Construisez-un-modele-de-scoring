{
 "cells": [
  {
   "cell_type": "markdown",
   "source": [
    "## Import dependancies\n"
   ],
   "metadata": {}
  },
  {
   "cell_type": "code",
   "execution_count": null,
   "source": [
    "import os\n",
    "import sys\n",
    "\n",
    "src_path = os.path.abspath(os.path.join(\"../src\"))\n",
    "if src_path not in sys.path:\n",
    "    sys.path.append(src_path)\n",
    "\n",
    "import data.make_dataset as make_dataset\n",
    "import visualization.visualize as visualize\n",
    "import features.build_features as build_features\n",
    "\n",
    "# numpy and pandas for data manipulation\n",
    "import numpy as np\n",
    "import pandas as pd\n",
    "\n",
    "# sklearn preprocessing for dealing with categorical variables\n",
    "from sklearn.preprocessing import LabelEncoder\n",
    "\n",
    "# File system manangement\n",
    "import os\n",
    "\n",
    "# matplotlib and seaborn for plotting\n",
    "import matplotlib.pyplot as plt\n",
    "import seaborn as sns\n",
    "import plotly.express as px\n",
    "\n"
   ],
   "outputs": [],
   "metadata": {}
  },
  {
   "cell_type": "markdown",
   "source": [
    "## Prepare data loading : set correct variable types\n"
   ],
   "metadata": {}
  },
  {
   "cell_type": "code",
   "execution_count": null,
   "source": [
    "# Read column names\n",
    "column_names = pd.read_csv(\n",
    "    \"../data/processed/application_train.csv\", nrows=0\n",
    ").columns.values\n",
    "\n",
    "# Set column types according to fields description (https://static.openfoodfacts.org/data/data-fields.txt)\n",
    "column_types = {\n",
    "    col: \"category\"\n",
    "    for col in column_names\n",
    "    if col.startswith((\"NAME_\",))\n",
    "    or col.endswith((\"_TYPE\"))\n",
    "    or col\n",
    "    in [\n",
    "        \"CODE_GENDER\",\n",
    "        \"WEEKDAY_APPR_PROCESS_START\",\n",
    "        \"FONDKAPREMONT_MODE\",\n",
    "        \"HOUSETYPE_MODE\",\n",
    "        \"WALLSMATERIAL_MODE\",\n",
    "        \"EMERGENCYSTATE_MODE\",\n",
    "    ]\n",
    "}\n",
    "column_types |= {\n",
    "    col: bool\n",
    "    for col in column_names\n",
    "    if col.startswith((\"FLAG_\", \"REG_\", \"LIVE_\"))\n",
    "}\n"
   ],
   "outputs": [],
   "metadata": {}
  },
  {
   "cell_type": "markdown",
   "source": [
    "## Application and Test data loading and first observations\n"
   ],
   "metadata": {}
  },
  {
   "cell_type": "markdown",
   "source": [
    "### Application training data\n"
   ],
   "metadata": {}
  },
  {
   "cell_type": "code",
   "execution_count": null,
   "source": [
    "# Load application data\n",
    "app_train_df = pd.read_csv(\n",
    "    \"../data/processed/application_train.csv\",\n",
    "    dtype=column_types,\n",
    "    true_values=[\"Y\", \"Yes\", \"1\"],\n",
    "    false_values=[\"N\", \"No\", \"0\"],\n",
    "    na_values=[\"XNA\"],\n",
    ")\n",
    "\n",
    "# Application data features\n",
    "app_train_df.head()\n"
   ],
   "outputs": [],
   "metadata": {}
  },
  {
   "cell_type": "code",
   "execution_count": null,
   "source": [
    "# Application data columns info\n",
    "app_train_df.info()\n"
   ],
   "outputs": [],
   "metadata": {}
  },
  {
   "cell_type": "code",
   "execution_count": null,
   "source": [
    "# Application data variables description\n",
    "app_train_df.describe(include=\"all\")\n"
   ],
   "outputs": [],
   "metadata": {}
  },
  {
   "cell_type": "markdown",
   "source": [
    "### Application testing data\n"
   ],
   "metadata": {}
  },
  {
   "cell_type": "code",
   "execution_count": null,
   "source": [
    "# Load test data\n",
    "app_test_df = pd.read_csv(\n",
    "    \"../data/processed/application_test.csv\",\n",
    "    dtype=column_types,\n",
    "    true_values=[\"Y\", \"Yes\", \"1\"],\n",
    "    false_values=[\"N\", \"No\", \"0\"],\n",
    "    na_values=[\"XNA\"],\n",
    ")\n",
    "\n",
    "# Test data features\n",
    "app_test_df.head()\n"
   ],
   "outputs": [],
   "metadata": {}
  },
  {
   "cell_type": "code",
   "execution_count": null,
   "source": [
    "# Test data columns info\n",
    "app_test_df.info()\n"
   ],
   "outputs": [],
   "metadata": {}
  },
  {
   "cell_type": "code",
   "execution_count": null,
   "source": [
    "# Test data variables description\n",
    "app_test_df.describe(include=\"all\")\n"
   ],
   "outputs": [],
   "metadata": {}
  },
  {
   "cell_type": "markdown",
   "source": [
    "## Exploratory Data Analysis (EDA)\n"
   ],
   "metadata": {}
  },
  {
   "cell_type": "markdown",
   "source": [
    "### Look for empty columns"
   ],
   "metadata": {}
  },
  {
   "cell_type": "code",
   "execution_count": null,
   "source": [
    "# Plot application columns emptiness ratio\n",
    "visualize.plot_empty_values(app_train_df)\n"
   ],
   "outputs": [],
   "metadata": {}
  },
  {
   "cell_type": "code",
   "execution_count": null,
   "source": [
    "# Plot test columns emptiness ratio\n",
    "visualize.plot_empty_values(app_test_df)\n"
   ],
   "outputs": [],
   "metadata": {}
  },
  {
   "cell_type": "markdown",
   "source": [
    "### Look at numerical variables\n"
   ],
   "metadata": {}
  },
  {
   "cell_type": "code",
   "execution_count": null,
   "source": [
    "clean_app_train_df = build_features.drop_impossible_values(\n",
    "    app_train_df,\n",
    "    constraints={\n",
    "        \"AMT_INCOME_TOTAL\": {\"min\": 0, \"max\": 20 * 1000 * 1000,},\n",
    "        \"DAYS_EMPLOYED\": {\"min\": -100 * 365, \"max\": 0,},\n",
    "        \"AMT_REQ_CREDIT_BUREAU_QRT\": {\"min\": 0, \"max\": 20,},\n",
    "        \"OBS_30_CNT_SOCIAL_CIRCLE\": {\"min\": 0, \"max\": 200,},\n",
    "        \"DEF_30_CNT_SOCIAL_CIRCLE\": {\"min\": 0, \"max\": 20,},\n",
    "        \"OBS_60_CNT_SOCIAL_CIRCLE\": {\"min\": 0, \"max\": 200,},\n",
    "        \"DEF_60_CNT_SOCIAL_CIRCLE\": {\"min\": 0, \"max\": 20,},\n",
    "    },\n",
    ")\n",
    "clean_app_train_df = build_features.drop_outliers(\n",
    "    clean_app_train_df, columns=[\"REGION_POPULATION_RELATIVE\"],\n",
    ")\n",
    "\n",
    "# Draw the BoxPlots of each numeric column, split per Nutrition Grade\n",
    "visualize.plot_boxes(\n",
    "    dataframe=clean_app_train_df,\n",
    "    plot_columns=[\n",
    "        \"AMT_INCOME_TOTAL\",\n",
    "        \"AMT_CREDIT\",\n",
    "        \"AMT_ANNUITY\",\n",
    "        \"AMT_GOODS_PRICE\",\n",
    "        \"DAYS_BIRTH\",\n",
    "        \"DAYS_EMPLOYED\",\n",
    "        \"OWN_CAR_AGE\",\n",
    "        \"REGION_RATING_CLIENT\",\n",
    "        \"REGION_RATING_CLIENT_W_CITY\",\n",
    "        \"EXT_SOURCE_1\",\n",
    "        \"EXT_SOURCE_2\",\n",
    "        \"EXT_SOURCE_3\",\n",
    "        \"DAYS_LAST_PHONE_CHANGE\",\n",
    "        \"AMT_REQ_CREDIT_BUREAU_YEAR\",\n",
    "    ],\n",
    "    categorical_column=\"TARGET\",\n",
    ")\n"
   ],
   "outputs": [],
   "metadata": {}
  },
  {
   "cell_type": "code",
   "execution_count": null,
   "source": [
    "clean_app_test_df = build_features.drop_impossible_values(\n",
    "    app_test_df,\n",
    "    constraints={\n",
    "        \"DAYS_EMPLOYED\": {\"min\": -100 * 365, \"max\": 0,},\n",
    "        \"AMT_REQ_CREDIT_BUREAU_QRT\": {\"min\": 0, \"max\": 20,},\n",
    "        \"OBS_30_CNT_SOCIAL_CIRCLE\": {\"min\": 0, \"max\": 200,},\n",
    "        \"DEF_30_CNT_SOCIAL_CIRCLE\": {\"min\": 0, \"max\": 20,},\n",
    "        \"OBS_60_CNT_SOCIAL_CIRCLE\": {\"min\": 0, \"max\": 200,},\n",
    "        \"DEF_60_CNT_SOCIAL_CIRCLE\": {\"min\": 0, \"max\": 20,},\n",
    "    },\n",
    ")\n",
    "clean_app_test_df = build_features.drop_outliers(\n",
    "    clean_app_test_df, columns=[\"REGION_POPULATION_RELATIVE\"],\n",
    ")\n"
   ],
   "outputs": [],
   "metadata": {}
  },
  {
   "cell_type": "markdown",
   "source": [
    "### Look at categorical variables\n"
   ],
   "metadata": {}
  },
  {
   "cell_type": "code",
   "execution_count": null,
   "source": [
    "visualize.plot_categories_bars(\n",
    "    clean_app_train_df,\n",
    "    plot_columns=[\n",
    "        \"NAME_CONTRACT_TYPE\",\n",
    "        \"CODE_GENDER\",\n",
    "        \"FLAG_OWN_CAR\",\n",
    "        \"FLAG_OWN_REALTY\",\n",
    "        \"NAME_INCOME_TYPE\",\n",
    "        \"NAME_EDUCATION_TYPE\",\n",
    "        \"NAME_FAMILY_STATUS\",\n",
    "        \"NAME_HOUSING_TYPE\",\n",
    "        \"OCCUPATION_TYPE\",\n",
    "        \"FLAG_MOBIL\",\n",
    "    ],\n",
    "    categorical_column=\"TARGET\",\n",
    ")\n"
   ],
   "outputs": [],
   "metadata": {}
  },
  {
   "cell_type": "markdown",
   "source": [
    "#### One Hot Encoding\n",
    "\n",
    "No ordinal data => One Hot Encoding is better than Label Encoding\n"
   ],
   "metadata": {}
  },
  {
   "cell_type": "code",
   "execution_count": null,
   "source": [
    "# one-hot encoding of categorical variables\n",
    "encoded_app_train_df = pd.get_dummies(clean_app_train_df, dtype=bool)\n",
    "encoded_app_test_df = pd.get_dummies(clean_app_test_df, dtype=bool)\n",
    "\n",
    "train_labels = encoded_app_train_df[\"TARGET\"]\n",
    "\n",
    "# Align the training and testing data, keep only columns present in both dataframes\n",
    "encoded_app_train_df, encoded_app_test_df = encoded_app_train_df.align(\n",
    "    encoded_app_test_df, join=\"inner\", axis=1\n",
    ")\n",
    "\n",
    "# Add the target back in\n",
    "encoded_app_train_df[\"TARGET\"] = train_labels\n",
    "\n",
    "print(\"Training Features shape: \", encoded_app_train_df.shape)\n",
    "print(\"Testing Features shape: \", encoded_app_test_df.shape)\n"
   ],
   "outputs": [],
   "metadata": {}
  },
  {
   "cell_type": "markdown",
   "source": [
    "#### Features selection\n",
    "\n",
    "Variables that are not highly correlated to an other, and at least a bit correlated to TARGET."
   ],
   "metadata": {}
  },
  {
   "cell_type": "code",
   "execution_count": null,
   "source": [
    "corrs_app_train_df = encoded_app_train_df.corr()\n",
    "fig = px.imshow(corrs_app_train_df,\n",
    "    title=\"Correlations between features\",\n",
    "    width=1200,\n",
    "    height=1200,\n",
    ")\n",
    "fig.show()"
   ],
   "outputs": [],
   "metadata": {}
  },
  {
   "cell_type": "code",
   "execution_count": null,
   "source": [
    "highly_correlated_columns = []\n",
    "for i in range(len(corrs_app_train_df.columns)):\n",
    "    for j in range(i + 1, len(corrs_app_train_df.columns)):\n",
    "        if i != j and abs(corrs_app_train_df.iloc[i, j]) > 0.99:\n",
    "            highly_correlated_columns.append(corrs_app_train_df.columns[i])\n",
    "            print(\n",
    "                \"Highly correlated pair : \",\n",
    "                corrs_app_train_df.columns[i],\n",
    "                corrs_app_train_df.columns[j],\n",
    "                corrs_app_train_df.iloc[i, j],\n",
    "            )\n",
    "\n",
    "simple_app_train_df = encoded_app_train_df.drop(\n",
    "    columns=highly_correlated_columns, errors=\"ignore\"\n",
    ")\n",
    "simple_app_test_df = encoded_app_test_df.drop(\n",
    "    columns=highly_correlated_columns, errors=\"ignore\"\n",
    ")\n"
   ],
   "outputs": [],
   "metadata": {}
  },
  {
   "cell_type": "code",
   "execution_count": 51,
   "source": [
    "highly_decorrelated_from_target_columns = []\n",
    "for col in corrs_app_train_df.columns:\n",
    "    if col != \"TARGET\" and (\n",
    "        pd.isnull(corrs_app_train_df[col][\"TARGET\"])\n",
    "        or abs(corrs_app_train_df[col][\"TARGET\"]) < 0.001\n",
    "    ):\n",
    "        highly_decorrelated_from_target_columns.append(col)\n",
    "        print(\n",
    "            \"Highly de-correlated from TARGET : \",\n",
    "            col,\n",
    "            corrs_app_train_df[col][\"TARGET\"],\n",
    "        )\n",
    "\n",
    "simple_app_train_df.drop(\n",
    "    columns=highly_decorrelated_from_target_columns,\n",
    "    inplace=True,\n",
    "    errors=\"ignore\",\n",
    ")\n",
    "simple_app_test_df.drop(\n",
    "    columns=highly_decorrelated_from_target_columns,\n",
    "    inplace=True,\n",
    "    errors=\"ignore\",\n",
    ")\n"
   ],
   "outputs": [
    {
     "output_type": "stream",
     "name": "stdout",
     "text": [
      "Highly de-correlated from TARGET :  FLAG_MOBIL nan\n",
      "Highly de-correlated from TARGET :  FLAG_EMP_PHONE -0.0006563079680096348\n",
      "Highly de-correlated from TARGET :  CNT_FAM_MEMBERS 0.0002967992288538199\n",
      "Highly de-correlated from TARGET :  FLAG_DOCUMENT_2 nan\n",
      "Highly de-correlated from TARGET :  FLAG_DOCUMENT_5 -0.00046403300379796935\n",
      "Highly de-correlated from TARGET :  FLAG_DOCUMENT_7 -0.0008499227318049441\n",
      "Highly de-correlated from TARGET :  FLAG_DOCUMENT_12 -0.0009119766896250866\n",
      "Highly de-correlated from TARGET :  FLAG_DOCUMENT_20 0.00013990732395460133\n",
      "Highly de-correlated from TARGET :  AMT_REQ_CREDIT_BUREAU_DAY 0.0005585034377595101\n",
      "Highly de-correlated from TARGET :  AMT_REQ_CREDIT_BUREAU_WEEK -0.00046710535991847436\n",
      "Highly de-correlated from TARGET :  NAME_TYPE_SUITE_Group of people -0.0005876729994954602\n",
      "Highly de-correlated from TARGET :  NAME_INCOME_TYPE_Unemployed nan\n",
      "Highly de-correlated from TARGET :  NAME_EDUCATION_TYPE_Incomplete higher 0.0002843003982185815\n",
      "Highly de-correlated from TARGET :  NAME_FAMILY_STATUS_Separated 8.448734794080274e-05\n",
      "Highly de-correlated from TARGET :  OCCUPATION_TYPE_Realty agents -0.0006277592370484875\n",
      "Highly de-correlated from TARGET :  WEEKDAY_APPR_PROCESS_START_WEDNESDAY -0.0001467757610986792\n",
      "Highly de-correlated from TARGET :  ORGANIZATION_TYPE_Advertising 0.00042447778303777707\n",
      "Highly de-correlated from TARGET :  ORGANIZATION_TYPE_Business Entity Type 1 -0.00035170830161797956\n",
      "Highly de-correlated from TARGET :  ORGANIZATION_TYPE_Business Entity Type 2 4.014488737702347e-06\n",
      "Highly de-correlated from TARGET :  ORGANIZATION_TYPE_Cleaning 0.00030357260147027295\n",
      "Highly de-correlated from TARGET :  ORGANIZATION_TYPE_Industry: type 10 -0.0008879206022009018\n",
      "Highly de-correlated from TARGET :  ORGANIZATION_TYPE_Industry: type 11 -8.408497410856824e-06\n",
      "Highly de-correlated from TARGET :  ORGANIZATION_TYPE_Industry: type 13 0.00021040913926609887\n",
      "Highly de-correlated from TARGET :  ORGANIZATION_TYPE_Industry: type 6 -0.0007032975461233345\n",
      "Highly de-correlated from TARGET :  ORGANIZATION_TYPE_Industry: type 7 -0.0005915715514061097\n",
      "Highly de-correlated from TARGET :  ORGANIZATION_TYPE_Industry: type 8 -0.0009039259253256893\n",
      "Highly de-correlated from TARGET :  ORGANIZATION_TYPE_Mobile 0.000943276881728224\n",
      "Highly de-correlated from TARGET :  ORGANIZATION_TYPE_Postal -1.3852189739854363e-05\n",
      "Highly de-correlated from TARGET :  ORGANIZATION_TYPE_Trade: type 1 -0.0007766645334504125\n"
     ]
    }
   ],
   "metadata": {}
  },
  {
   "cell_type": "code",
   "execution_count": 87,
   "source": [
    "columns = list(corrs_app_train_df.columns)\n",
    "columns.remove(\"TARGET\")\n",
    "top_correlated_to_target_columns = (\n",
    "    pd.Series(data={col: corrs_app_train_df[col][\"TARGET\"] for col in columns})\n",
    "    .map(abs)\n",
    "    .sort_values(ascending=False)\n",
    "    .head(20)\n",
    ")\n",
    "\n",
    "fig = px.bar(\n",
    "    top_correlated_to_target_columns,\n",
    "    color=top_correlated_to_target_columns.values,\n",
    "    title=\"Top 20 Columns Correlated to Target\",\n",
    "    labels={\n",
    "        \"index\": \"Column name\",\n",
    "        \"value\": \"Correlation\",\n",
    "        \"color\": \"Correlation\",\n",
    "    },\n",
    "    width=1200,\n",
    "    height=800,\n",
    ")\n",
    "fig.show()\n"
   ],
   "outputs": [
    {
     "output_type": "display_data",
     "data": {
      "application/vnd.plotly.v1+json": {
       "config": {
        "plotlyServerURL": "https://plot.ly"
       },
       "data": [
        {
         "alignmentgroup": "True",
         "hovertemplate": "Column name=%{x}<br>Correlation=%{marker.color}<extra></extra>",
         "legendgroup": "",
         "marker": {
          "color": [
           0.17981931588039665,
           0.16264333070563586,
           0.153200272226789,
           0.07355519028579581,
           0.0646121095193187,
           0.0639024247040367,
           0.06379558130033874,
           0.06127639664396365,
           0.05761261554208158,
           0.05562258724982666,
           0.04877429944479117,
           0.04853376531765967,
           0.04827212424456158,
           0.04797973392297306,
           0.04602130845509029,
           0.046009408708974554,
           0.04310020913564231,
           0.04179663500124509,
           0.041740844881768095,
           0.04109130738473751
          ],
          "coloraxis": "coloraxis"
         },
         "name": "",
         "offsetgroup": "",
         "orientation": "v",
         "showlegend": false,
         "textposition": "auto",
         "type": "bar",
         "x": [
          "EXT_SOURCE_3",
          "EXT_SOURCE_2",
          "EXT_SOURCE_1",
          "DAYS_EMPLOYED",
          "DAYS_BIRTH",
          "NAME_EDUCATION_TYPE_Higher education",
          "REGION_RATING_CLIENT_W_CITY",
          "REGION_RATING_CLIENT",
          "NAME_EDUCATION_TYPE_Secondary / secondary special",
          "DAYS_LAST_PHONE_CHANGE",
          "FLOORSMAX_AVG",
          "FLOORSMAX_MEDI",
          "AMT_GOODS_PRICE",
          "FLOORSMAX_MODE",
          "CODE_GENDER_M",
          "CODE_GENDER_F",
          "EMERGENCYSTATE_MODE_No",
          "REG_CITY_NOT_WORK_CITY",
          "HOUSETYPE_MODE_block of flats",
          "NAME_INCOME_TYPE_Working"
         ],
         "xaxis": "x",
         "y": [
          0.17981931588039665,
          0.16264333070563586,
          0.153200272226789,
          0.07355519028579581,
          0.0646121095193187,
          0.0639024247040367,
          0.06379558130033874,
          0.06127639664396365,
          0.05761261554208158,
          0.05562258724982666,
          0.04877429944479117,
          0.04853376531765967,
          0.04827212424456158,
          0.04797973392297306,
          0.04602130845509029,
          0.046009408708974554,
          0.04310020913564231,
          0.04179663500124509,
          0.041740844881768095,
          0.04109130738473751
         ],
         "yaxis": "y"
        }
       ],
       "layout": {
        "barmode": "relative",
        "coloraxis": {
         "colorbar": {
          "title": {
           "text": "Correlation"
          }
         },
         "colorscale": [
          [
           0,
           "#0d0887"
          ],
          [
           0.1111111111111111,
           "#46039f"
          ],
          [
           0.2222222222222222,
           "#7201a8"
          ],
          [
           0.3333333333333333,
           "#9c179e"
          ],
          [
           0.4444444444444444,
           "#bd3786"
          ],
          [
           0.5555555555555556,
           "#d8576b"
          ],
          [
           0.6666666666666666,
           "#ed7953"
          ],
          [
           0.7777777777777778,
           "#fb9f3a"
          ],
          [
           0.8888888888888888,
           "#fdca26"
          ],
          [
           1,
           "#f0f921"
          ]
         ]
        },
        "height": 800,
        "legend": {
         "tracegroupgap": 0
        },
        "template": {
         "data": {
          "bar": [
           {
            "error_x": {
             "color": "#2a3f5f"
            },
            "error_y": {
             "color": "#2a3f5f"
            },
            "marker": {
             "line": {
              "color": "#E5ECF6",
              "width": 0.5
             }
            },
            "type": "bar"
           }
          ],
          "barpolar": [
           {
            "marker": {
             "line": {
              "color": "#E5ECF6",
              "width": 0.5
             }
            },
            "type": "barpolar"
           }
          ],
          "carpet": [
           {
            "aaxis": {
             "endlinecolor": "#2a3f5f",
             "gridcolor": "white",
             "linecolor": "white",
             "minorgridcolor": "white",
             "startlinecolor": "#2a3f5f"
            },
            "baxis": {
             "endlinecolor": "#2a3f5f",
             "gridcolor": "white",
             "linecolor": "white",
             "minorgridcolor": "white",
             "startlinecolor": "#2a3f5f"
            },
            "type": "carpet"
           }
          ],
          "choropleth": [
           {
            "colorbar": {
             "outlinewidth": 0,
             "ticks": ""
            },
            "type": "choropleth"
           }
          ],
          "contour": [
           {
            "colorbar": {
             "outlinewidth": 0,
             "ticks": ""
            },
            "colorscale": [
             [
              0,
              "#0d0887"
             ],
             [
              0.1111111111111111,
              "#46039f"
             ],
             [
              0.2222222222222222,
              "#7201a8"
             ],
             [
              0.3333333333333333,
              "#9c179e"
             ],
             [
              0.4444444444444444,
              "#bd3786"
             ],
             [
              0.5555555555555556,
              "#d8576b"
             ],
             [
              0.6666666666666666,
              "#ed7953"
             ],
             [
              0.7777777777777778,
              "#fb9f3a"
             ],
             [
              0.8888888888888888,
              "#fdca26"
             ],
             [
              1,
              "#f0f921"
             ]
            ],
            "type": "contour"
           }
          ],
          "contourcarpet": [
           {
            "colorbar": {
             "outlinewidth": 0,
             "ticks": ""
            },
            "type": "contourcarpet"
           }
          ],
          "heatmap": [
           {
            "colorbar": {
             "outlinewidth": 0,
             "ticks": ""
            },
            "colorscale": [
             [
              0,
              "#0d0887"
             ],
             [
              0.1111111111111111,
              "#46039f"
             ],
             [
              0.2222222222222222,
              "#7201a8"
             ],
             [
              0.3333333333333333,
              "#9c179e"
             ],
             [
              0.4444444444444444,
              "#bd3786"
             ],
             [
              0.5555555555555556,
              "#d8576b"
             ],
             [
              0.6666666666666666,
              "#ed7953"
             ],
             [
              0.7777777777777778,
              "#fb9f3a"
             ],
             [
              0.8888888888888888,
              "#fdca26"
             ],
             [
              1,
              "#f0f921"
             ]
            ],
            "type": "heatmap"
           }
          ],
          "heatmapgl": [
           {
            "colorbar": {
             "outlinewidth": 0,
             "ticks": ""
            },
            "colorscale": [
             [
              0,
              "#0d0887"
             ],
             [
              0.1111111111111111,
              "#46039f"
             ],
             [
              0.2222222222222222,
              "#7201a8"
             ],
             [
              0.3333333333333333,
              "#9c179e"
             ],
             [
              0.4444444444444444,
              "#bd3786"
             ],
             [
              0.5555555555555556,
              "#d8576b"
             ],
             [
              0.6666666666666666,
              "#ed7953"
             ],
             [
              0.7777777777777778,
              "#fb9f3a"
             ],
             [
              0.8888888888888888,
              "#fdca26"
             ],
             [
              1,
              "#f0f921"
             ]
            ],
            "type": "heatmapgl"
           }
          ],
          "histogram": [
           {
            "marker": {
             "colorbar": {
              "outlinewidth": 0,
              "ticks": ""
             }
            },
            "type": "histogram"
           }
          ],
          "histogram2d": [
           {
            "colorbar": {
             "outlinewidth": 0,
             "ticks": ""
            },
            "colorscale": [
             [
              0,
              "#0d0887"
             ],
             [
              0.1111111111111111,
              "#46039f"
             ],
             [
              0.2222222222222222,
              "#7201a8"
             ],
             [
              0.3333333333333333,
              "#9c179e"
             ],
             [
              0.4444444444444444,
              "#bd3786"
             ],
             [
              0.5555555555555556,
              "#d8576b"
             ],
             [
              0.6666666666666666,
              "#ed7953"
             ],
             [
              0.7777777777777778,
              "#fb9f3a"
             ],
             [
              0.8888888888888888,
              "#fdca26"
             ],
             [
              1,
              "#f0f921"
             ]
            ],
            "type": "histogram2d"
           }
          ],
          "histogram2dcontour": [
           {
            "colorbar": {
             "outlinewidth": 0,
             "ticks": ""
            },
            "colorscale": [
             [
              0,
              "#0d0887"
             ],
             [
              0.1111111111111111,
              "#46039f"
             ],
             [
              0.2222222222222222,
              "#7201a8"
             ],
             [
              0.3333333333333333,
              "#9c179e"
             ],
             [
              0.4444444444444444,
              "#bd3786"
             ],
             [
              0.5555555555555556,
              "#d8576b"
             ],
             [
              0.6666666666666666,
              "#ed7953"
             ],
             [
              0.7777777777777778,
              "#fb9f3a"
             ],
             [
              0.8888888888888888,
              "#fdca26"
             ],
             [
              1,
              "#f0f921"
             ]
            ],
            "type": "histogram2dcontour"
           }
          ],
          "mesh3d": [
           {
            "colorbar": {
             "outlinewidth": 0,
             "ticks": ""
            },
            "type": "mesh3d"
           }
          ],
          "parcoords": [
           {
            "line": {
             "colorbar": {
              "outlinewidth": 0,
              "ticks": ""
             }
            },
            "type": "parcoords"
           }
          ],
          "pie": [
           {
            "automargin": true,
            "type": "pie"
           }
          ],
          "scatter": [
           {
            "marker": {
             "colorbar": {
              "outlinewidth": 0,
              "ticks": ""
             }
            },
            "type": "scatter"
           }
          ],
          "scatter3d": [
           {
            "line": {
             "colorbar": {
              "outlinewidth": 0,
              "ticks": ""
             }
            },
            "marker": {
             "colorbar": {
              "outlinewidth": 0,
              "ticks": ""
             }
            },
            "type": "scatter3d"
           }
          ],
          "scattercarpet": [
           {
            "marker": {
             "colorbar": {
              "outlinewidth": 0,
              "ticks": ""
             }
            },
            "type": "scattercarpet"
           }
          ],
          "scattergeo": [
           {
            "marker": {
             "colorbar": {
              "outlinewidth": 0,
              "ticks": ""
             }
            },
            "type": "scattergeo"
           }
          ],
          "scattergl": [
           {
            "marker": {
             "colorbar": {
              "outlinewidth": 0,
              "ticks": ""
             }
            },
            "type": "scattergl"
           }
          ],
          "scattermapbox": [
           {
            "marker": {
             "colorbar": {
              "outlinewidth": 0,
              "ticks": ""
             }
            },
            "type": "scattermapbox"
           }
          ],
          "scatterpolar": [
           {
            "marker": {
             "colorbar": {
              "outlinewidth": 0,
              "ticks": ""
             }
            },
            "type": "scatterpolar"
           }
          ],
          "scatterpolargl": [
           {
            "marker": {
             "colorbar": {
              "outlinewidth": 0,
              "ticks": ""
             }
            },
            "type": "scatterpolargl"
           }
          ],
          "scatterternary": [
           {
            "marker": {
             "colorbar": {
              "outlinewidth": 0,
              "ticks": ""
             }
            },
            "type": "scatterternary"
           }
          ],
          "surface": [
           {
            "colorbar": {
             "outlinewidth": 0,
             "ticks": ""
            },
            "colorscale": [
             [
              0,
              "#0d0887"
             ],
             [
              0.1111111111111111,
              "#46039f"
             ],
             [
              0.2222222222222222,
              "#7201a8"
             ],
             [
              0.3333333333333333,
              "#9c179e"
             ],
             [
              0.4444444444444444,
              "#bd3786"
             ],
             [
              0.5555555555555556,
              "#d8576b"
             ],
             [
              0.6666666666666666,
              "#ed7953"
             ],
             [
              0.7777777777777778,
              "#fb9f3a"
             ],
             [
              0.8888888888888888,
              "#fdca26"
             ],
             [
              1,
              "#f0f921"
             ]
            ],
            "type": "surface"
           }
          ],
          "table": [
           {
            "cells": {
             "fill": {
              "color": "#EBF0F8"
             },
             "line": {
              "color": "white"
             }
            },
            "header": {
             "fill": {
              "color": "#C8D4E3"
             },
             "line": {
              "color": "white"
             }
            },
            "type": "table"
           }
          ]
         },
         "layout": {
          "annotationdefaults": {
           "arrowcolor": "#2a3f5f",
           "arrowhead": 0,
           "arrowwidth": 1
          },
          "autotypenumbers": "strict",
          "coloraxis": {
           "colorbar": {
            "outlinewidth": 0,
            "ticks": ""
           }
          },
          "colorscale": {
           "diverging": [
            [
             0,
             "#8e0152"
            ],
            [
             0.1,
             "#c51b7d"
            ],
            [
             0.2,
             "#de77ae"
            ],
            [
             0.3,
             "#f1b6da"
            ],
            [
             0.4,
             "#fde0ef"
            ],
            [
             0.5,
             "#f7f7f7"
            ],
            [
             0.6,
             "#e6f5d0"
            ],
            [
             0.7,
             "#b8e186"
            ],
            [
             0.8,
             "#7fbc41"
            ],
            [
             0.9,
             "#4d9221"
            ],
            [
             1,
             "#276419"
            ]
           ],
           "sequential": [
            [
             0,
             "#0d0887"
            ],
            [
             0.1111111111111111,
             "#46039f"
            ],
            [
             0.2222222222222222,
             "#7201a8"
            ],
            [
             0.3333333333333333,
             "#9c179e"
            ],
            [
             0.4444444444444444,
             "#bd3786"
            ],
            [
             0.5555555555555556,
             "#d8576b"
            ],
            [
             0.6666666666666666,
             "#ed7953"
            ],
            [
             0.7777777777777778,
             "#fb9f3a"
            ],
            [
             0.8888888888888888,
             "#fdca26"
            ],
            [
             1,
             "#f0f921"
            ]
           ],
           "sequentialminus": [
            [
             0,
             "#0d0887"
            ],
            [
             0.1111111111111111,
             "#46039f"
            ],
            [
             0.2222222222222222,
             "#7201a8"
            ],
            [
             0.3333333333333333,
             "#9c179e"
            ],
            [
             0.4444444444444444,
             "#bd3786"
            ],
            [
             0.5555555555555556,
             "#d8576b"
            ],
            [
             0.6666666666666666,
             "#ed7953"
            ],
            [
             0.7777777777777778,
             "#fb9f3a"
            ],
            [
             0.8888888888888888,
             "#fdca26"
            ],
            [
             1,
             "#f0f921"
            ]
           ]
          },
          "colorway": [
           "#636efa",
           "#EF553B",
           "#00cc96",
           "#ab63fa",
           "#FFA15A",
           "#19d3f3",
           "#FF6692",
           "#B6E880",
           "#FF97FF",
           "#FECB52"
          ],
          "font": {
           "color": "#2a3f5f"
          },
          "geo": {
           "bgcolor": "white",
           "lakecolor": "white",
           "landcolor": "#E5ECF6",
           "showlakes": true,
           "showland": true,
           "subunitcolor": "white"
          },
          "hoverlabel": {
           "align": "left"
          },
          "hovermode": "closest",
          "mapbox": {
           "style": "light"
          },
          "paper_bgcolor": "white",
          "plot_bgcolor": "#E5ECF6",
          "polar": {
           "angularaxis": {
            "gridcolor": "white",
            "linecolor": "white",
            "ticks": ""
           },
           "bgcolor": "#E5ECF6",
           "radialaxis": {
            "gridcolor": "white",
            "linecolor": "white",
            "ticks": ""
           }
          },
          "scene": {
           "xaxis": {
            "backgroundcolor": "#E5ECF6",
            "gridcolor": "white",
            "gridwidth": 2,
            "linecolor": "white",
            "showbackground": true,
            "ticks": "",
            "zerolinecolor": "white"
           },
           "yaxis": {
            "backgroundcolor": "#E5ECF6",
            "gridcolor": "white",
            "gridwidth": 2,
            "linecolor": "white",
            "showbackground": true,
            "ticks": "",
            "zerolinecolor": "white"
           },
           "zaxis": {
            "backgroundcolor": "#E5ECF6",
            "gridcolor": "white",
            "gridwidth": 2,
            "linecolor": "white",
            "showbackground": true,
            "ticks": "",
            "zerolinecolor": "white"
           }
          },
          "shapedefaults": {
           "line": {
            "color": "#2a3f5f"
           }
          },
          "ternary": {
           "aaxis": {
            "gridcolor": "white",
            "linecolor": "white",
            "ticks": ""
           },
           "baxis": {
            "gridcolor": "white",
            "linecolor": "white",
            "ticks": ""
           },
           "bgcolor": "#E5ECF6",
           "caxis": {
            "gridcolor": "white",
            "linecolor": "white",
            "ticks": ""
           }
          },
          "title": {
           "x": 0.05
          },
          "xaxis": {
           "automargin": true,
           "gridcolor": "white",
           "linecolor": "white",
           "ticks": "",
           "title": {
            "standoff": 15
           },
           "zerolinecolor": "white",
           "zerolinewidth": 2
          },
          "yaxis": {
           "automargin": true,
           "gridcolor": "white",
           "linecolor": "white",
           "ticks": "",
           "title": {
            "standoff": 15
           },
           "zerolinecolor": "white",
           "zerolinewidth": 2
          }
         }
        },
        "title": {
         "text": "Top 20 Columns Correlated to Target"
        },
        "width": 1200,
        "xaxis": {
         "anchor": "y",
         "domain": [
          0,
          1
         ],
         "title": {
          "text": "Column name"
         }
        },
        "yaxis": {
         "anchor": "x",
         "domain": [
          0,
          1
         ],
         "title": {
          "text": "Correlation"
         }
        }
       }
      }
     },
     "metadata": {}
    }
   ],
   "metadata": {}
  },
  {
   "cell_type": "markdown",
   "source": [
    "---\n",
    "---\n",
    "---\n",
    "---\n",
    "---"
   ],
   "metadata": {}
  }
 ],
 "metadata": {
  "orig_nbformat": 4,
  "language_info": {
   "name": "python",
   "version": "3.9.5",
   "mimetype": "text/x-python",
   "codemirror_mode": {
    "name": "ipython",
    "version": 3
   },
   "pygments_lexer": "ipython3",
   "nbconvert_exporter": "python",
   "file_extension": ".py"
  },
  "kernelspec": {
   "name": "python3",
   "display_name": "Python 3.9.5 64-bit (conda)"
  },
  "interpreter": {
   "hash": "87142f5ce831c365860d10ab1d6251a6bfb068b987aa68f91a7996e4fcdedd96"
  }
 },
 "nbformat": 4,
 "nbformat_minor": 2
}