{
 "cells": [
  {
   "cell_type": "markdown",
   "source": [
    "## Import dependancies\n"
   ],
   "metadata": {}
  },
  {
   "cell_type": "code",
   "execution_count": null,
   "source": [
    "import os\n",
    "import sys\n",
    "\n",
    "src_path = os.path.abspath(os.path.join(\"../src\"))\n",
    "if src_path not in sys.path:\n",
    "    sys.path.append(src_path)\n",
    "\n",
    "import data.make_dataset as make_dataset\n",
    "import visualization.visualize as visualize\n",
    "import features.build_features as build_features\n",
    "\n",
    "# numpy and pandas for data manipulation\n",
    "import numpy as np\n",
    "import pandas as pd\n",
    "\n",
    "# sklearn preprocessing for dealing with categorical variables\n",
    "from sklearn.preprocessing import LabelEncoder\n",
    "\n",
    "# File system manangement\n",
    "import os\n",
    "\n",
    "# matplotlib and seaborn for plotting\n",
    "import matplotlib.pyplot as plt\n",
    "import seaborn as sns\n",
    "import plotly.express as px\n",
    "\n"
   ],
   "outputs": [],
   "metadata": {}
  },
  {
   "cell_type": "markdown",
   "source": [
    "## Prepare data loading : set correct variable types\n"
   ],
   "metadata": {}
  },
  {
   "cell_type": "code",
   "execution_count": null,
   "source": [
    "# Read column names\n",
    "column_names = pd.read_csv(\n",
    "    \"../data/processed/application_train.csv\", nrows=0\n",
    ").columns.values\n",
    "\n",
    "# Set column types according to fields description (https://static.openfoodfacts.org/data/data-fields.txt)\n",
    "column_types = {\n",
    "    col: \"category\"\n",
    "    for col in column_names\n",
    "    if col.startswith((\"NAME_\",))\n",
    "    or col.endswith((\"_TYPE\"))\n",
    "    or col\n",
    "    in [\n",
    "        \"CODE_GENDER\",\n",
    "        \"WEEKDAY_APPR_PROCESS_START\",\n",
    "        \"FONDKAPREMONT_MODE\",\n",
    "        \"HOUSETYPE_MODE\",\n",
    "        \"WALLSMATERIAL_MODE\",\n",
    "        \"EMERGENCYSTATE_MODE\",\n",
    "    ]\n",
    "}\n",
    "column_types |= {\n",
    "    col: bool\n",
    "    for col in column_names\n",
    "    if col.startswith((\"FLAG_\", \"REG_\", \"LIVE_\"))\n",
    "}\n"
   ],
   "outputs": [],
   "metadata": {}
  },
  {
   "cell_type": "markdown",
   "source": [
    "## Application and Test data loading and first observations\n"
   ],
   "metadata": {}
  },
  {
   "cell_type": "markdown",
   "source": [
    "### Application training data\n"
   ],
   "metadata": {}
  },
  {
   "cell_type": "code",
   "execution_count": null,
   "source": [
    "# Load application data\n",
    "app_train_df = pd.read_csv(\n",
    "    \"../data/processed/application_train.csv\",\n",
    "    dtype=column_types,\n",
    "    true_values=[\"Y\", \"Yes\", \"1\"],\n",
    "    false_values=[\"N\", \"No\", \"0\"],\n",
    "    na_values=[\"XNA\"],\n",
    ")\n",
    "\n",
    "# Application data features\n",
    "app_train_df.head()\n"
   ],
   "outputs": [],
   "metadata": {}
  },
  {
   "cell_type": "code",
   "execution_count": null,
   "source": [
    "# Application data columns info\n",
    "app_train_df.info()\n"
   ],
   "outputs": [],
   "metadata": {}
  },
  {
   "cell_type": "code",
   "execution_count": null,
   "source": [
    "# Application data variables description\n",
    "app_train_df.describe(include=\"all\")\n"
   ],
   "outputs": [],
   "metadata": {}
  },
  {
   "cell_type": "markdown",
   "source": [
    "### Application testing data\n"
   ],
   "metadata": {}
  },
  {
   "cell_type": "code",
   "execution_count": null,
   "source": [
    "# Load test data\n",
    "app_test_df = pd.read_csv(\n",
    "    \"../data/processed/application_test.csv\",\n",
    "    dtype=column_types,\n",
    "    true_values=[\"Y\", \"Yes\", \"1\"],\n",
    "    false_values=[\"N\", \"No\", \"0\"],\n",
    "    na_values=[\"XNA\"],\n",
    ")\n",
    "\n",
    "# Test data features\n",
    "app_test_df.head()\n"
   ],
   "outputs": [],
   "metadata": {}
  },
  {
   "cell_type": "code",
   "execution_count": null,
   "source": [
    "# Test data columns info\n",
    "app_test_df.info()\n"
   ],
   "outputs": [],
   "metadata": {}
  },
  {
   "cell_type": "code",
   "execution_count": null,
   "source": [
    "# Test data variables description\n",
    "app_test_df.describe(include=\"all\")\n"
   ],
   "outputs": [],
   "metadata": {}
  },
  {
   "cell_type": "markdown",
   "source": [
    "## Exploratory Data Analysis (EDA)\n"
   ],
   "metadata": {}
  },
  {
   "cell_type": "markdown",
   "source": [
    "### Look for empty columns"
   ],
   "metadata": {}
  },
  {
   "cell_type": "code",
   "execution_count": null,
   "source": [
    "# Plot application columns emptiness ratio\n",
    "visualize.plot_empty_values(app_train_df)\n"
   ],
   "outputs": [],
   "metadata": {}
  },
  {
   "cell_type": "code",
   "execution_count": null,
   "source": [
    "# Plot test columns emptiness ratio\n",
    "visualize.plot_empty_values(app_test_df)\n"
   ],
   "outputs": [],
   "metadata": {}
  },
  {
   "cell_type": "markdown",
   "source": [
    "### Look at numerical variables\n"
   ],
   "metadata": {}
  },
  {
   "cell_type": "code",
   "execution_count": null,
   "source": [
    "clean_app_train_df = build_features.drop_impossible_values(\n",
    "    app_train_df,\n",
    "    constraints={\n",
    "        \"AMT_INCOME_TOTAL\": {\"min\": 0, \"max\": 20 * 1000 * 1000,},\n",
    "        \"DAYS_EMPLOYED\": {\"min\": -100 * 365, \"max\": 0,},\n",
    "        \"AMT_REQ_CREDIT_BUREAU_QRT\": {\"min\": 0, \"max\": 20,},\n",
    "        \"OBS_30_CNT_SOCIAL_CIRCLE\": {\"min\": 0, \"max\": 200,},\n",
    "        \"DEF_30_CNT_SOCIAL_CIRCLE\": {\"min\": 0, \"max\": 20,},\n",
    "        \"OBS_60_CNT_SOCIAL_CIRCLE\": {\"min\": 0, \"max\": 200,},\n",
    "        \"DEF_60_CNT_SOCIAL_CIRCLE\": {\"min\": 0, \"max\": 20,},\n",
    "    },\n",
    ")\n",
    "clean_app_train_df = build_features.drop_outliers(\n",
    "    clean_app_train_df, columns=[\"REGION_POPULATION_RELATIVE\"],\n",
    ")\n",
    "\n",
    "# Draw the BoxPlots of each numeric column, split per Nutrition Grade\n",
    "visualize.plot_boxes(\n",
    "    dataframe=clean_app_train_df,\n",
    "    plot_columns=[\n",
    "        \"AMT_INCOME_TOTAL\",\n",
    "        \"AMT_CREDIT\",\n",
    "        \"AMT_ANNUITY\",\n",
    "        \"AMT_GOODS_PRICE\",\n",
    "        \"DAYS_BIRTH\",\n",
    "        \"DAYS_EMPLOYED\",\n",
    "        \"OWN_CAR_AGE\",\n",
    "        \"REGION_RATING_CLIENT\",\n",
    "        \"REGION_RATING_CLIENT_W_CITY\",\n",
    "        \"EXT_SOURCE_1\",\n",
    "        \"EXT_SOURCE_2\",\n",
    "        \"EXT_SOURCE_3\",\n",
    "        \"DAYS_LAST_PHONE_CHANGE\",\n",
    "        \"AMT_REQ_CREDIT_BUREAU_YEAR\",\n",
    "    ],\n",
    "    categorical_column=\"TARGET\",\n",
    ")\n"
   ],
   "outputs": [],
   "metadata": {}
  },
  {
   "cell_type": "code",
   "execution_count": null,
   "source": [
    "clean_app_test_df = build_features.drop_impossible_values(\n",
    "    app_test_df,\n",
    "    constraints={\n",
    "        \"DAYS_EMPLOYED\": {\"min\": -100 * 365, \"max\": 0,},\n",
    "        \"AMT_REQ_CREDIT_BUREAU_QRT\": {\"min\": 0, \"max\": 20,},\n",
    "        \"OBS_30_CNT_SOCIAL_CIRCLE\": {\"min\": 0, \"max\": 200,},\n",
    "        \"DEF_30_CNT_SOCIAL_CIRCLE\": {\"min\": 0, \"max\": 20,},\n",
    "        \"OBS_60_CNT_SOCIAL_CIRCLE\": {\"min\": 0, \"max\": 200,},\n",
    "        \"DEF_60_CNT_SOCIAL_CIRCLE\": {\"min\": 0, \"max\": 20,},\n",
    "    },\n",
    ")\n",
    "clean_app_test_df = build_features.drop_outliers(\n",
    "    clean_app_test_df, columns=[\"REGION_POPULATION_RELATIVE\"],\n",
    ")"
   ],
   "outputs": [],
   "metadata": {}
  },
  {
   "cell_type": "markdown",
   "source": [
    "### Look at categorical variables\n"
   ],
   "metadata": {}
  },
  {
   "cell_type": "code",
   "execution_count": null,
   "source": [
    "visualize.plot_categories_bars(\n",
    "    clean_app_train_df,\n",
    "    plot_columns=[\n",
    "        \"NAME_CONTRACT_TYPE\",\n",
    "        \"CODE_GENDER\",\n",
    "        \"FLAG_OWN_CAR\",\n",
    "        \"FLAG_OWN_REALTY\",\n",
    "        \"NAME_INCOME_TYPE\",\n",
    "        \"NAME_EDUCATION_TYPE\",\n",
    "        \"NAME_FAMILY_STATUS\",\n",
    "        \"NAME_HOUSING_TYPE\",\n",
    "        \"OCCUPATION_TYPE\",\n",
    "        \"FLAG_MOBIL\",\n",
    "    ],\n",
    "    categorical_column=\"TARGET\",\n",
    ")\n"
   ],
   "outputs": [],
   "metadata": {}
  },
  {
   "cell_type": "markdown",
   "source": [
    "#### One Hot Encoding\n",
    "\n",
    "No ordinal data => One Hot Encoding is better than Label Encoding\n"
   ],
   "metadata": {}
  },
  {
   "cell_type": "code",
   "execution_count": null,
   "source": [
    "# one-hot encoding of categorical variables\n",
    "encoded_app_train_df = pd.get_dummies(clean_app_train_df, dtype=bool)\n",
    "encoded_app_test_df = pd.get_dummies(clean_app_test_df, dtype=bool)\n",
    "\n",
    "train_labels = encoded_app_train_df['TARGET']\n",
    "\n",
    "# Align the training and testing data, keep only columns present in both dataframes\n",
    "encoded_app_train_df, encoded_app_test_df = encoded_app_train_df.align(encoded_app_test_df, join = 'inner', axis = 1)\n",
    "\n",
    "# Add the target back in\n",
    "encoded_app_train_df['TARGET'] = train_labels\n",
    "\n",
    "print('Training Features shape: ', encoded_app_train_df.shape)\n",
    "print('Testing Features shape: ', encoded_app_test_df.shape)\n"
   ],
   "outputs": [],
   "metadata": {}
  },
  {
   "cell_type": "markdown",
   "source": [
    "#### Features selection\n",
    "\n",
    "Variables that are not highly correlated to an other, and at least a bit correlated to TARGET."
   ],
   "metadata": {}
  },
  {
   "cell_type": "code",
   "execution_count": null,
   "source": [
    "corrs_app_train_df = encoded_app_train_df.corr()\n",
    "fig = px.imshow(corrs_app_train_df,\n",
    "    title=\"Correlations between features\",\n",
    "    width=1200,\n",
    "    height=1200,\n",
    ")\n",
    "fig.show()"
   ],
   "outputs": [],
   "metadata": {}
  },
  {
   "cell_type": "code",
   "execution_count": null,
   "source": [
    "highly_correlated_columns = []\n",
    "for i in range(len(corrs_app_train_df.columns)):\n",
    "    for j in range(i + 1, len(corrs_app_train_df.columns)):\n",
    "        if i != j and abs(corrs_app_train_df.iloc[i, j]) > 0.99:\n",
    "            highly_correlated_columns.append(corrs_app_train_df.columns[i])\n",
    "            print(\n",
    "                \"Highly correlated pair : \",\n",
    "                corrs_app_train_df.columns[i],\n",
    "                corrs_app_train_df.columns[j],\n",
    "                corrs_app_train_df.iloc[i, j],\n",
    "            )\n",
    "\n",
    "highly_decorrelated_from_target_columns = []\n",
    "for col in corrs_app_train_df.columns:\n",
    "    if col != \"TARGET\" and abs(corrs_app_train_df[col][\"TARGET\"]) < 0.001:\n",
    "        highly_decorrelated_from_target_columns.append(col)\n",
    "        print(\n",
    "            \"Highly de-correlated from TARGET : \",\n",
    "            col,\n",
    "            corrs_app_train_df[col][\"TARGET\"],\n",
    "        )\n"
   ],
   "outputs": [],
   "metadata": {}
  },
  {
   "cell_type": "markdown",
   "source": [
    "---\n",
    "---\n",
    "---\n",
    "---\n",
    "---"
   ],
   "metadata": {}
  }
 ],
 "metadata": {
  "orig_nbformat": 4,
  "language_info": {
   "name": "python",
   "version": "3.9.5",
   "mimetype": "text/x-python",
   "codemirror_mode": {
    "name": "ipython",
    "version": 3
   },
   "pygments_lexer": "ipython3",
   "nbconvert_exporter": "python",
   "file_extension": ".py"
  },
  "kernelspec": {
   "name": "python3",
   "display_name": "Python 3.9.5 64-bit (conda)"
  },
  "interpreter": {
   "hash": "87142f5ce831c365860d10ab1d6251a6bfb068b987aa68f91a7996e4fcdedd96"
  }
 },
 "nbformat": 4,
 "nbformat_minor": 2
}